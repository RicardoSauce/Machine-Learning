{
 "cells": [
  {
   "cell_type": "code",
   "execution_count": 1,
   "metadata": {},
   "outputs": [
    {
     "data": {
      "text/html": [
       "<div>\n",
       "<style scoped>\n",
       "    .dataframe tbody tr th:only-of-type {\n",
       "        vertical-align: middle;\n",
       "    }\n",
       "\n",
       "    .dataframe tbody tr th {\n",
       "        vertical-align: top;\n",
       "    }\n",
       "\n",
       "    .dataframe thead th {\n",
       "        text-align: right;\n",
       "    }\n",
       "</style>\n",
       "<table border=\"1\" class=\"dataframe\">\n",
       "  <thead>\n",
       "    <tr style=\"text-align: right;\">\n",
       "      <th></th>\n",
       "      <th>Unnamed: 0</th>\n",
       "      <th>mpg</th>\n",
       "      <th>cylinders</th>\n",
       "      <th>displacement</th>\n",
       "      <th>horsepower</th>\n",
       "      <th>weight</th>\n",
       "      <th>acceleration</th>\n",
       "      <th>year</th>\n",
       "      <th>origin</th>\n",
       "      <th>name</th>\n",
       "      <th>mpg01</th>\n",
       "    </tr>\n",
       "  </thead>\n",
       "  <tbody>\n",
       "    <tr>\n",
       "      <th>0</th>\n",
       "      <td>1</td>\n",
       "      <td>18.0</td>\n",
       "      <td>8</td>\n",
       "      <td>307.0</td>\n",
       "      <td>130</td>\n",
       "      <td>3504</td>\n",
       "      <td>12.0</td>\n",
       "      <td>70</td>\n",
       "      <td>1</td>\n",
       "      <td>chevrolet chevelle malibu</td>\n",
       "      <td>0</td>\n",
       "    </tr>\n",
       "    <tr>\n",
       "      <th>1</th>\n",
       "      <td>2</td>\n",
       "      <td>15.0</td>\n",
       "      <td>8</td>\n",
       "      <td>350.0</td>\n",
       "      <td>165</td>\n",
       "      <td>3693</td>\n",
       "      <td>11.5</td>\n",
       "      <td>70</td>\n",
       "      <td>1</td>\n",
       "      <td>buick skylark 320</td>\n",
       "      <td>0</td>\n",
       "    </tr>\n",
       "    <tr>\n",
       "      <th>2</th>\n",
       "      <td>3</td>\n",
       "      <td>18.0</td>\n",
       "      <td>8</td>\n",
       "      <td>318.0</td>\n",
       "      <td>150</td>\n",
       "      <td>3436</td>\n",
       "      <td>11.0</td>\n",
       "      <td>70</td>\n",
       "      <td>1</td>\n",
       "      <td>plymouth satellite</td>\n",
       "      <td>0</td>\n",
       "    </tr>\n",
       "    <tr>\n",
       "      <th>3</th>\n",
       "      <td>4</td>\n",
       "      <td>16.0</td>\n",
       "      <td>8</td>\n",
       "      <td>304.0</td>\n",
       "      <td>150</td>\n",
       "      <td>3433</td>\n",
       "      <td>12.0</td>\n",
       "      <td>70</td>\n",
       "      <td>1</td>\n",
       "      <td>amc rebel sst</td>\n",
       "      <td>0</td>\n",
       "    </tr>\n",
       "    <tr>\n",
       "      <th>4</th>\n",
       "      <td>5</td>\n",
       "      <td>17.0</td>\n",
       "      <td>8</td>\n",
       "      <td>302.0</td>\n",
       "      <td>140</td>\n",
       "      <td>3449</td>\n",
       "      <td>10.5</td>\n",
       "      <td>70</td>\n",
       "      <td>1</td>\n",
       "      <td>ford torino</td>\n",
       "      <td>0</td>\n",
       "    </tr>\n",
       "    <tr>\n",
       "      <th>...</th>\n",
       "      <td>...</td>\n",
       "      <td>...</td>\n",
       "      <td>...</td>\n",
       "      <td>...</td>\n",
       "      <td>...</td>\n",
       "      <td>...</td>\n",
       "      <td>...</td>\n",
       "      <td>...</td>\n",
       "      <td>...</td>\n",
       "      <td>...</td>\n",
       "      <td>...</td>\n",
       "    </tr>\n",
       "    <tr>\n",
       "      <th>387</th>\n",
       "      <td>393</td>\n",
       "      <td>27.0</td>\n",
       "      <td>4</td>\n",
       "      <td>140.0</td>\n",
       "      <td>86</td>\n",
       "      <td>2790</td>\n",
       "      <td>15.6</td>\n",
       "      <td>82</td>\n",
       "      <td>1</td>\n",
       "      <td>ford mustang gl</td>\n",
       "      <td>1</td>\n",
       "    </tr>\n",
       "    <tr>\n",
       "      <th>388</th>\n",
       "      <td>394</td>\n",
       "      <td>44.0</td>\n",
       "      <td>4</td>\n",
       "      <td>97.0</td>\n",
       "      <td>52</td>\n",
       "      <td>2130</td>\n",
       "      <td>24.6</td>\n",
       "      <td>82</td>\n",
       "      <td>2</td>\n",
       "      <td>vw pickup</td>\n",
       "      <td>1</td>\n",
       "    </tr>\n",
       "    <tr>\n",
       "      <th>389</th>\n",
       "      <td>395</td>\n",
       "      <td>32.0</td>\n",
       "      <td>4</td>\n",
       "      <td>135.0</td>\n",
       "      <td>84</td>\n",
       "      <td>2295</td>\n",
       "      <td>11.6</td>\n",
       "      <td>82</td>\n",
       "      <td>1</td>\n",
       "      <td>dodge rampage</td>\n",
       "      <td>1</td>\n",
       "    </tr>\n",
       "    <tr>\n",
       "      <th>390</th>\n",
       "      <td>396</td>\n",
       "      <td>28.0</td>\n",
       "      <td>4</td>\n",
       "      <td>120.0</td>\n",
       "      <td>79</td>\n",
       "      <td>2625</td>\n",
       "      <td>18.6</td>\n",
       "      <td>82</td>\n",
       "      <td>1</td>\n",
       "      <td>ford ranger</td>\n",
       "      <td>1</td>\n",
       "    </tr>\n",
       "    <tr>\n",
       "      <th>391</th>\n",
       "      <td>397</td>\n",
       "      <td>31.0</td>\n",
       "      <td>4</td>\n",
       "      <td>119.0</td>\n",
       "      <td>82</td>\n",
       "      <td>2720</td>\n",
       "      <td>19.4</td>\n",
       "      <td>82</td>\n",
       "      <td>1</td>\n",
       "      <td>chevy s-10</td>\n",
       "      <td>1</td>\n",
       "    </tr>\n",
       "  </tbody>\n",
       "</table>\n",
       "<p>392 rows × 11 columns</p>\n",
       "</div>"
      ],
      "text/plain": [
       "     Unnamed: 0   mpg  cylinders  displacement  horsepower  weight  \\\n",
       "0             1  18.0          8         307.0         130    3504   \n",
       "1             2  15.0          8         350.0         165    3693   \n",
       "2             3  18.0          8         318.0         150    3436   \n",
       "3             4  16.0          8         304.0         150    3433   \n",
       "4             5  17.0          8         302.0         140    3449   \n",
       "..          ...   ...        ...           ...         ...     ...   \n",
       "387         393  27.0          4         140.0          86    2790   \n",
       "388         394  44.0          4          97.0          52    2130   \n",
       "389         395  32.0          4         135.0          84    2295   \n",
       "390         396  28.0          4         120.0          79    2625   \n",
       "391         397  31.0          4         119.0          82    2720   \n",
       "\n",
       "     acceleration  year  origin                       name  mpg01  \n",
       "0            12.0    70       1  chevrolet chevelle malibu      0  \n",
       "1            11.5    70       1          buick skylark 320      0  \n",
       "2            11.0    70       1         plymouth satellite      0  \n",
       "3            12.0    70       1              amc rebel sst      0  \n",
       "4            10.5    70       1                ford torino      0  \n",
       "..            ...   ...     ...                        ...    ...  \n",
       "387          15.6    82       1            ford mustang gl      1  \n",
       "388          24.6    82       2                  vw pickup      1  \n",
       "389          11.6    82       1              dodge rampage      1  \n",
       "390          18.6    82       1                ford ranger      1  \n",
       "391          19.4    82       1                 chevy s-10      1  \n",
       "\n",
       "[392 rows x 11 columns]"
      ]
     },
     "execution_count": 1,
     "metadata": {},
     "output_type": "execute_result"
    }
   ],
   "source": [
    "import pandas as pd\n",
    "import numpy as np\n",
    "import matplotlib.pyplot as plt\n",
    "import seaborn as sns\n",
    "import os\n",
    "pd.set_option('display.max_columns', 500)\n",
    "\n",
    "#git init\n",
    "#git add <folder1> <folder2> <etc.>\n",
    "#git commit -m \"Your message about the commit\"\n",
    "#git remote add origin https://github.com/yourUsername/yourRepository.git\n",
    "#git push -u origin master\n",
    "#git push origin master\n",
    "\n",
    "path = os.getcwd()\n",
    "auto = pd.read_csv(os.path.join(path, 'Data-Auto.csv'), engine = 'python')\n",
    "auto.describe()\n",
    "auto['mpg01'] = np.where(auto['mpg']  > 22.75, 1, 0)\n",
    "#sns.pairplot(auto, vars = ['mpg','cylinders','displacement','horsepower', 'weight', 'acceleration', 'year', 'mpg01'])\n",
    "auto"
   ]
  },
  {
   "cell_type": "code",
   "execution_count": 2,
   "metadata": {},
   "outputs": [
    {
     "name": "stdout",
     "output_type": "stream",
     "text": [
      "mpg\n",
      "0.8369392291536188\n"
     ]
    },
    {
     "name": "stderr",
     "output_type": "stream",
     "text": [
      "/Library/Frameworks/Python.framework/Versions/3.6/lib/python3.6/site-packages/seaborn/_decorators.py:43: FutureWarning: Pass the following variables as keyword args: x, y. From version 0.12, the only valid positional argument will be `data`, and passing other arguments without an explicit keyword will result in an error or misinterpretation.\n",
      "  FutureWarning\n"
     ]
    },
    {
     "data": {
      "image/png": "[encoded data removed]",
      "text/plain": [
       "<Figure size 432x288 with 1 Axes>"
      ]
     },
     "metadata": {
      "needs_background": "light"
     },
     "output_type": "display_data"
    },
    {
     "name": "stdout",
     "output_type": "stream",
     "text": [
      "cylinders\n",
      "-0.7591938865422192\n"
     ]
    },
    {
     "name": "stderr",
     "output_type": "stream",
     "text": [
      "/Library/Frameworks/Python.framework/Versions/3.6/lib/python3.6/site-packages/seaborn/_decorators.py:43: FutureWarning: Pass the following variables as keyword args: x, y. From version 0.12, the only valid positional argument will be `data`, and passing other arguments without an explicit keyword will result in an error or misinterpretation.\n",
      "  FutureWarning\n"
     ]
    },
    {
     "data": {
      "image/png": "[encoded data removed]",
      "text/plain": [
       "<Figure size 432x288 with 1 Axes>"
      ]
     },
     "metadata": {
      "needs_background": "light"
     },
     "output_type": "display_data"
    },
    {
     "name": "stdout",
     "output_type": "stream",
     "text": [
      "displacement\n",
      "-0.7534765935235884\n"
     ]
    },
    {
     "name": "stderr",
     "output_type": "stream",
     "text": [
      "/Library/Frameworks/Python.framework/Versions/3.6/lib/python3.6/site-packages/seaborn/_decorators.py:43: FutureWarning: Pass the following variables as keyword args: x, y. From version 0.12, the only valid positional argument will be `data`, and passing other arguments without an explicit keyword will result in an error or misinterpretation.\n",
      "  FutureWarning\n"
     ]
    },
    {
     "data": {
      "image/png": "[encoded data removed]",
      "text/plain": [
       "<Figure size 432x288 with 1 Axes>"
      ]
     },
     "metadata": {
      "needs_background": "light"
     },
     "output_type": "display_data"
    },
    {
     "name": "stdout",
     "output_type": "stream",
     "text": [
      "horsepower\n",
      "-0.6670525810471589\n"
     ]
    },
    {
     "name": "stderr",
     "output_type": "stream",
     "text": [
      "/Library/Frameworks/Python.framework/Versions/3.6/lib/python3.6/site-packages/seaborn/_decorators.py:43: FutureWarning: Pass the following variables as keyword args: x, y. From version 0.12, the only valid positional argument will be `data`, and passing other arguments without an explicit keyword will result in an error or misinterpretation.\n",
      "  FutureWarning\n"
     ]
    },
    {
     "data": {
      "image/png": "[encoded data removed]",
      "text/plain": [
       "<Figure size 432x288 with 1 Axes>"
      ]
     },
     "metadata": {
      "needs_background": "light"
     },
     "output_type": "display_data"
    },
    {
     "name": "stdout",
     "output_type": "stream",
     "text": [
      "weight\n",
      "-0.7577565714269806\n"
     ]
    },
    {
     "name": "stderr",
     "output_type": "stream",
     "text": [
      "/Library/Frameworks/Python.framework/Versions/3.6/lib/python3.6/site-packages/seaborn/_decorators.py:43: FutureWarning: Pass the following variables as keyword args: x, y. From version 0.12, the only valid positional argument will be `data`, and passing other arguments without an explicit keyword will result in an error or misinterpretation.\n",
      "  FutureWarning\n"
     ]
    },
    {
     "data": {
      "image/png": "[encoded data removed]",
      "text/plain": [
       "<Figure size 432x288 with 1 Axes>"
      ]
     },
     "metadata": {
      "needs_background": "light"
     },
     "output_type": "display_data"
    },
    {
     "name": "stdout",
     "output_type": "stream",
     "text": [
      "acceleration\n",
      "0.3468215300809347\n"
     ]
    },
    {
     "name": "stderr",
     "output_type": "stream",
     "text": [
      "/Library/Frameworks/Python.framework/Versions/3.6/lib/python3.6/site-packages/seaborn/_decorators.py:43: FutureWarning: Pass the following variables as keyword args: x, y. From version 0.12, the only valid positional argument will be `data`, and passing other arguments without an explicit keyword will result in an error or misinterpretation.\n",
      "  FutureWarning\n"
     ]
    },
    {
     "data": {
      "image/png": "[encoded data removed]",
      "text/plain": [
       "<Figure size 432x288 with 1 Axes>"
      ]
     },
     "metadata": {
      "needs_background": "light"
     },
     "output_type": "display_data"
    },
    {
     "name": "stdout",
     "output_type": "stream",
     "text": [
      "year\n",
      "0.4299042265749266\n"
     ]
    },
    {
     "name": "stderr",
     "output_type": "stream",
     "text": [
      "/Library/Frameworks/Python.framework/Versions/3.6/lib/python3.6/site-packages/seaborn/_decorators.py:43: FutureWarning: Pass the following variables as keyword args: x, y. From version 0.12, the only valid positional argument will be `data`, and passing other arguments without an explicit keyword will result in an error or misinterpretation.\n",
      "  FutureWarning\n"
     ]
    },
    {
     "data": {
      "image/png": "[encoded data removed]",
      "text/plain": [
       "<Figure size 432x288 with 1 Axes>"
      ]
     },
     "metadata": {
      "needs_background": "light"
     },
     "output_type": "display_data"
    },
    {
     "name": "stdout",
     "output_type": "stream",
     "text": [
      "origin\n",
      "0.5136984483186731\n"
     ]
    },
    {
     "name": "stderr",
     "output_type": "stream",
     "text": [
      "/Library/Frameworks/Python.framework/Versions/3.6/lib/python3.6/site-packages/seaborn/_decorators.py:43: FutureWarning: Pass the following variables as keyword args: x, y. From version 0.12, the only valid positional argument will be `data`, and passing other arguments without an explicit keyword will result in an error or misinterpretation.\n",
      "  FutureWarning\n"
     ]
    },
    {
     "data": {
      "image/png": "[encoded data removed]",
      "text/plain": [
       "<Figure size 432x288 with 1 Axes>"
      ]
     },
     "metadata": {
      "needs_background": "light"
     },
     "output_type": "display_data"
    }
   ],
   "source": [
    "#11B) Which of the other\n",
    "#features seem most likely to be useful in predicting mpg01?\n",
    "for col in auto.iloc[:,1:9].columns:\n",
    "    print(col)\n",
    "    print(auto['mpg01'].corr(auto[col]))\n",
    "    sns.scatterplot(auto[col],auto['mpg01'])\n",
    "    #sns.boxplot(auto[col],auto['mpg01'],)\n",
    "    plt.title(col)\n",
    "    plt.xlabel(col)\n",
    "    plt.ylabel('mpg')\n",
    "    plt.show()\n",
    "\n",
    "#check correlation\n",
    "# I feel as if acceleration, year, and origin are good predictors for mpg01. They each\n",
    "# have high correlations and intuitively make sense in describing miles per gallon.\n",
    "# Weight ones are highly negative correlated\n"
   ]
  },
  {
   "cell_type": "code",
   "execution_count": 3,
   "metadata": {},
   "outputs": [],
   "source": [
    "#11C) \n",
    "# We'll split our dataframe in to the predictors (X) and the label (y)\n",
    "X = auto[['cylinders','displacement','horsepower','weight','acceleration']]\n",
    "y = auto['mpg01']\n",
    "from sklearn.model_selection import train_test_split\n",
    "\n",
    "# We can specify the fraction of the test size using test_size paramter\n",
    "\n",
    "# random_state allows us to specify a seed for reproducibility\n",
    "X_train, X_test, y_train, y_test = train_test_split(X, y, test_size=0.25, random_state=420)\n",
    "\n"
   ]
  },
  {
   "cell_type": "code",
   "execution_count": 4,
   "metadata": {},
   "outputs": [
    {
     "name": "stdout",
     "output_type": "stream",
     "text": [
      "Accuracy score for LDA\n",
      "0.8571428571428571\n",
      "Test Error for LDA\n",
      "0.1428571428571429\n"
     ]
    }
   ],
   "source": [
    "#11D)\n",
    "\n",
    "# We can specify the fraction of the test size using test_size paramter\n",
    "# random_state allows us to specify a seed for reproducibility\n",
    "#X_train, X_test, y_train, y_test = train_test_split(X, y, test_size=0.3, random_state=42)\n",
    "# We'll import the LinearDiscriminantAnalysis class from scikit-learn package \n",
    "# and build our classifier using the default parameters. \n",
    "from sklearn.metrics import accuracy_score\n",
    "from sklearn.discriminant_analysis import LinearDiscriminantAnalysis\n",
    "\n",
    "lda_model = LinearDiscriminantAnalysis()\n",
    "\n",
    "# Let's train our model using the fit method\n",
    "lda_model.fit(X_train, y_train)\n",
    "# Using predict method to find the set of predictions\n",
    "y_pred = lda_model.predict(X_test)\n",
    "#print(y_pred)\n",
    "# Calculating the the percentage of correctly classified labels from the test set\n",
    "print('Accuracy score for LDA')\n",
    "print(accuracy_score(y_test, y_pred))\n",
    "test_error = 1 - accuracy_score(y_test, y_pred)\n",
    "print('Test Error for LDA')\n",
    "print(test_error)"
   ]
  },
  {
   "cell_type": "code",
   "execution_count": 5,
   "metadata": {},
   "outputs": [
    {
     "name": "stdout",
     "output_type": "stream",
     "text": [
      "0.8877551020408163\n",
      "Test Error for a QDA\n",
      "0.11224489795918369\n"
     ]
    }
   ],
   "source": [
    "#11E) QDA\n",
    "# Simlarly, we'll use the QuadraticDiscriminantAnalysis class to build a QDA model on our data\n",
    "\n",
    "from sklearn.discriminant_analysis import QuadraticDiscriminantAnalysis\n",
    "qda_model = QuadraticDiscriminantAnalysis()\n",
    "qda_model.fit(X_train, y_train)\n",
    "y_pred = qda_model.predict(X_test)\n",
    "print(accuracy_score(y_test, y_pred))\n",
    "test_error = 1 - accuracy_score(y_test, y_pred)\n",
    "print('Test Error for a QDA')\n",
    "print(test_error)\n"
   ]
  },
  {
   "cell_type": "code",
   "execution_count": 6,
   "metadata": {},
   "outputs": [
    {
     "name": "stdout",
     "output_type": "stream",
     "text": [
      "0.8877551020408163\n",
      "Logistic Regression\n",
      "0.8979591836734694\n",
      "Test Error for a Logistic Regression\n",
      "0.10204081632653061\n"
     ]
    }
   ],
   "source": [
    "#11F) Logistic Regression\n",
    "from sklearn.linear_model import LogisticRegression\n",
    "logR = LogisticRegression(random_state=0).fit(X, y)\n",
    "y_predict = logR.predict(X_test)\n",
    "score = accuracy_score(y_test,y_predict)\n",
    "print(score)\n",
    "print('Logistic Regression')\n",
    "print(logR.score(X,y))\n",
    "test_error = 1 - logR.score(X,y)\n",
    "print('Test Error for a Logistic Regression')\n",
    "print(test_error)"
   ]
  },
  {
   "cell_type": "code",
   "execution_count": 7,
   "metadata": {},
   "outputs": [
    {
     "data": {
      "text/plain": [
       "0.8367346938775511"
      ]
     },
     "execution_count": 7,
     "metadata": {},
     "output_type": "execute_result"
    }
   ],
   "source": [
    "#11G) KNN on training data \n",
    "# The KNeighborsClassifier class from scikit-learn will allow us to build a KNN model\n",
    "# We're setting the number of neighbors to 5 below\n",
    "\n",
    "from sklearn.neighbors import KNeighborsClassifier\n",
    "knn_model = KNeighborsClassifier(n_neighbors=4)\n",
    "knn_model.fit(X_train, y_train)\n",
    "\n",
    "y_pred = knn_model.predict(X_test)\n",
    "accuracy_score(y_test, y_pred)"
   ]
  },
  {
   "cell_type": "code",
   "execution_count": null,
   "metadata": {},
   "outputs": [],
   "source": []
  },
  {
   "cell_type": "code",
   "execution_count": 24,
   "metadata": {},
   "outputs": [
    {
     "name": "stdout",
     "output_type": "stream",
     "text": [
      "      Unnamed: 0 default student      balance        income\n",
      "0              1      No      No   729.526495  44361.625074\n",
      "1              2      No     Yes   817.180407  12106.134700\n",
      "2              3      No      No  1073.549164  31767.138947\n",
      "3              4      No      No   529.250605  35704.493935\n",
      "4              5      No      No   785.655883  38463.495879\n",
      "...          ...     ...     ...          ...           ...\n",
      "9995        9996      No      No   711.555020  52992.378914\n",
      "9996        9997      No      No   757.962918  19660.721768\n",
      "9997        9998      No      No   845.411989  58636.156984\n",
      "9998        9999      No      No  1569.009053  36669.112365\n",
      "9999       10000      No     Yes   200.922183  16862.952321\n",
      "\n",
      "[10000 rows x 5 columns]\n"
     ]
    }
   ],
   "source": [
    "#Chapter 5\n",
    "#\n",
    "#A\n",
    "default = pd.read_csv(os.path.join(path, 'Data-Default.csv'), engine = 'python')\n",
    "print(default)\n",
    "X = default[['balance','income']]\n",
    "#print(X)\n",
    "y = default['default']\n",
    "d = {'Yes': True, 'No': False}\n",
    "y = y.map(d)\n"
   ]
  },
  {
   "cell_type": "code",
   "execution_count": 9,
   "metadata": {},
   "outputs": [
    {
     "data": {
      "text/plain": [
       "0.02629999999999999"
      ]
     },
     "execution_count": 9,
     "metadata": {},
     "output_type": "execute_result"
    }
   ],
   "source": [
    "#5A\n",
    "regA = LogisticRegression(random_state=123).fit(X, y)\n",
    "#predict = regA.predict(X)\n",
    "predict = regA.predict(X)\n",
    "score = accuracy_score(y,predict)\n",
    "score\n",
    "1- score"
   ]
  },
  {
   "cell_type": "code",
   "execution_count": 15,
   "metadata": {},
   "outputs": [
    {
     "name": "stdout",
     "output_type": "stream",
     "text": [
      "\n",
      "0.968\n",
      "Validation Set Error\n"
     ]
    },
    {
     "data": {
      "text/plain": [
       "0.03200000000000003"
      ]
     },
     "execution_count": 15,
     "metadata": {},
     "output_type": "execute_result"
    }
   ],
   "source": [
    "#5B \n",
    "#i)\n",
    "X_train, X_val, y_train, y_val = train_test_split(X, y, test_size=0.20, random_state=123)\n",
    "#print(X_train.shape)\n",
    "#ii\n",
    "fiveB = LogisticRegression().fit(X_train, y_train)\n",
    "y_predict = fiveB.predict(X_val)\n",
    "score = accuracy_score(y_val,y_predict)\n",
    "print('Accuracy score')\n",
    "print(score)\n",
    "print('Validation Set Error')\n",
    "1 - score\n"
   ]
  },
  {
   "cell_type": "code",
   "execution_count": 22,
   "metadata": {},
   "outputs": [
    {
     "data": {
      "text/plain": [
       "0.03433333333333333"
      ]
     },
     "execution_count": 22,
     "metadata": {},
     "output_type": "execute_result"
    }
   ],
   "source": [
    "# iii\n",
    "y_posterior = fiveB.predict_proba(X_val)\n",
    "y_posterior = pd.DataFrame(data = y_posterior)\n",
    "#print(y_posterior)\n",
    "y_posterior['default'] = y_posterior[1]>0.5\n",
    "y_predict = y_posterior['default']\n",
    "validation_set_error = 1 - accuracy_score(y_val, y_predict)\n",
    "validation_set_error"
   ]
  },
  {
   "cell_type": "code",
   "execution_count": 23,
   "metadata": {},
   "outputs": [
    {
     "name": "stdout",
     "output_type": "stream",
     "text": [
      "Validation set error with set 1  is:  0.027000000000000024\n",
      "Validation set error with set 2  is:  0.026000000000000023\n",
      "Validation set error with set 3  is:  0.03433333333333333\n"
     ]
    }
   ],
   "source": [
    "#C\n",
    "for i, seed in enumerate([13, 121, 365]):\n",
    "    X_train, X_val, y_train, y_val = train_test_split(X, y, test_size=0.3, random_state=seed)\n",
    "    fiveB = LogisticRegression().fit(X_train, y_train)\n",
    "    y_posterior = fiveB.predict_proba(X_val)\n",
    "    y_posterior = pd.DataFrame(data = y_posterior)\n",
    "    y_posterior['default'] = y_posterior[1]>0.5\n",
    "    y_predict = y_posterior['default']\n",
    "    #score = accuracy_score(y_val,y_predict)\n",
    "    validation_set_error = 1 - accuracy_score(y_val, y_predict)\n",
    "    \n",
    "    print(\"Validation set error with set\", i+1 ,\" is: \" , validation_set_error)"
   ]
  },
  {
   "cell_type": "code",
   "execution_count": null,
   "metadata": {},
   "outputs": [],
   "source": [
    "#D)"
   ]
  }
 ],
 "metadata": {
  "kernelspec": {
   "display_name": "Python 3",
   "language": "python",
   "name": "python3"
  },
  "language_info": {
   "codemirror_mode": {
    "name": "ipython",
    "version": 3
   },
   "file_extension": ".py",
   "mimetype": "text/x-python",
   "name": "python",
   "nbconvert_exporter": "python",
   "pygments_lexer": "ipython3",
   "version": "3.6.5"
  }
 },
 "nbformat": 4,
 "nbformat_minor": 4
}
