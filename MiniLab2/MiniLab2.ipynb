{
 "cells": [
  {
   "cell_type": "code",
   "execution_count": 2,
   "metadata": {},
   "outputs": [
    {
     "name": "stderr",
     "output_type": "stream",
     "text": [
      "/Library/Frameworks/Python.framework/Versions/3.6/lib/python3.6/site-packages/rpy2/robjects/vectors.py:980: UserWarning: R object inheriting from \"POSIXct\" but without attribute \"tzone\".\n",
      "  warnings.warn('R object inheriting from \"POSIXct\" but without '\n"
     ]
    }
   ],
   "source": [
    "#PPHA 30545 \n",
    "#Machine Learning\n",
    "\n",
    "import rpy2.robjects.packages as rpackages\n",
    "from rpy2.robjects import r, pandas2ri\n",
    "pandas2ri.activate()\n",
    "diftrans = rpackages.importr('diftrans')\n",
    "base = rpackages.importr('base')\n",
    "stats = rpackages.importr('stats')\n",
    "\n",
    "from matplotlib import pyplot as plt\n",
    "import seaborn as sns \n",
    "import pandas as pd\n",
    "import numpy as np"
   ]
  },
  {
   "cell_type": "markdown",
   "metadata": {},
   "source": [
    "## 3.2 Understanding the Data"
   ]
  },
  {
   "cell_type": "code",
   "execution_count": 3,
   "metadata": {},
   "outputs": [],
   "source": [
    "# Beijing_sample = pd.read_csv('Beijing_sample.csv')\n",
    "# Tianjin_sample = pd.read_csv('Tianjin_sample.csv')\n",
    "\n",
    "Beijing_sample = base.get(\"Beijing_sample\")\n",
    "Tianjin_sample = base.get(\"Tianjin_sample\")"
   ]
  },
  {
   "cell_type": "markdown",
   "metadata": {},
   "source": [
    "## 3.3 Clean Data of Beijing and Tianjin Car Sales"
   ]
  },
  {
   "cell_type": "code",
   "execution_count": 56,
   "metadata": {},
   "outputs": [],
   "source": [
    "#Exercise 3.1. For each of the following, ensure that the first column is MSRP and the second column is count.\n",
    "#a. Clean data of Beijing car sales in 2011, and store the data frame in a variable called Beijing_post.\n",
    "#b. Clean data of Tianjin car sales in 2010 as a variable called Tianjin_pre.\n",
    "#c. Clean data of Tianjin car sales in 2011 as a variable called Tianjin_post.\n",
    "\n",
    "#keep 2010 and 2011 data only\n",
    "Beijing = Beijing_sample[(Beijing_sample['year']>= 2010) & (Beijing_sample['year'] < 2012)]\n",
    "#collect unique MSRP values\n",
    "uniqueMSRP = pd.DataFrame(Beijing.MSRP.unique()).rename(columns={0:'MSRP'})\n",
    "# aggregate sales at each price for 2010 (pre-lottery)\n",
    "Beijing10_sales = Beijing[(Beijing['year']== 2010)].groupby('MSRP').aggregate({'sales':[sum]})\n",
    "Beijing10_sales = Beijing10_sales.unstack().reset_index().rename_axis(None, axis=1)\n",
    "Beijing10_sales = Beijing10_sales.drop(columns=['level_0', 'level_1']).rename(columns={0:'count'})\n",
    "#merge the MSRP and sales\n",
    "Beijing_pre = uniqueMSRP.merge(Beijing10_sales, how='left', on = \"MSRP\")\n",
    "Beijing_pre[['count']] = Beijing_pre[['count']].fillna(value=0)\n",
    "Beijing_pre = Beijing_pre.sort_values('MSRP')\n",
    "\n",
    "Beijing11_sales = Beijing[(Beijing['year']== 2011)].groupby('MSRP').aggregate({'sales':[sum]})\n",
    "Beijing11_sales = Beijing11_sales.unstack().reset_index().rename_axis(None, axis=1)\n",
    "Beijing11_sales = Beijing11_sales.drop(columns=['level_0', 'level_1']).rename(columns={0:'count'})\n",
    "#merge MSRP and sales\n",
    "Beijing_post = uniqueMSRP.merge(Beijing11_sales, how='left', on = 'MSRP')\n",
    "Beijing_post[['count']] = Beijing_post[['count']].fillna(value=0)\n",
    "Beijing_post = Beijing_post.sort_values('MSRP')\n",
    "\n",
    "Tianjin = Tianjin_sample[(Tianjin_sample['year']>= 2010) & (Tianjin_sample['year'] < 2012)]\n",
    "#collect unique MSRP values\n",
    "uniqueMSRP = pd.DataFrame(Tianjin.MSRP.unique()).rename(columns={0:'MSRP'})\n",
    "# aggregate sales at each price for 2010 (pre-lottery)\n",
    "Tianjin10_sales = Tianjin[(Tianjin['year']== 2010)].groupby('MSRP').aggregate({'sales':[sum]})\n",
    "Tianjin10_sales = Tianjin10_sales.unstack().reset_index().rename_axis(None, axis=1)\n",
    "Tianjin10_sales = Tianjin10_sales.drop(columns=['level_0', 'level_1']).rename(columns={0:'count'})\n",
    "#merge the MSRP and sales\n",
    "Tianjin_pre = uniqueMSRP.merge(Tianjin10_sales, how='left', on = \"MSRP\")\n",
    "Tianjin_pre[['count']] = Tianjin_pre[['count']].fillna(value=0)\n",
    "Tianjin_pre = Tianjin_pre.sort_values('MSRP')\n",
    "\n",
    "Tianjin11_sales = Tianjin[(Tianjin['year']== 2011)].groupby('MSRP').aggregate({'sales':[sum]})\n",
    "Tianjin11_sales = Tianjin11_sales.unstack().reset_index().rename_axis(None, axis=1)\n",
    "Tianjin11_sales = Tianjin11_sales.drop(columns=['level_0', 'level_1']).rename(columns={0:'count'})\n",
    "#merge MSRP and sales\n",
    "Tianjin_post = uniqueMSRP.merge(Tianjin11_sales, how='left', on = 'MSRP')\n",
    "Tianjin_post[['count']] = Tianjin_post[['count']].fillna(value=0)\n",
    "Tianjin_post = Tianjin_post.sort_values('MSRP')\n"
   ]
  },
  {
   "cell_type": "code",
   "execution_count": 5,
   "metadata": {},
   "outputs": [
    {
     "name": "stdout",
     "output_type": "stream",
     "text": [
      "      MSRP   count\n",
      "482  20800     0.0\n",
      "374  29800    47.0\n",
      "338  32900  3153.0\n",
      "227  33800  3678.0\n",
      "388  34800   592.0\n",
      "      MSRP   count\n",
      "482  20800    23.0\n",
      "374  29800     0.0\n",
      "338  32900  1393.0\n",
      "227  33800     4.0\n",
      "388  34800   189.0\n",
      "\n",
      "      MSRP  count\n",
      "448  20800    0.0\n",
      "464  28800    0.0\n",
      "358  29800   51.0\n",
      "494  30900    0.0\n",
      "327  32900  599.0\n",
      "      MSRP  count\n",
      "448  20800   23.0\n",
      "464  28800    7.0\n",
      "358  29800    5.0\n",
      "494  30900    1.0\n",
      "327  32900  948.0\n"
     ]
    }
   ],
   "source": [
    "print(Beijing_pre.head(5))\n",
    "print(Beijing_post.head(5))\n",
    "print()\n",
    "print(Tianjin_pre.head(5))\n",
    "print(Tianjin_post.head(5))"
   ]
  },
  {
   "cell_type": "markdown",
   "metadata": {},
   "source": [
    "## 3.4 Visualize Beijing Car Sales"
   ]
  },
  {
   "cell_type": "code",
   "execution_count": 6,
   "metadata": {},
   "outputs": [],
   "source": [
    "# uncount\n",
    "df2 = Beijing_pre.pop('count')\n",
    "Beijing_distribution_pre = pd.DataFrame(Beijing_pre.values.repeat(df2, axis=0), columns=Beijing_pre.columns)\n",
    "df3 = Beijing_post.pop('count')\n",
    "Beijing_distribution_post = pd.DataFrame(Beijing_post.values.repeat(df3, axis=0), columns=Beijing_post.columns)"
   ]
  },
  {
   "cell_type": "code",
   "execution_count": 7,
   "metadata": {},
   "outputs": [
    {
     "name": "stderr",
     "output_type": "stream",
     "text": [
      "/Library/Frameworks/Python.framework/Versions/3.6/lib/python3.6/site-packages/seaborn/distributions.py:2551: FutureWarning: `distplot` is a deprecated function and will be removed in a future version. Please adapt your code to use either `displot` (a figure-level function with similar flexibility) or `histplot` (an axes-level function for histograms).\n",
      "  warnings.warn(msg, FutureWarning)\n",
      "No handles with labels found to put in legend.\n"
     ]
    },
    {
     "data": {
      "text/plain": [
       "(0.0, 1200.0)"
      ]
     },
     "execution_count": 7,
     "metadata": {},
     "output_type": "execute_result"
    },
    {
     "data": {
      "image/png": "[encoded data removed]",
      "text/plain": [
       "<Figure size 432x288 with 1 Axes>"
      ]
     },
     "metadata": {
      "needs_background": "light"
     },
     "output_type": "display_data"
    }
   ],
   "source": [
    "import seaborn as sns\n",
    "fig, ax = plt.subplots() \n",
    "for a in [Beijing_distribution_pre, Beijing_distribution_post]:\n",
    "    sns.distplot(a/1000, ax=ax, kde=False)\n",
    "plt.xlabel(\"MSRP(1000RMB)\", size=14) \n",
    "plt.ylabel(\"Density\", size=14) \n",
    "plt.title(\"Pre-lottery (blue) vs. Post-lottery (brown)\\n  Sales Distributions of   Beijing Cars\", size=18) \n",
    "plt.legend(loc='upper right')\n",
    "ax.set_xlim([0, 1200])"
   ]
  },
  {
   "cell_type": "code",
   "execution_count": 8,
   "metadata": {},
   "outputs": [],
   "source": [
    "df4 = Tianjin_pre.pop('count')\n",
    "Tianjin_distribution_pre = pd.DataFrame(Tianjin_pre.values.repeat(df4, axis=0), columns=Tianjin_pre.columns)\n",
    "df5 = Tianjin_post.pop('count')\n",
    "Tianjin_distribution_post = pd.DataFrame(Tianjin_post.values.repeat(df5, axis=0), columns=Tianjin_post.columns)\n"
   ]
  },
  {
   "cell_type": "code",
   "execution_count": 9,
   "metadata": {},
   "outputs": [
    {
     "name": "stderr",
     "output_type": "stream",
     "text": [
      "No handles with labels found to put in legend.\n"
     ]
    },
    {
     "data": {
      "image/png": "[encoded data removed]",
      "text/plain": [
       "<Figure size 432x288 with 1 Axes>"
      ]
     },
     "metadata": {
      "needs_background": "light"
     },
     "output_type": "display_data"
    }
   ],
   "source": [
    "fig2, ax2 = plt.subplots() \n",
    "for a in [Tianjin_distribution_pre, Tianjin_distribution_post]:\n",
    "    sns.distplot(a/1000, ax=ax2, kde=False)\n",
    "plt.xlabel(\"MSRP(1000RMB)\", size=14) \n",
    "plt.ylabel(\"Density\", size=14) \n",
    "plt.title(\"Pre-lottery (blue) vs. Post-lottery (brown)\\n  Sales Distributions of   Tianjin Cars\", size=18) \n",
    "plt.legend(loc='upper right')\n",
    "plt.show()"
   ]
  },
  {
   "cell_type": "markdown",
   "metadata": {},
   "source": [
    "## 3.5 Compute Before-and-After Estimator"
   ]
  },
  {
   "cell_type": "code",
   "execution_count": 10,
   "metadata": {},
   "outputs": [
    {
     "data": {
      "text/html": [
       "<div>\n",
       "<style scoped>\n",
       "    .dataframe tbody tr th:only-of-type {\n",
       "        vertical-align: middle;\n",
       "    }\n",
       "\n",
       "    .dataframe tbody tr th {\n",
       "        vertical-align: top;\n",
       "    }\n",
       "\n",
       "    .dataframe thead th {\n",
       "        text-align: right;\n",
       "    }\n",
       "</style>\n",
       "<table border=\"1\" class=\"dataframe\">\n",
       "  <thead>\n",
       "    <tr style=\"text-align: right;\">\n",
       "      <th></th>\n",
       "      <th>sample1</th>\n",
       "      <th>sample2</th>\n",
       "    </tr>\n",
       "  </thead>\n",
       "  <tbody>\n",
       "    <tr>\n",
       "      <th>0</th>\n",
       "      <td>1.402399</td>\n",
       "      <td>0.295899</td>\n",
       "    </tr>\n",
       "    <tr>\n",
       "      <th>1</th>\n",
       "      <td>0.593244</td>\n",
       "      <td>0.082860</td>\n",
       "    </tr>\n",
       "    <tr>\n",
       "      <th>2</th>\n",
       "      <td>0.490840</td>\n",
       "      <td>-0.079474</td>\n",
       "    </tr>\n",
       "    <tr>\n",
       "      <th>3</th>\n",
       "      <td>0.196674</td>\n",
       "      <td>-0.455218</td>\n",
       "    </tr>\n",
       "    <tr>\n",
       "      <th>4</th>\n",
       "      <td>-1.127858</td>\n",
       "      <td>1.817601</td>\n",
       "    </tr>\n",
       "  </tbody>\n",
       "</table>\n",
       "</div>"
      ],
      "text/plain": [
       "    sample1   sample2\n",
       "0  1.402399  0.295899\n",
       "1  0.593244  0.082860\n",
       "2  0.490840 -0.079474\n",
       "3  0.196674 -0.455218\n",
       "4 -1.127858  1.817601"
      ]
     },
     "execution_count": 10,
     "metadata": {},
     "output_type": "execute_result"
    }
   ],
   "source": [
    "base.set_seed(0) # for reproducibility\n",
    "n_observations = 100000\n",
    "placebo_demonstration = pd.DataFrame({'sample1': np.random.normal(0, 1, n_observations), 'sample2': np.random.normal(0, 1, n_observations)})\n",
    "placebo_demonstration.head()"
   ]
  },
  {
   "cell_type": "code",
   "execution_count": 11,
   "metadata": {},
   "outputs": [
    {
     "data": {
      "text/plain": [
       "Text(0.5, 1.0, 'Two Samples from Standard Normal Distribution')"
      ]
     },
     "execution_count": 11,
     "metadata": {},
     "output_type": "execute_result"
    },
    {
     "data": {
      "image/png": "[encoded data removed]",
      "text/plain": [
       "<Figure size 432x288 with 1 Axes>"
      ]
     },
     "metadata": {
      "needs_background": "light"
     },
     "output_type": "display_data"
    }
   ],
   "source": [
    "fig, ax = plt.subplots()\n",
    "ax = sns.distplot(placebo_demonstration['sample1'], ax=ax, kde=False, norm_hist=True)\n",
    "ax = sns.distplot(placebo_demonstration['sample2'], ax=ax, kde=False, norm_hist=True)\n",
    "plt.xlabel(\"Support\", size=12)\n",
    "plt.ylabel(\"Density\", size=14)\n",
    "plt.title(\"Two Samples from Standard Normal Distribution\", size=18)"
   ]
  },
  {
   "cell_type": "markdown",
   "metadata": {},
   "source": []
  },
  {
   "cell_type": "code",
   "execution_count": 40,
   "metadata": {},
   "outputs": [
    {
     "name": "stdout",
     "output_type": "stream",
     "text": [
      "        MSRP  count\n",
      "448    20800      0\n",
      "464    28800      0\n",
      "358    29800     50\n",
      "494    30900      0\n",
      "327    32900   3136\n",
      "..       ...    ...\n",
      "92    698600     61\n",
      "272   703600    363\n",
      "218   770000     92\n",
      "426   800400      3\n",
      "237  1127800    324\n",
      "\n",
      "[504 rows x 2 columns]\n"
     ]
    }
   ],
   "source": [
    "# set the seed for reproducibility set.seed(1)\n",
    "# We will use the `rmultinom` function to construct our placebo.\n",
    "# Imagine the same number of cars as in 2010. (see `size` argument)\n",
    "# For each MSRP value, we will decide how many of these imaginary cars will\n",
    "# be sold at this price. The number of of these imaginary cars to be sold at\n",
    "# the particular MSRP value will be proportional to the actual number of cars\n",
    "# sold in the pre-lottery distribution. (see `prob` argument) # We only want \n",
    "# one placebo distribution. (see `n` argument) placebo_1 <- data.frame(MSRP = Beijing_pre[‘MSRP’],\n",
    "base.set_seed(1)\n",
    "Beijing_pre = uniqueMSRP.merge(Beijing10_sales, how='left', on = \"MSRP\")\n",
    "Beijing_pre[['count']] = Beijing_pre[['count']].fillna(value=0)\n",
    "Beijing_pre = Beijing_pre.sort_values('MSRP')\n",
    "count =  stats.rmultinom(n = 1, size = sum(Beijing_pre['count']), prob = Beijing_pre['count'])\n",
    "count2 = count[:,0]\n",
    "d = {'MSRP': Beijing_pre['MSRP'], 'count' : count2}\n",
    "placebo_1 = pd.DataFrame(data=d)\n",
    "print(placebo_1)\n",
    "#print(placebo_1.dtypes)\n",
    "\n",
    "\n"
   ]
  },
  {
   "cell_type": "code",
   "execution_count": 124,
   "metadata": {},
   "outputs": [
    {
     "name": "stdout",
     "output_type": "stream",
     "text": [
      "        MSRP  count\n",
      "482    20800      0\n",
      "374    29800     64\n",
      "338    32900   3108\n",
      "227    33800   3647\n",
      "388    34800    603\n",
      "..       ...    ...\n",
      "263   703600    371\n",
      "7     770000    103\n",
      "314   800400      3\n",
      "433   998000      2\n",
      "5    1127800    305\n",
      "\n",
      "[513 rows x 2 columns]\n",
      "MSRP     int64\n",
      "count    int32\n",
      "dtype: object\n"
     ]
    }
   ],
   "source": []
  },
  {
   "cell_type": "code",
   "execution_count": 13,
   "metadata": {},
   "outputs": [],
   "source": [
    "Beijing_post = uniqueMSRP.merge(Beijing11_sales, how='left', on = \"MSRP\")\n",
    "Beijing_post[['count']] = Beijing_post[['count']].fillna(value=0)\n",
    "Beijing_post = Beijing_post.sort_values('MSRP')"
   ]
  },
  {
   "cell_type": "code",
   "execution_count": 14,
   "metadata": {},
   "outputs": [
    {
     "name": "stdout",
     "output_type": "stream",
     "text": [
      "        MSRP  count\n",
      "448    20800      0\n",
      "464    28800      0\n",
      "358    29800     17\n",
      "494    30900      0\n",
      "327    32900   1308\n",
      "..       ...    ...\n",
      "92    698600     33\n",
      "272   703600    165\n",
      "218   770000     41\n",
      "426   800400      0\n",
      "237  1127800    138\n",
      "\n",
      "[504 rows x 2 columns]\n"
     ]
    }
   ],
   "source": [
    "base.set_seed(1)\n",
    "count =  stats.rmultinom(n = 1, size = sum(Beijing_post['count']), prob = Beijing_pre['count'])\n",
    "count2 = count[:,0]\n",
    "d = {'MSRP': Beijing_pre['MSRP'], 'count' : count2}\n",
    "placebo_2 = pd.DataFrame(data=d)\n",
    "print(placebo_2)\n",
    "#print(placebo_2.dtypes)"
   ]
  },
  {
   "cell_type": "code",
   "execution_count": 18,
   "metadata": {},
   "outputs": [
    {
     "name": "stderr",
     "output_type": "stream",
     "text": [
      "R[write to console]: Computing Transport Costs...\n",
      "\n"
     ]
    },
    {
     "name": "stdout",
     "output_type": "stream",
     "text": [
      "================================================================================\n"
     ]
    },
    {
     "name": "stderr",
     "output_type": "stream",
     "text": [
      "R[write to console]: The transport cost for the specified bandwidths have been computed.\n",
      "\n"
     ]
    },
    {
     "data": {
      "text/html": [
       "<div>\n",
       "<style scoped>\n",
       "    .dataframe tbody tr th:only-of-type {\n",
       "        vertical-align: middle;\n",
       "    }\n",
       "\n",
       "    .dataframe tbody tr th {\n",
       "        vertical-align: top;\n",
       "    }\n",
       "\n",
       "    .dataframe thead th {\n",
       "        text-align: right;\n",
       "    }\n",
       "</style>\n",
       "<table border=\"1\" class=\"dataframe\">\n",
       "  <thead>\n",
       "    <tr style=\"text-align: right;\">\n",
       "      <th></th>\n",
       "      <th>bandwidth</th>\n",
       "      <th>main</th>\n",
       "    </tr>\n",
       "  </thead>\n",
       "  <tbody>\n",
       "    <tr>\n",
       "      <th>1</th>\n",
       "      <td>0</td>\n",
       "      <td>0.013909</td>\n",
       "    </tr>\n",
       "  </tbody>\n",
       "</table>\n",
       "</div>"
      ],
      "text/plain": [
       "   bandwidth      main\n",
       "1          0  0.013909"
      ]
     },
     "execution_count": 18,
     "metadata": {},
     "output_type": "execute_result"
    }
   ],
   "source": [
    "placebo_at_0 = diftrans.diftrans(pre_main = placebo_1, post_main = placebo_2, bandwidth_seq = 0)\n",
    "placebo_at_0"
   ]
  },
  {
   "cell_type": "code",
   "execution_count": 64,
   "metadata": {},
   "outputs": [
    {
     "name": "stderr",
     "output_type": "stream",
     "text": [
      "R[write to console]: Computing Transport Costs...\n",
      "\n"
     ]
    },
    {
     "name": "stdout",
     "output_type": "stream",
     "text": [
      "================================================================================\n"
     ]
    },
    {
     "name": "stderr",
     "output_type": "stream",
     "text": [
      "R[write to console]: The transport cost for the specified bandwidths have been computed.\n",
      "\n",
      "R[write to console]: Computing Transport Costs...\n",
      "\n"
     ]
    },
    {
     "name": "stdout",
     "output_type": "stream",
     "text": [
      "================================================================================\n"
     ]
    },
    {
     "name": "stderr",
     "output_type": "stream",
     "text": [
      "R[write to console]: The transport cost for the specified bandwidths have been computed.\n",
      "\n",
      "R[write to console]: Computing Transport Costs...\n",
      "\n"
     ]
    },
    {
     "name": "stdout",
     "output_type": "stream",
     "text": [
      "================================================================================\n"
     ]
    },
    {
     "name": "stderr",
     "output_type": "stream",
     "text": [
      "R[write to console]: The transport cost for the specified bandwidths have been computed.\n",
      "\n",
      "R[write to console]: Computing Transport Costs...\n",
      "\n"
     ]
    },
    {
     "name": "stdout",
     "output_type": "stream",
     "text": [
      "================================================================================\n"
     ]
    },
    {
     "name": "stderr",
     "output_type": "stream",
     "text": [
      "R[write to console]: The transport cost for the specified bandwidths have been computed.\n",
      "\n",
      "R[write to console]: Computing Transport Costs...\n",
      "\n"
     ]
    },
    {
     "name": "stdout",
     "output_type": "stream",
     "text": [
      "================================================================================\n"
     ]
    },
    {
     "name": "stderr",
     "output_type": "stream",
     "text": [
      "R[write to console]: The transport cost for the specified bandwidths have been computed.\n",
      "\n",
      "R[write to console]: Computing Transport Costs...\n",
      "\n"
     ]
    },
    {
     "name": "stdout",
     "output_type": "stream",
     "text": [
      "================================================================================\n"
     ]
    },
    {
     "name": "stderr",
     "output_type": "stream",
     "text": [
      "R[write to console]: The transport cost for the specified bandwidths have been computed.\n",
      "\n",
      "R[write to console]: Computing Transport Costs...\n",
      "\n"
     ]
    },
    {
     "name": "stdout",
     "output_type": "stream",
     "text": [
      "================================================================================\n"
     ]
    },
    {
     "name": "stderr",
     "output_type": "stream",
     "text": [
      "R[write to console]: The transport cost for the specified bandwidths have been computed.\n",
      "\n",
      "R[write to console]: Computing Transport Costs...\n",
      "\n"
     ]
    },
    {
     "name": "stdout",
     "output_type": "stream",
     "text": [
      "================================================================================\n"
     ]
    },
    {
     "name": "stderr",
     "output_type": "stream",
     "text": [
      "R[write to console]: The transport cost for the specified bandwidths have been computed.\n",
      "\n",
      "R[write to console]: Computing Transport Costs...\n",
      "\n"
     ]
    },
    {
     "name": "stdout",
     "output_type": "stream",
     "text": [
      "================================================================================\n"
     ]
    },
    {
     "name": "stderr",
     "output_type": "stream",
     "text": [
      "R[write to console]: The transport cost for the specified bandwidths have been computed.\n",
      "\n",
      "R[write to console]: Computing Transport Costs...\n",
      "\n"
     ]
    },
    {
     "name": "stdout",
     "output_type": "stream",
     "text": [
      "================================================================================\n"
     ]
    },
    {
     "name": "stderr",
     "output_type": "stream",
     "text": [
      "R[write to console]: The transport cost for the specified bandwidths have been computed.\n",
      "\n",
      "R[write to console]: Computing Transport Costs...\n",
      "\n"
     ]
    },
    {
     "name": "stdout",
     "output_type": "stream",
     "text": [
      "================================================================================\n"
     ]
    },
    {
     "name": "stderr",
     "output_type": "stream",
     "text": [
      "R[write to console]: The transport cost for the specified bandwidths have been computed.\n",
      "\n",
      "R[write to console]: Computing Transport Costs...\n",
      "\n"
     ]
    },
    {
     "name": "stdout",
     "output_type": "stream",
     "text": [
      "================================================================================\n"
     ]
    },
    {
     "name": "stderr",
     "output_type": "stream",
     "text": [
      "R[write to console]: The transport cost for the specified bandwidths have been computed.\n",
      "\n",
      "R[write to console]: Computing Transport Costs...\n",
      "\n"
     ]
    },
    {
     "name": "stdout",
     "output_type": "stream",
     "text": [
      "================================================================================\n"
     ]
    },
    {
     "name": "stderr",
     "output_type": "stream",
     "text": [
      "R[write to console]: The transport cost for the specified bandwidths have been computed.\n",
      "\n",
      "R[write to console]: Computing Transport Costs...\n",
      "\n"
     ]
    },
    {
     "name": "stdout",
     "output_type": "stream",
     "text": [
      "================================================================================\n"
     ]
    },
    {
     "name": "stderr",
     "output_type": "stream",
     "text": [
      "R[write to console]: The transport cost for the specified bandwidths have been computed.\n",
      "\n",
      "R[write to console]: Computing Transport Costs...\n",
      "\n"
     ]
    },
    {
     "name": "stdout",
     "output_type": "stream",
     "text": [
      "================================================================================\n"
     ]
    },
    {
     "name": "stderr",
     "output_type": "stream",
     "text": [
      "R[write to console]: The transport cost for the specified bandwidths have been computed.\n",
      "\n",
      "R[write to console]: Computing Transport Costs...\n",
      "\n"
     ]
    },
    {
     "name": "stdout",
     "output_type": "stream",
     "text": [
      "================================================================================\n"
     ]
    },
    {
     "name": "stderr",
     "output_type": "stream",
     "text": [
      "R[write to console]: The transport cost for the specified bandwidths have been computed.\n",
      "\n",
      "R[write to console]: Computing Transport Costs...\n",
      "\n"
     ]
    },
    {
     "name": "stdout",
     "output_type": "stream",
     "text": [
      "================================================================================\n"
     ]
    },
    {
     "name": "stderr",
     "output_type": "stream",
     "text": [
      "R[write to console]: The transport cost for the specified bandwidths have been computed.\n",
      "\n"
     ]
    },
    {
     "name": "stdout",
     "output_type": "stream",
     "text": [
      "   bandwidth      main\n",
      "1          0  0.013909\n",
      "1         25  0.013909\n",
      "1        100  0.012443\n",
      "1        500  0.011387\n",
      "1       1000  0.006507\n",
      "1       1500  0.005513\n",
      "1       1750  0.005513\n",
      "1       1850  0.005435\n",
      "1       1900  0.004946\n",
      "1       2000  0.003268\n",
      "1       5000  0.001949\n",
      "1      25000  0.000609\n",
      "1      30000  0.000546\n",
      "1      32500  0.000542\n",
      "1      40000  0.000542\n",
      "1      45000  0.000542\n",
      "1      50000  0.000016\n",
      "1     100000  0.000011\n"
     ]
    }
   ],
   "source": [
    "\n",
    "\n"
   ]
  },
  {
   "cell_type": "code",
   "execution_count": 15,
   "metadata": {},
   "outputs": [
    {
     "name": "stderr",
     "output_type": "stream",
     "text": [
      "R[write to console]: Computing Transport Costs...\n",
      "\n"
     ]
    },
    {
     "name": "stdout",
     "output_type": "stream",
     "text": [
      "================================================================================\n"
     ]
    },
    {
     "name": "stderr",
     "output_type": "stream",
     "text": [
      "R[write to console]: The transport cost for the specified bandwidths have been computed.\n",
      "\n",
      "R[write to console]: Computing Transport Costs...\n",
      "\n"
     ]
    },
    {
     "name": "stdout",
     "output_type": "stream",
     "text": [
      "================================================================================\n"
     ]
    },
    {
     "name": "stderr",
     "output_type": "stream",
     "text": [
      "R[write to console]: The transport cost for the specified bandwidths have been computed.\n",
      "\n",
      "R[write to console]: Computing Transport Costs...\n",
      "\n"
     ]
    },
    {
     "name": "stdout",
     "output_type": "stream",
     "text": [
      "================================================================================\n"
     ]
    },
    {
     "name": "stderr",
     "output_type": "stream",
     "text": [
      "R[write to console]: The transport cost for the specified bandwidths have been computed.\n",
      "\n",
      "R[write to console]: Computing Transport Costs...\n",
      "\n"
     ]
    },
    {
     "name": "stdout",
     "output_type": "stream",
     "text": [
      "================================================================================\n"
     ]
    },
    {
     "name": "stderr",
     "output_type": "stream",
     "text": [
      "R[write to console]: The transport cost for the specified bandwidths have been computed.\n",
      "\n",
      "R[write to console]: Computing Transport Costs...\n",
      "\n"
     ]
    },
    {
     "name": "stdout",
     "output_type": "stream",
     "text": [
      "================================================================================\n"
     ]
    },
    {
     "name": "stderr",
     "output_type": "stream",
     "text": [
      "R[write to console]: The transport cost for the specified bandwidths have been computed.\n",
      "\n",
      "R[write to console]: Computing Transport Costs...\n",
      "\n"
     ]
    },
    {
     "name": "stdout",
     "output_type": "stream",
     "text": [
      "================================================================================\n"
     ]
    },
    {
     "name": "stderr",
     "output_type": "stream",
     "text": [
      "R[write to console]: The transport cost for the specified bandwidths have been computed.\n",
      "\n",
      "R[write to console]: Computing Transport Costs...\n",
      "\n"
     ]
    },
    {
     "name": "stdout",
     "output_type": "stream",
     "text": [
      "================================================================================\n"
     ]
    },
    {
     "name": "stderr",
     "output_type": "stream",
     "text": [
      "R[write to console]: The transport cost for the specified bandwidths have been computed.\n",
      "\n",
      "R[write to console]: Computing Transport Costs...\n",
      "\n"
     ]
    },
    {
     "name": "stdout",
     "output_type": "stream",
     "text": [
      "================================================================================\n"
     ]
    },
    {
     "name": "stderr",
     "output_type": "stream",
     "text": [
      "R[write to console]: The transport cost for the specified bandwidths have been computed.\n",
      "\n",
      "R[write to console]: Computing Transport Costs...\n",
      "\n"
     ]
    },
    {
     "name": "stdout",
     "output_type": "stream",
     "text": [
      "================================================================================\n"
     ]
    },
    {
     "name": "stderr",
     "output_type": "stream",
     "text": [
      "R[write to console]: The transport cost for the specified bandwidths have been computed.\n",
      "\n",
      "R[write to console]: Computing Transport Costs...\n",
      "\n"
     ]
    },
    {
     "name": "stdout",
     "output_type": "stream",
     "text": [
      "================================================================================\n"
     ]
    },
    {
     "name": "stderr",
     "output_type": "stream",
     "text": [
      "R[write to console]: The transport cost for the specified bandwidths have been computed.\n",
      "\n",
      "R[write to console]: Computing Transport Costs...\n",
      "\n"
     ]
    },
    {
     "name": "stdout",
     "output_type": "stream",
     "text": [
      "================================================================================\n"
     ]
    },
    {
     "name": "stderr",
     "output_type": "stream",
     "text": [
      "R[write to console]: The transport cost for the specified bandwidths have been computed.\n",
      "\n",
      "R[write to console]: Computing Transport Costs...\n",
      "\n"
     ]
    },
    {
     "name": "stdout",
     "output_type": "stream",
     "text": [
      "================================================================================\n"
     ]
    },
    {
     "name": "stderr",
     "output_type": "stream",
     "text": [
      "R[write to console]: The transport cost for the specified bandwidths have been computed.\n",
      "\n",
      "R[write to console]: Computing Transport Costs...\n",
      "\n"
     ]
    },
    {
     "name": "stdout",
     "output_type": "stream",
     "text": [
      "================================================================================\n"
     ]
    },
    {
     "name": "stderr",
     "output_type": "stream",
     "text": [
      "R[write to console]: The transport cost for the specified bandwidths have been computed.\n",
      "\n",
      "R[write to console]: Computing Transport Costs...\n",
      "\n"
     ]
    },
    {
     "name": "stdout",
     "output_type": "stream",
     "text": [
      "================================================================================\n"
     ]
    },
    {
     "name": "stderr",
     "output_type": "stream",
     "text": [
      "R[write to console]: The transport cost for the specified bandwidths have been computed.\n",
      "\n",
      "R[write to console]: Computing Transport Costs...\n",
      "\n"
     ]
    },
    {
     "name": "stdout",
     "output_type": "stream",
     "text": [
      "================================================================================\n"
     ]
    },
    {
     "name": "stderr",
     "output_type": "stream",
     "text": [
      "R[write to console]: The transport cost for the specified bandwidths have been computed.\n",
      "\n",
      "R[write to console]: Computing Transport Costs...\n",
      "\n"
     ]
    },
    {
     "name": "stdout",
     "output_type": "stream",
     "text": [
      "================================================================================\n"
     ]
    },
    {
     "name": "stderr",
     "output_type": "stream",
     "text": [
      "R[write to console]: The transport cost for the specified bandwidths have been computed.\n",
      "\n",
      "R[write to console]: Computing Transport Costs...\n",
      "\n"
     ]
    },
    {
     "name": "stdout",
     "output_type": "stream",
     "text": [
      "================================================================================\n"
     ]
    },
    {
     "name": "stderr",
     "output_type": "stream",
     "text": [
      "R[write to console]: The transport cost for the specified bandwidths have been computed.\n",
      "\n",
      "R[write to console]: Computing Transport Costs...\n",
      "\n"
     ]
    },
    {
     "name": "stdout",
     "output_type": "stream",
     "text": [
      "================================================================================\n"
     ]
    },
    {
     "name": "stderr",
     "output_type": "stream",
     "text": [
      "R[write to console]: The transport cost for the specified bandwidths have been computed.\n",
      "\n",
      "R[write to console]: Computing Transport Costs...\n",
      "\n"
     ]
    },
    {
     "name": "stdout",
     "output_type": "stream",
     "text": [
      "================================================================================\n"
     ]
    },
    {
     "name": "stderr",
     "output_type": "stream",
     "text": [
      "R[write to console]: The transport cost for the specified bandwidths have been computed.\n",
      "\n",
      "R[write to console]: Computing Transport Costs...\n",
      "\n"
     ]
    },
    {
     "name": "stdout",
     "output_type": "stream",
     "text": [
      "================================================================================\n"
     ]
    },
    {
     "name": "stderr",
     "output_type": "stream",
     "text": [
      "R[write to console]: The transport cost for the specified bandwidths have been computed.\n",
      "\n",
      "R[write to console]: Computing Transport Costs...\n",
      "\n"
     ]
    },
    {
     "name": "stdout",
     "output_type": "stream",
     "text": [
      "================================================================================\n"
     ]
    },
    {
     "name": "stderr",
     "output_type": "stream",
     "text": [
      "R[write to console]: The transport cost for the specified bandwidths have been computed.\n",
      "\n",
      "R[write to console]: Computing Transport Costs...\n",
      "\n"
     ]
    },
    {
     "name": "stdout",
     "output_type": "stream",
     "text": [
      "================================================================================\n"
     ]
    },
    {
     "name": "stderr",
     "output_type": "stream",
     "text": [
      "R[write to console]: The transport cost for the specified bandwidths have been computed.\n",
      "\n",
      "R[write to console]: Computing Transport Costs...\n",
      "\n"
     ]
    },
    {
     "name": "stdout",
     "output_type": "stream",
     "text": [
      "================================================================================\n"
     ]
    },
    {
     "name": "stderr",
     "output_type": "stream",
     "text": [
      "R[write to console]: The transport cost for the specified bandwidths have been computed.\n",
      "\n",
      "R[write to console]: Computing Transport Costs...\n",
      "\n"
     ]
    },
    {
     "name": "stdout",
     "output_type": "stream",
     "text": [
      "================================================================================\n"
     ]
    },
    {
     "name": "stderr",
     "output_type": "stream",
     "text": [
      "R[write to console]: The transport cost for the specified bandwidths have been computed.\n",
      "\n",
      "R[write to console]: Computing Transport Costs...\n",
      "\n"
     ]
    },
    {
     "name": "stdout",
     "output_type": "stream",
     "text": [
      "================================================================================\n"
     ]
    },
    {
     "name": "stderr",
     "output_type": "stream",
     "text": [
      "R[write to console]: The transport cost for the specified bandwidths have been computed.\n",
      "\n",
      "R[write to console]: Computing Transport Costs...\n",
      "\n"
     ]
    },
    {
     "name": "stdout",
     "output_type": "stream",
     "text": [
      "================================================================================\n"
     ]
    },
    {
     "name": "stderr",
     "output_type": "stream",
     "text": [
      "R[write to console]: The transport cost for the specified bandwidths have been computed.\n",
      "\n",
      "R[write to console]: Computing Transport Costs...\n",
      "\n"
     ]
    },
    {
     "name": "stdout",
     "output_type": "stream",
     "text": [
      "================================================================================\n"
     ]
    },
    {
     "name": "stderr",
     "output_type": "stream",
     "text": [
      "R[write to console]: The transport cost for the specified bandwidths have been computed.\n",
      "\n",
      "R[write to console]: Computing Transport Costs...\n",
      "\n"
     ]
    },
    {
     "name": "stdout",
     "output_type": "stream",
     "text": [
      "================================================================================\n"
     ]
    },
    {
     "name": "stderr",
     "output_type": "stream",
     "text": [
      "R[write to console]: The transport cost for the specified bandwidths have been computed.\n",
      "\n",
      "R[write to console]: Computing Transport Costs...\n",
      "\n"
     ]
    },
    {
     "name": "stdout",
     "output_type": "stream",
     "text": [
      "================================================================================\n"
     ]
    },
    {
     "name": "stderr",
     "output_type": "stream",
     "text": [
      "R[write to console]: The transport cost for the specified bandwidths have been computed.\n",
      "\n",
      "R[write to console]: Computing Transport Costs...\n",
      "\n"
     ]
    },
    {
     "name": "stdout",
     "output_type": "stream",
     "text": [
      "================================================================================\n"
     ]
    },
    {
     "name": "stderr",
     "output_type": "stream",
     "text": [
      "R[write to console]: The transport cost for the specified bandwidths have been computed.\n",
      "\n",
      "R[write to console]: Computing Transport Costs...\n",
      "\n"
     ]
    },
    {
     "name": "stdout",
     "output_type": "stream",
     "text": [
      "================================================================================\n"
     ]
    },
    {
     "name": "stderr",
     "output_type": "stream",
     "text": [
      "R[write to console]: The transport cost for the specified bandwidths have been computed.\n",
      "\n",
      "R[write to console]: Computing Transport Costs...\n",
      "\n"
     ]
    },
    {
     "name": "stdout",
     "output_type": "stream",
     "text": [
      "================================================================================\n"
     ]
    },
    {
     "name": "stderr",
     "output_type": "stream",
     "text": [
      "R[write to console]: The transport cost for the specified bandwidths have been computed.\n",
      "\n",
      "R[write to console]: Computing Transport Costs...\n",
      "\n"
     ]
    },
    {
     "name": "stdout",
     "output_type": "stream",
     "text": [
      "================================================================================\n"
     ]
    },
    {
     "name": "stderr",
     "output_type": "stream",
     "text": [
      "R[write to console]: The transport cost for the specified bandwidths have been computed.\n",
      "\n",
      "R[write to console]: Computing Transport Costs...\n",
      "\n"
     ]
    },
    {
     "name": "stdout",
     "output_type": "stream",
     "text": [
      "================================================================================\n"
     ]
    },
    {
     "name": "stderr",
     "output_type": "stream",
     "text": [
      "R[write to console]: The transport cost for the specified bandwidths have been computed.\n",
      "\n",
      "R[write to console]: Computing Transport Costs...\n",
      "\n"
     ]
    },
    {
     "name": "stdout",
     "output_type": "stream",
     "text": [
      "================================================================================\n"
     ]
    },
    {
     "name": "stderr",
     "output_type": "stream",
     "text": [
      "R[write to console]: The transport cost for the specified bandwidths have been computed.\n",
      "\n",
      "R[write to console]: Computing Transport Costs...\n",
      "\n"
     ]
    },
    {
     "name": "stdout",
     "output_type": "stream",
     "text": [
      "================================================================================\n"
     ]
    },
    {
     "name": "stderr",
     "output_type": "stream",
     "text": [
      "R[write to console]: The transport cost for the specified bandwidths have been computed.\n",
      "\n",
      "R[write to console]: Computing Transport Costs...\n",
      "\n"
     ]
    },
    {
     "name": "stdout",
     "output_type": "stream",
     "text": [
      "================================================================================\n"
     ]
    },
    {
     "name": "stderr",
     "output_type": "stream",
     "text": [
      "R[write to console]: The transport cost for the specified bandwidths have been computed.\n",
      "\n",
      "R[write to console]: Computing Transport Costs...\n",
      "\n"
     ]
    },
    {
     "name": "stdout",
     "output_type": "stream",
     "text": [
      "================================================================================\n"
     ]
    },
    {
     "name": "stderr",
     "output_type": "stream",
     "text": [
      "R[write to console]: The transport cost for the specified bandwidths have been computed.\n",
      "\n",
      "R[write to console]: Computing Transport Costs...\n",
      "\n"
     ]
    },
    {
     "name": "stdout",
     "output_type": "stream",
     "text": [
      "================================================================================\n"
     ]
    },
    {
     "name": "stderr",
     "output_type": "stream",
     "text": [
      "R[write to console]: The transport cost for the specified bandwidths have been computed.\n",
      "\n",
      "R[write to console]: Computing Transport Costs...\n",
      "\n"
     ]
    },
    {
     "name": "stdout",
     "output_type": "stream",
     "text": [
      "================================================================================\n"
     ]
    },
    {
     "name": "stderr",
     "output_type": "stream",
     "text": [
      "R[write to console]: The transport cost for the specified bandwidths have been computed.\n",
      "\n",
      "R[write to console]: Computing Transport Costs...\n",
      "\n"
     ]
    },
    {
     "name": "stdout",
     "output_type": "stream",
     "text": [
      "================================================================================\n"
     ]
    },
    {
     "name": "stderr",
     "output_type": "stream",
     "text": [
      "R[write to console]: The transport cost for the specified bandwidths have been computed.\n",
      "\n",
      "R[write to console]: Computing Transport Costs...\n",
      "\n"
     ]
    },
    {
     "name": "stdout",
     "output_type": "stream",
     "text": [
      "================================================================================\n"
     ]
    },
    {
     "name": "stderr",
     "output_type": "stream",
     "text": [
      "R[write to console]: The transport cost for the specified bandwidths have been computed.\n",
      "\n"
     ]
    },
    {
     "name": "stdout",
     "output_type": "stream",
     "text": [
      "   bandwidth                      main\n",
      "0        [0]    [0.013909162594171466]\n",
      "1     [5000]   [0.0019489641981209477]\n",
      "2    [10000]   [0.0007573809696677039]\n",
      "3    [15000]   [0.0007316603132025103]\n",
      "4    [20000]   [0.0006484126024571933]\n",
      "5    [25000]   [0.0006093066340512542]\n",
      "6    [30000]   [0.0005464930020972581]\n",
      "7    [35000]   [0.0005421327904816576]\n",
      "8    [40000]   [0.0005421327904816581]\n",
      "9    [45000]   [0.0005421327904816614]\n",
      "10   [50000]  [1.5670451007602535e-05]\n",
      "11   [55000]  [1.5670451007602498e-05]\n",
      "12   [60000]   [1.567045100760258e-05]\n",
      "13   [65000]  [1.5670451007602525e-05]\n",
      "14   [70000]  [1.0668323828738157e-05]\n",
      "15   [75000]  [1.0668323828738157e-05]\n",
      "16   [80000]  [1.0668323828738257e-05]\n",
      "17   [85000]  [1.0668323828738157e-05]\n",
      "18   [90000]  [1.0668323828738157e-05]\n",
      "19   [95000]  [1.0668323828738157e-05]\n",
      "20  [100000]  [1.0668323828738157e-05]\n"
     ]
    }
   ],
   "source": [
    "cols = ['bandwidth','main']\n",
    "bandwidth = []\n",
    "main = []\n",
    "for i in range(0, 105000, 5000):\n",
    "    bandwidth.append(diftrans.diftrans(pre_main = placebo_1, post_main = placebo_2, bandwidth_seq = i)['bandwidth'].values)\n",
    "    main.append(diftrans.diftrans(pre_main = placebo_1, post_main = placebo_2, bandwidth_seq = i)['main'].values)\n",
    "\n",
    "placebo_transport_df = pd.DataFrame({'bandwidth': bandwidth, 'main':main})    \n",
    "print(placebo_transport_df)"
   ]
  },
  {
   "cell_type": "code",
   "execution_count": 71,
   "metadata": {},
   "outputs": [
    {
     "name": "stderr",
     "output_type": "stream",
     "text": [
      "R[write to console]: Computing Transport Costs...\n",
      "\n"
     ]
    },
    {
     "name": "stdout",
     "output_type": "stream",
     "text": [
      "================================================================================\n"
     ]
    },
    {
     "name": "stderr",
     "output_type": "stream",
     "text": [
      "R[write to console]: The transport cost for the specified bandwidths have been computed.\n",
      "\n",
      "R[write to console]: Computing Transport Costs...\n",
      "\n"
     ]
    },
    {
     "name": "stdout",
     "output_type": "stream",
     "text": [
      "================================================================================\n"
     ]
    },
    {
     "name": "stderr",
     "output_type": "stream",
     "text": [
      "R[write to console]: The transport cost for the specified bandwidths have been computed.\n",
      "\n",
      "R[write to console]: Computing Transport Costs...\n",
      "\n"
     ]
    },
    {
     "name": "stdout",
     "output_type": "stream",
     "text": [
      "================================================================================\n"
     ]
    },
    {
     "name": "stderr",
     "output_type": "stream",
     "text": [
      "R[write to console]: The transport cost for the specified bandwidths have been computed.\n",
      "\n",
      "R[write to console]: Computing Transport Costs...\n",
      "\n"
     ]
    },
    {
     "name": "stdout",
     "output_type": "stream",
     "text": [
      "================================================================================\n"
     ]
    },
    {
     "name": "stderr",
     "output_type": "stream",
     "text": [
      "R[write to console]: The transport cost for the specified bandwidths have been computed.\n",
      "\n",
      "R[write to console]: Computing Transport Costs...\n",
      "\n"
     ]
    },
    {
     "name": "stdout",
     "output_type": "stream",
     "text": [
      "================================================================================\n"
     ]
    },
    {
     "name": "stderr",
     "output_type": "stream",
     "text": [
      "R[write to console]: The transport cost for the specified bandwidths have been computed.\n",
      "\n",
      "R[write to console]: Computing Transport Costs...\n",
      "\n"
     ]
    },
    {
     "name": "stdout",
     "output_type": "stream",
     "text": [
      "================================================================================\n"
     ]
    },
    {
     "name": "stderr",
     "output_type": "stream",
     "text": [
      "R[write to console]: The transport cost for the specified bandwidths have been computed.\n",
      "\n",
      "R[write to console]: Computing Transport Costs...\n",
      "\n"
     ]
    },
    {
     "name": "stdout",
     "output_type": "stream",
     "text": [
      "================================================================================\n"
     ]
    },
    {
     "name": "stderr",
     "output_type": "stream",
     "text": [
      "R[write to console]: The transport cost for the specified bandwidths have been computed.\n",
      "\n",
      "R[write to console]: Computing Transport Costs...\n",
      "\n"
     ]
    },
    {
     "name": "stdout",
     "output_type": "stream",
     "text": [
      "================================================================================\n"
     ]
    },
    {
     "name": "stderr",
     "output_type": "stream",
     "text": [
      "R[write to console]: The transport cost for the specified bandwidths have been computed.\n",
      "\n",
      "R[write to console]: Computing Transport Costs...\n",
      "\n"
     ]
    },
    {
     "name": "stdout",
     "output_type": "stream",
     "text": [
      "================================================================================\n"
     ]
    },
    {
     "name": "stderr",
     "output_type": "stream",
     "text": [
      "R[write to console]: The transport cost for the specified bandwidths have been computed.\n",
      "\n",
      "R[write to console]: Computing Transport Costs...\n",
      "\n"
     ]
    },
    {
     "name": "stdout",
     "output_type": "stream",
     "text": [
      "================================================================================\n"
     ]
    },
    {
     "name": "stderr",
     "output_type": "stream",
     "text": [
      "R[write to console]: The transport cost for the specified bandwidths have been computed.\n",
      "\n",
      "R[write to console]: Computing Transport Costs...\n",
      "\n"
     ]
    },
    {
     "name": "stdout",
     "output_type": "stream",
     "text": [
      "================================================================================\n"
     ]
    },
    {
     "name": "stderr",
     "output_type": "stream",
     "text": [
      "R[write to console]: The transport cost for the specified bandwidths have been computed.\n",
      "\n",
      "R[write to console]: Computing Transport Costs...\n",
      "\n"
     ]
    },
    {
     "name": "stdout",
     "output_type": "stream",
     "text": [
      "================================================================================\n"
     ]
    },
    {
     "name": "stderr",
     "output_type": "stream",
     "text": [
      "R[write to console]: The transport cost for the specified bandwidths have been computed.\n",
      "\n",
      "R[write to console]: Computing Transport Costs...\n",
      "\n"
     ]
    },
    {
     "name": "stdout",
     "output_type": "stream",
     "text": [
      "================================================================================\n"
     ]
    },
    {
     "name": "stderr",
     "output_type": "stream",
     "text": [
      "R[write to console]: The transport cost for the specified bandwidths have been computed.\n",
      "\n",
      "R[write to console]: Computing Transport Costs...\n",
      "\n"
     ]
    },
    {
     "name": "stdout",
     "output_type": "stream",
     "text": [
      "================================================================================\n"
     ]
    },
    {
     "name": "stderr",
     "output_type": "stream",
     "text": [
      "R[write to console]: The transport cost for the specified bandwidths have been computed.\n",
      "\n",
      "R[write to console]: Computing Transport Costs...\n",
      "\n"
     ]
    },
    {
     "name": "stdout",
     "output_type": "stream",
     "text": [
      "================================================================================\n"
     ]
    },
    {
     "name": "stderr",
     "output_type": "stream",
     "text": [
      "R[write to console]: The transport cost for the specified bandwidths have been computed.\n",
      "\n",
      "R[write to console]: Computing Transport Costs...\n",
      "\n"
     ]
    },
    {
     "name": "stdout",
     "output_type": "stream",
     "text": [
      "================================================================================\n"
     ]
    },
    {
     "name": "stderr",
     "output_type": "stream",
     "text": [
      "R[write to console]: The transport cost for the specified bandwidths have been computed.\n",
      "\n",
      "R[write to console]: Computing Transport Costs...\n",
      "\n"
     ]
    },
    {
     "name": "stdout",
     "output_type": "stream",
     "text": [
      "================================================================================\n"
     ]
    },
    {
     "name": "stderr",
     "output_type": "stream",
     "text": [
      "R[write to console]: The transport cost for the specified bandwidths have been computed.\n",
      "\n",
      "R[write to console]: Computing Transport Costs...\n",
      "\n"
     ]
    },
    {
     "name": "stdout",
     "output_type": "stream",
     "text": [
      "================================================================================\n"
     ]
    },
    {
     "name": "stderr",
     "output_type": "stream",
     "text": [
      "R[write to console]: The transport cost for the specified bandwidths have been computed.\n",
      "\n",
      "R[write to console]: Computing Transport Costs...\n",
      "\n"
     ]
    },
    {
     "name": "stdout",
     "output_type": "stream",
     "text": [
      "================================================================================\n"
     ]
    },
    {
     "name": "stderr",
     "output_type": "stream",
     "text": [
      "R[write to console]: The transport cost for the specified bandwidths have been computed.\n",
      "\n",
      "R[write to console]: Computing Transport Costs...\n",
      "\n"
     ]
    },
    {
     "name": "stdout",
     "output_type": "stream",
     "text": [
      "================================================================================\n"
     ]
    },
    {
     "name": "stderr",
     "output_type": "stream",
     "text": [
      "R[write to console]: The transport cost for the specified bandwidths have been computed.\n",
      "\n",
      "R[write to console]: Computing Transport Costs...\n",
      "\n"
     ]
    },
    {
     "name": "stdout",
     "output_type": "stream",
     "text": [
      "================================================================================\n"
     ]
    },
    {
     "name": "stderr",
     "output_type": "stream",
     "text": [
      "R[write to console]: The transport cost for the specified bandwidths have been computed.\n",
      "\n",
      "R[write to console]: Computing Transport Costs...\n",
      "\n"
     ]
    },
    {
     "name": "stdout",
     "output_type": "stream",
     "text": [
      "================================================================================\n"
     ]
    },
    {
     "name": "stderr",
     "output_type": "stream",
     "text": [
      "R[write to console]: The transport cost for the specified bandwidths have been computed.\n",
      "\n",
      "R[write to console]: Computing Transport Costs...\n",
      "\n"
     ]
    },
    {
     "name": "stdout",
     "output_type": "stream",
     "text": [
      "================================================================================\n"
     ]
    },
    {
     "name": "stderr",
     "output_type": "stream",
     "text": [
      "R[write to console]: The transport cost for the specified bandwidths have been computed.\n",
      "\n",
      "R[write to console]: Computing Transport Costs...\n",
      "\n"
     ]
    },
    {
     "name": "stdout",
     "output_type": "stream",
     "text": [
      "================================================================================\n"
     ]
    },
    {
     "name": "stderr",
     "output_type": "stream",
     "text": [
      "R[write to console]: The transport cost for the specified bandwidths have been computed.\n",
      "\n",
      "R[write to console]: Computing Transport Costs...\n",
      "\n"
     ]
    },
    {
     "name": "stdout",
     "output_type": "stream",
     "text": [
      "================================================================================\n"
     ]
    },
    {
     "name": "stderr",
     "output_type": "stream",
     "text": [
      "R[write to console]: The transport cost for the specified bandwidths have been computed.\n",
      "\n",
      "R[write to console]: Computing Transport Costs...\n",
      "\n"
     ]
    },
    {
     "name": "stdout",
     "output_type": "stream",
     "text": [
      "================================================================================\n"
     ]
    },
    {
     "name": "stderr",
     "output_type": "stream",
     "text": [
      "R[write to console]: The transport cost for the specified bandwidths have been computed.\n",
      "\n",
      "R[write to console]: Computing Transport Costs...\n",
      "\n"
     ]
    },
    {
     "name": "stdout",
     "output_type": "stream",
     "text": [
      "================================================================================\n"
     ]
    },
    {
     "name": "stderr",
     "output_type": "stream",
     "text": [
      "R[write to console]: The transport cost for the specified bandwidths have been computed.\n",
      "\n",
      "R[write to console]: Computing Transport Costs...\n",
      "\n"
     ]
    },
    {
     "name": "stdout",
     "output_type": "stream",
     "text": [
      "================================================================================\n"
     ]
    },
    {
     "name": "stderr",
     "output_type": "stream",
     "text": [
      "R[write to console]: The transport cost for the specified bandwidths have been computed.\n",
      "\n",
      "R[write to console]: Computing Transport Costs...\n",
      "\n"
     ]
    },
    {
     "name": "stdout",
     "output_type": "stream",
     "text": [
      "================================================================================\n"
     ]
    },
    {
     "name": "stderr",
     "output_type": "stream",
     "text": [
      "R[write to console]: The transport cost for the specified bandwidths have been computed.\n",
      "\n",
      "R[write to console]: Computing Transport Costs...\n",
      "\n"
     ]
    },
    {
     "name": "stdout",
     "output_type": "stream",
     "text": [
      "================================================================================\n"
     ]
    },
    {
     "name": "stderr",
     "output_type": "stream",
     "text": [
      "R[write to console]: The transport cost for the specified bandwidths have been computed.\n",
      "\n",
      "R[write to console]: Computing Transport Costs...\n",
      "\n"
     ]
    },
    {
     "name": "stdout",
     "output_type": "stream",
     "text": [
      "================================================================================\n"
     ]
    },
    {
     "name": "stderr",
     "output_type": "stream",
     "text": [
      "R[write to console]: The transport cost for the specified bandwidths have been computed.\n",
      "\n",
      "R[write to console]: Computing Transport Costs...\n",
      "\n"
     ]
    },
    {
     "name": "stdout",
     "output_type": "stream",
     "text": [
      "================================================================================\n"
     ]
    },
    {
     "name": "stderr",
     "output_type": "stream",
     "text": [
      "R[write to console]: The transport cost for the specified bandwidths have been computed.\n",
      "\n",
      "R[write to console]: Computing Transport Costs...\n",
      "\n"
     ]
    },
    {
     "name": "stdout",
     "output_type": "stream",
     "text": [
      "================================================================================\n"
     ]
    },
    {
     "name": "stderr",
     "output_type": "stream",
     "text": [
      "R[write to console]: The transport cost for the specified bandwidths have been computed.\n",
      "\n",
      "R[write to console]: Computing Transport Costs...\n",
      "\n"
     ]
    },
    {
     "name": "stdout",
     "output_type": "stream",
     "text": [
      "================================================================================\n"
     ]
    },
    {
     "name": "stderr",
     "output_type": "stream",
     "text": [
      "R[write to console]: The transport cost for the specified bandwidths have been computed.\n",
      "\n",
      "R[write to console]: Computing Transport Costs...\n",
      "\n"
     ]
    },
    {
     "name": "stdout",
     "output_type": "stream",
     "text": [
      "================================================================================\n"
     ]
    },
    {
     "name": "stderr",
     "output_type": "stream",
     "text": [
      "R[write to console]: The transport cost for the specified bandwidths have been computed.\n",
      "\n",
      "R[write to console]: Computing Transport Costs...\n",
      "\n"
     ]
    },
    {
     "name": "stdout",
     "output_type": "stream",
     "text": [
      "================================================================================\n"
     ]
    },
    {
     "name": "stderr",
     "output_type": "stream",
     "text": [
      "R[write to console]: The transport cost for the specified bandwidths have been computed.\n",
      "\n",
      "R[write to console]: Computing Transport Costs...\n",
      "\n"
     ]
    },
    {
     "name": "stdout",
     "output_type": "stream",
     "text": [
      "================================================================================\n"
     ]
    },
    {
     "name": "stderr",
     "output_type": "stream",
     "text": [
      "R[write to console]: The transport cost for the specified bandwidths have been computed.\n",
      "\n",
      "R[write to console]: Computing Transport Costs...\n",
      "\n"
     ]
    },
    {
     "name": "stdout",
     "output_type": "stream",
     "text": [
      "================================================================================\n"
     ]
    },
    {
     "name": "stderr",
     "output_type": "stream",
     "text": [
      "R[write to console]: The transport cost for the specified bandwidths have been computed.\n",
      "\n",
      "R[write to console]: Computing Transport Costs...\n",
      "\n"
     ]
    },
    {
     "name": "stdout",
     "output_type": "stream",
     "text": [
      "================================================================================\n"
     ]
    },
    {
     "name": "stderr",
     "output_type": "stream",
     "text": [
      "R[write to console]: The transport cost for the specified bandwidths have been computed.\n",
      "\n",
      "R[write to console]: Computing Transport Costs...\n",
      "\n"
     ]
    },
    {
     "name": "stdout",
     "output_type": "stream",
     "text": [
      "================================================================================\n"
     ]
    },
    {
     "name": "stderr",
     "output_type": "stream",
     "text": [
      "R[write to console]: The transport cost for the specified bandwidths have been computed.\n",
      "\n",
      "R[write to console]: Computing Transport Costs...\n",
      "\n"
     ]
    },
    {
     "name": "stdout",
     "output_type": "stream",
     "text": [
      "================================================================================\n"
     ]
    },
    {
     "name": "stderr",
     "output_type": "stream",
     "text": [
      "R[write to console]: The transport cost for the specified bandwidths have been computed.\n",
      "\n",
      "R[write to console]: Computing Transport Costs...\n",
      "\n"
     ]
    },
    {
     "name": "stdout",
     "output_type": "stream",
     "text": [
      "================================================================================\n"
     ]
    },
    {
     "name": "stderr",
     "output_type": "stream",
     "text": [
      "R[write to console]: The transport cost for the specified bandwidths have been computed.\n",
      "\n"
     ]
    },
    {
     "name": "stdout",
     "output_type": "stream",
     "text": [
      "   bandwidth                      main\n",
      "0        [0]    [0.013909162594171466]\n",
      "1     [5000]   [0.0019489641981209477]\n",
      "2    [10000]   [0.0007573809696677039]\n",
      "3    [15000]   [0.0007316603132025103]\n",
      "4    [20000]   [0.0006484126024571933]\n",
      "5    [25000]   [0.0006093066340512542]\n",
      "6    [30000]   [0.0005464930020972581]\n",
      "7    [35000]   [0.0005421327904816576]\n",
      "8    [40000]   [0.0005421327904816581]\n",
      "9    [45000]   [0.0005421327904816614]\n",
      "10   [50000]  [1.5670451007602535e-05]\n",
      "11   [55000]  [1.5670451007602498e-05]\n",
      "12   [60000]   [1.567045100760258e-05]\n",
      "13   [65000]  [1.5670451007602525e-05]\n",
      "14   [70000]  [1.0668323828738157e-05]\n",
      "15   [75000]  [1.0668323828738157e-05]\n",
      "16   [80000]  [1.0668323828738257e-05]\n",
      "17   [85000]  [1.0668323828738157e-05]\n",
      "18   [90000]  [1.0668323828738157e-05]\n",
      "19   [95000]  [1.0668323828738157e-05]\n",
      "20  [100000]  [1.0668323828738157e-05]\n"
     ]
    }
   ],
   "source": [
    "\n",
    "cols = ['bandwidth','main']\n",
    "bandwidth2 = []\n",
    "main2 = []\n",
    "for i in range(0,105000, 5000):\n",
    "    bandwidth2.append(diftrans.diftrans(pre_main = Beijing_pre, post_main = Beijing_post, bandwidth_seq = i)['bandwidth'].values)\n",
    "    main2.append(diftrans.diftrans(pre_main = Beijing_pre, post_main = Beijing_post, bandwidth_seq = i)['main'].values)\n",
    "\n",
    "empirical_transport_df = pd.DataFrame({'bandwidth': bandwidth2, 'main':main2})    \n",
    "print(placebo_transport_df)\n"
   ]
  },
  {
   "cell_type": "code",
   "execution_count": 72,
   "metadata": {},
   "outputs": [
    {
     "name": "stderr",
     "output_type": "stream",
     "text": [
      "R[write to console]: Computing Transport Costs...\n",
      "\n"
     ]
    },
    {
     "name": "stdout",
     "output_type": "stream",
     "text": [
      "================================================================================\n"
     ]
    },
    {
     "name": "stderr",
     "output_type": "stream",
     "text": [
      "R[write to console]: The transport cost for the specified bandwidths have been computed.\n",
      "\n",
      "R[write to console]: Computing Transport Costs...\n",
      "\n"
     ]
    },
    {
     "name": "stdout",
     "output_type": "stream",
     "text": [
      "================================================================================\n"
     ]
    },
    {
     "name": "stderr",
     "output_type": "stream",
     "text": [
      "R[write to console]: The transport cost for the specified bandwidths have been computed.\n",
      "\n",
      "R[write to console]: Computing Transport Costs...\n",
      "\n"
     ]
    },
    {
     "name": "stdout",
     "output_type": "stream",
     "text": [
      "================================================================================\n"
     ]
    },
    {
     "name": "stderr",
     "output_type": "stream",
     "text": [
      "R[write to console]: The transport cost for the specified bandwidths have been computed.\n",
      "\n",
      "R[write to console]: Computing Transport Costs...\n",
      "\n"
     ]
    },
    {
     "name": "stdout",
     "output_type": "stream",
     "text": [
      "================================================================================\n"
     ]
    },
    {
     "name": "stderr",
     "output_type": "stream",
     "text": [
      "R[write to console]: The transport cost for the specified bandwidths have been computed.\n",
      "\n",
      "R[write to console]: Computing Transport Costs...\n",
      "\n"
     ]
    },
    {
     "name": "stdout",
     "output_type": "stream",
     "text": [
      "================================================================================\n"
     ]
    },
    {
     "name": "stderr",
     "output_type": "stream",
     "text": [
      "R[write to console]: The transport cost for the specified bandwidths have been computed.\n",
      "\n",
      "R[write to console]: Computing Transport Costs...\n",
      "\n"
     ]
    },
    {
     "name": "stdout",
     "output_type": "stream",
     "text": [
      "================================================================================\n"
     ]
    },
    {
     "name": "stderr",
     "output_type": "stream",
     "text": [
      "R[write to console]: The transport cost for the specified bandwidths have been computed.\n",
      "\n",
      "R[write to console]: Computing Transport Costs...\n",
      "\n"
     ]
    },
    {
     "name": "stdout",
     "output_type": "stream",
     "text": [
      "================================================================================\n"
     ]
    },
    {
     "name": "stderr",
     "output_type": "stream",
     "text": [
      "R[write to console]: The transport cost for the specified bandwidths have been computed.\n",
      "\n",
      "R[write to console]: Computing Transport Costs...\n",
      "\n"
     ]
    },
    {
     "name": "stdout",
     "output_type": "stream",
     "text": [
      "================================================================================\n"
     ]
    },
    {
     "name": "stderr",
     "output_type": "stream",
     "text": [
      "R[write to console]: The transport cost for the specified bandwidths have been computed.\n",
      "\n",
      "R[write to console]: Computing Transport Costs...\n",
      "\n"
     ]
    },
    {
     "name": "stdout",
     "output_type": "stream",
     "text": [
      "================================================================================\n"
     ]
    },
    {
     "name": "stderr",
     "output_type": "stream",
     "text": [
      "R[write to console]: The transport cost for the specified bandwidths have been computed.\n",
      "\n",
      "R[write to console]: Computing Transport Costs...\n",
      "\n"
     ]
    },
    {
     "name": "stdout",
     "output_type": "stream",
     "text": [
      "================================================================================\n"
     ]
    },
    {
     "name": "stderr",
     "output_type": "stream",
     "text": [
      "R[write to console]: The transport cost for the specified bandwidths have been computed.\n",
      "\n",
      "R[write to console]: Computing Transport Costs...\n",
      "\n"
     ]
    },
    {
     "name": "stdout",
     "output_type": "stream",
     "text": [
      "================================================================================\n"
     ]
    },
    {
     "name": "stderr",
     "output_type": "stream",
     "text": [
      "R[write to console]: The transport cost for the specified bandwidths have been computed.\n",
      "\n",
      "R[write to console]: Computing Transport Costs...\n",
      "\n"
     ]
    },
    {
     "name": "stdout",
     "output_type": "stream",
     "text": [
      "================================================================================\n"
     ]
    },
    {
     "name": "stderr",
     "output_type": "stream",
     "text": [
      "R[write to console]: The transport cost for the specified bandwidths have been computed.\n",
      "\n",
      "R[write to console]: Computing Transport Costs...\n",
      "\n"
     ]
    },
    {
     "name": "stdout",
     "output_type": "stream",
     "text": [
      "================================================================================\n"
     ]
    },
    {
     "name": "stderr",
     "output_type": "stream",
     "text": [
      "R[write to console]: The transport cost for the specified bandwidths have been computed.\n",
      "\n",
      "R[write to console]: Computing Transport Costs...\n",
      "\n"
     ]
    },
    {
     "name": "stdout",
     "output_type": "stream",
     "text": [
      "================================================================================\n"
     ]
    },
    {
     "name": "stderr",
     "output_type": "stream",
     "text": [
      "R[write to console]: The transport cost for the specified bandwidths have been computed.\n",
      "\n",
      "R[write to console]: Computing Transport Costs...\n",
      "\n"
     ]
    },
    {
     "name": "stdout",
     "output_type": "stream",
     "text": [
      "================================================================================\n"
     ]
    },
    {
     "name": "stderr",
     "output_type": "stream",
     "text": [
      "R[write to console]: The transport cost for the specified bandwidths have been computed.\n",
      "\n",
      "R[write to console]: Computing Transport Costs...\n",
      "\n"
     ]
    },
    {
     "name": "stdout",
     "output_type": "stream",
     "text": [
      "================================================================================\n"
     ]
    },
    {
     "name": "stderr",
     "output_type": "stream",
     "text": [
      "R[write to console]: The transport cost for the specified bandwidths have been computed.\n",
      "\n",
      "R[write to console]: Computing Transport Costs...\n",
      "\n"
     ]
    },
    {
     "name": "stdout",
     "output_type": "stream",
     "text": [
      "================================================================================\n"
     ]
    },
    {
     "name": "stderr",
     "output_type": "stream",
     "text": [
      "R[write to console]: The transport cost for the specified bandwidths have been computed.\n",
      "\n",
      "R[write to console]: Computing Transport Costs...\n",
      "\n"
     ]
    },
    {
     "name": "stdout",
     "output_type": "stream",
     "text": [
      "================================================================================\n"
     ]
    },
    {
     "name": "stderr",
     "output_type": "stream",
     "text": [
      "R[write to console]: The transport cost for the specified bandwidths have been computed.\n",
      "\n",
      "R[write to console]: Computing Transport Costs...\n",
      "\n"
     ]
    },
    {
     "name": "stdout",
     "output_type": "stream",
     "text": [
      "================================================================================\n"
     ]
    },
    {
     "name": "stderr",
     "output_type": "stream",
     "text": [
      "R[write to console]: The transport cost for the specified bandwidths have been computed.\n",
      "\n",
      "R[write to console]: Computing Transport Costs...\n",
      "\n"
     ]
    },
    {
     "name": "stdout",
     "output_type": "stream",
     "text": [
      "================================================================================\n"
     ]
    },
    {
     "name": "stderr",
     "output_type": "stream",
     "text": [
      "R[write to console]: The transport cost for the specified bandwidths have been computed.\n",
      "\n",
      "R[write to console]: Computing Transport Costs...\n",
      "\n"
     ]
    },
    {
     "name": "stdout",
     "output_type": "stream",
     "text": [
      "================================================================================\n"
     ]
    },
    {
     "name": "stderr",
     "output_type": "stream",
     "text": [
      "R[write to console]: The transport cost for the specified bandwidths have been computed.\n",
      "\n",
      "R[write to console]: Computing Transport Costs...\n",
      "\n"
     ]
    },
    {
     "name": "stdout",
     "output_type": "stream",
     "text": [
      "================================================================================\n"
     ]
    },
    {
     "name": "stderr",
     "output_type": "stream",
     "text": [
      "R[write to console]: The transport cost for the specified bandwidths have been computed.\n",
      "\n",
      "R[write to console]: Computing Transport Costs...\n",
      "\n"
     ]
    },
    {
     "name": "stdout",
     "output_type": "stream",
     "text": [
      "================================================================================\n"
     ]
    },
    {
     "name": "stderr",
     "output_type": "stream",
     "text": [
      "R[write to console]: The transport cost for the specified bandwidths have been computed.\n",
      "\n",
      "R[write to console]: Computing Transport Costs...\n",
      "\n"
     ]
    },
    {
     "name": "stdout",
     "output_type": "stream",
     "text": [
      "================================================================================\n"
     ]
    },
    {
     "name": "stderr",
     "output_type": "stream",
     "text": [
      "R[write to console]: The transport cost for the specified bandwidths have been computed.\n",
      "\n",
      "R[write to console]: Computing Transport Costs...\n",
      "\n"
     ]
    },
    {
     "name": "stdout",
     "output_type": "stream",
     "text": [
      "================================================================================\n"
     ]
    },
    {
     "name": "stderr",
     "output_type": "stream",
     "text": [
      "R[write to console]: The transport cost for the specified bandwidths have been computed.\n",
      "\n",
      "R[write to console]: Computing Transport Costs...\n",
      "\n"
     ]
    },
    {
     "name": "stdout",
     "output_type": "stream",
     "text": [
      "================================================================================\n"
     ]
    },
    {
     "name": "stderr",
     "output_type": "stream",
     "text": [
      "R[write to console]: The transport cost for the specified bandwidths have been computed.\n",
      "\n",
      "R[write to console]: Computing Transport Costs...\n",
      "\n"
     ]
    },
    {
     "name": "stdout",
     "output_type": "stream",
     "text": [
      "================================================================================\n"
     ]
    },
    {
     "name": "stderr",
     "output_type": "stream",
     "text": [
      "R[write to console]: The transport cost for the specified bandwidths have been computed.\n",
      "\n",
      "R[write to console]: Computing Transport Costs...\n",
      "\n"
     ]
    },
    {
     "name": "stdout",
     "output_type": "stream",
     "text": [
      "================================================================================\n"
     ]
    },
    {
     "name": "stderr",
     "output_type": "stream",
     "text": [
      "R[write to console]: The transport cost for the specified bandwidths have been computed.\n",
      "\n",
      "R[write to console]: Computing Transport Costs...\n",
      "\n"
     ]
    },
    {
     "name": "stdout",
     "output_type": "stream",
     "text": [
      "================================================================================\n"
     ]
    },
    {
     "name": "stderr",
     "output_type": "stream",
     "text": [
      "R[write to console]: The transport cost for the specified bandwidths have been computed.\n",
      "\n",
      "R[write to console]: Computing Transport Costs...\n",
      "\n"
     ]
    },
    {
     "name": "stdout",
     "output_type": "stream",
     "text": [
      "================================================================================\n"
     ]
    },
    {
     "name": "stderr",
     "output_type": "stream",
     "text": [
      "R[write to console]: The transport cost for the specified bandwidths have been computed.\n",
      "\n",
      "R[write to console]: Computing Transport Costs...\n",
      "\n"
     ]
    },
    {
     "name": "stdout",
     "output_type": "stream",
     "text": [
      "================================================================================\n"
     ]
    },
    {
     "name": "stderr",
     "output_type": "stream",
     "text": [
      "R[write to console]: The transport cost for the specified bandwidths have been computed.\n",
      "\n",
      "R[write to console]: Computing Transport Costs...\n",
      "\n"
     ]
    },
    {
     "name": "stdout",
     "output_type": "stream",
     "text": [
      "================================================================================\n"
     ]
    },
    {
     "name": "stderr",
     "output_type": "stream",
     "text": [
      "R[write to console]: The transport cost for the specified bandwidths have been computed.\n",
      "\n",
      "R[write to console]: Computing Transport Costs...\n",
      "\n"
     ]
    },
    {
     "name": "stdout",
     "output_type": "stream",
     "text": [
      "================================================================================\n"
     ]
    },
    {
     "name": "stderr",
     "output_type": "stream",
     "text": [
      "R[write to console]: The transport cost for the specified bandwidths have been computed.\n",
      "\n",
      "R[write to console]: Computing Transport Costs...\n",
      "\n"
     ]
    },
    {
     "name": "stdout",
     "output_type": "stream",
     "text": [
      "================================================================================\n"
     ]
    },
    {
     "name": "stderr",
     "output_type": "stream",
     "text": [
      "R[write to console]: The transport cost for the specified bandwidths have been computed.\n",
      "\n",
      "R[write to console]: Computing Transport Costs...\n",
      "\n"
     ]
    },
    {
     "name": "stdout",
     "output_type": "stream",
     "text": [
      "================================================================================\n"
     ]
    },
    {
     "name": "stderr",
     "output_type": "stream",
     "text": [
      "R[write to console]: The transport cost for the specified bandwidths have been computed.\n",
      "\n",
      "R[write to console]: Computing Transport Costs...\n",
      "\n"
     ]
    },
    {
     "name": "stdout",
     "output_type": "stream",
     "text": [
      "================================================================================\n"
     ]
    },
    {
     "name": "stderr",
     "output_type": "stream",
     "text": [
      "R[write to console]: The transport cost for the specified bandwidths have been computed.\n",
      "\n",
      "R[write to console]: Computing Transport Costs...\n",
      "\n"
     ]
    },
    {
     "name": "stdout",
     "output_type": "stream",
     "text": [
      "================================================================================\n"
     ]
    },
    {
     "name": "stderr",
     "output_type": "stream",
     "text": [
      "R[write to console]: The transport cost for the specified bandwidths have been computed.\n",
      "\n",
      "R[write to console]: Computing Transport Costs...\n",
      "\n"
     ]
    },
    {
     "name": "stdout",
     "output_type": "stream",
     "text": [
      "================================================================================\n"
     ]
    },
    {
     "name": "stderr",
     "output_type": "stream",
     "text": [
      "R[write to console]: The transport cost for the specified bandwidths have been computed.\n",
      "\n",
      "R[write to console]: Computing Transport Costs...\n",
      "\n"
     ]
    },
    {
     "name": "stdout",
     "output_type": "stream",
     "text": [
      "================================================================================\n"
     ]
    },
    {
     "name": "stderr",
     "output_type": "stream",
     "text": [
      "R[write to console]: The transport cost for the specified bandwidths have been computed.\n",
      "\n",
      "R[write to console]: Computing Transport Costs...\n",
      "\n"
     ]
    },
    {
     "name": "stdout",
     "output_type": "stream",
     "text": [
      "================================================================================\n"
     ]
    },
    {
     "name": "stderr",
     "output_type": "stream",
     "text": [
      "R[write to console]: The transport cost for the specified bandwidths have been computed.\n",
      "\n",
      "R[write to console]: Computing Transport Costs...\n",
      "\n"
     ]
    },
    {
     "name": "stdout",
     "output_type": "stream",
     "text": [
      "================================================================================\n"
     ]
    },
    {
     "name": "stderr",
     "output_type": "stream",
     "text": [
      "R[write to console]: The transport cost for the specified bandwidths have been computed.\n",
      "\n",
      "R[write to console]: Computing Transport Costs...\n",
      "\n"
     ]
    },
    {
     "name": "stdout",
     "output_type": "stream",
     "text": [
      "================================================================================\n"
     ]
    },
    {
     "name": "stderr",
     "output_type": "stream",
     "text": [
      "R[write to console]: The transport cost for the specified bandwidths have been computed.\n",
      "\n"
     ]
    },
    {
     "name": "stdout",
     "output_type": "stream",
     "text": [
      "   bandwidth                    main\n",
      "0        [0]   [0.35312341198976444]\n",
      "1     [5000]   [0.17785942748226927]\n",
      "2    [10000]   [0.15183080916094385]\n",
      "3    [15000]   [0.13805857605749003]\n",
      "4    [20000]   [0.12315956106076102]\n",
      "5    [25000]   [0.10076861095451133]\n",
      "6    [30000]   [0.08807505784276998]\n",
      "7    [35000]   [0.07725061893640303]\n",
      "8    [40000]   [0.06488865219442809]\n",
      "9    [45000]   [0.05525307829038914]\n",
      "10   [50000]  [0.053762156781739324]\n",
      "11   [55000]   [0.05375779736212339]\n",
      "12   [60000]   [0.05126130306206454]\n",
      "13   [65000]   [0.05068876595250505]\n",
      "14   [70000]   [0.04098760416717745]\n",
      "15   [75000]   [0.04081468052241197]\n",
      "16   [80000]  [0.039060507085339355]\n",
      "17   [85000]   [0.03895175520653571]\n",
      "18   [90000]  [0.030705186433058418]\n",
      "19   [95000]  [0.028104066062217124]\n",
      "20  [100000]  [0.027120290368887762]\n"
     ]
    }
   ],
   "source": [
    "cols = ['bandwidth','main']\n",
    "bandwidth2 = []\n",
    "main2 = []\n",
    "for i in range(0,105000, 5000):\n",
    "    bandwidth2.append(diftrans.diftrans(pre_main = Beijing_pre, post_main = Beijing_post, bandwidth_seq = i)['bandwidth'].values)\n",
    "    main2.append(diftrans.diftrans(pre_main = Beijing_pre, post_main = Beijing_post, bandwidth_seq = i)['main'].values)\n",
    "\n",
    "empirical_transport_df = pd.DataFrame({'bandwidth': bandwidth2, 'main':main2})    \n",
    "print(empirical_transport_df)\n"
   ]
  },
  {
   "cell_type": "code",
   "execution_count": 38,
   "metadata": {},
   "outputs": [
    {
     "name": "stdout",
     "output_type": "stream",
     "text": [
      "bandwidth    float64\n",
      "main         float64\n",
      "dataset       object\n",
      "dtype: object\n"
     ]
    },
    {
     "data": {
      "text/plain": [
       "(array([ 0,  1,  2,  3,  4,  5,  6,  7,  8,  9, 10, 11, 12, 13, 14, 15, 16,\n",
       "        17, 18, 19, 20]),\n",
       " <a list of 21 Text major ticklabel objects>)"
      ]
     },
     "execution_count": 38,
     "metadata": {},
     "output_type": "execute_result"
    },
    {
     "data": {
      "image/png": "[encoded data removed]",
      "text/plain": [
       "<Figure size 432x288 with 1 Axes>"
      ]
     },
     "metadata": {
      "needs_background": "light"
     },
     "output_type": "display_data"
    }
   ],
   "source": [
    "transport_costs = pd.concat([empirical_transport_df.assign(dataset='empirical_transport_df'), placebo_transport_df.assign(dataset = 'placebo_transport_df')])\n",
    "transport_costs[['bandwidth','main']] = transport_costs[['bandwidth','main']].astype(float)\n",
    "#print(transport_costs.dtypes)\n",
    "sns.barplot(x = \"bandwidth\", y = \"main\", data = transport_costs, hue='dataset')\n",
    "plt.xlabel(\"Bandwidth\", size=14) \n",
    "plt.ylabel(\"costs\", size=14) \n",
    "plt.title(\"Transport Costs at different \", size=18) \n",
    "plt.legend(loc='upper right')\n",
    "plt.xticks(rotation=45)"
   ]
  },
  {
   "cell_type": "markdown",
   "metadata": {},
   "source": [
    "## 3.6 Compute Differences-in-Transports Estimator"
   ]
  },
  {
   "cell_type": "code",
   "execution_count": 46,
   "metadata": {},
   "outputs": [
    {
     "name": "stderr",
     "output_type": "stream",
     "text": [
      "R[write to console]: Computing Differences-in-Transports Estimator...\n",
      "\n",
      "R[write to console]: Note: you are using `conservative = T`.\n",
      "\n"
     ]
    },
    {
     "name": "stdout",
     "output_type": "stream",
     "text": [
      "================================================================================\n"
     ]
    },
    {
     "name": "stderr",
     "output_type": "stream",
     "text": [
      "R[write to console]: The conservative diff-in-transports estimator is 0.0544428953078284 at d = 0\n",
      "\n",
      "R[write to console]: Computing Differences-in-Transports Estimator...\n",
      "\n",
      "R[write to console]: Note: you are using `conservative = T`.\n",
      "\n"
     ]
    },
    {
     "name": "stdout",
     "output_type": "stream",
     "text": [
      "   bandwidth      main    main2d   control      diff    diff2d\n",
      "1          0  0.353123  0.353123  0.298681  0.054443  0.054443\n",
      "================================================================================\n"
     ]
    },
    {
     "name": "stderr",
     "output_type": "stream",
     "text": [
      "R[write to console]: The conservative diff-in-transports estimator is 0.0544428953078284 at d = 0\n",
      "\n",
      "R[write to console]: Computing Differences-in-Transports Estimator...\n",
      "\n",
      "R[write to console]: Note: you are using `conservative = T`.\n",
      "\n"
     ]
    },
    {
     "name": "stdout",
     "output_type": "stream",
     "text": [
      "================================================================================\n"
     ]
    },
    {
     "name": "stderr",
     "output_type": "stream",
     "text": [
      "R[write to console]: The conservative diff-in-transports estimator is 0.0544428953078284 at d = 0\n",
      "\n",
      "R[write to console]: Computing Differences-in-Transports Estimator...\n",
      "\n",
      "R[write to console]: Note: you are using `conservative = T`.\n",
      "\n"
     ]
    },
    {
     "name": "stdout",
     "output_type": "stream",
     "text": [
      "================================================================================\n"
     ]
    },
    {
     "name": "stderr",
     "output_type": "stream",
     "text": [
      "R[write to console]: The conservative diff-in-transports estimator is 0.0544428953078284 at d = 0\n",
      "\n",
      "R[write to console]: Computing Differences-in-Transports Estimator...\n",
      "\n",
      "R[write to console]: Note: you are using `conservative = T`.\n",
      "\n"
     ]
    },
    {
     "name": "stdout",
     "output_type": "stream",
     "text": [
      "================================================================================\n"
     ]
    },
    {
     "name": "stderr",
     "output_type": "stream",
     "text": [
      "R[write to console]: The conservative diff-in-transports estimator is 0.0544428953078284 at d = 0\n",
      "\n",
      "R[write to console]: Computing Differences-in-Transports Estimator...\n",
      "\n",
      "R[write to console]: Note: you are using `conservative = T`.\n",
      "\n"
     ]
    },
    {
     "name": "stdout",
     "output_type": "stream",
     "text": [
      "================================================================================\n"
     ]
    },
    {
     "name": "stderr",
     "output_type": "stream",
     "text": [
      "R[write to console]: The conservative diff-in-transports estimator is 0.0544428953078284 at d = 0\n",
      "\n",
      "R[write to console]: Computing Differences-in-Transports Estimator...\n",
      "\n",
      "R[write to console]: Note: you are using `conservative = T`.\n",
      "\n"
     ]
    },
    {
     "name": "stdout",
     "output_type": "stream",
     "text": [
      "================================================================================\n"
     ]
    },
    {
     "name": "stderr",
     "output_type": "stream",
     "text": [
      "R[write to console]: The conservative diff-in-transports estimator is 0.0544428953078284 at d = 0\n",
      "\n",
      "R[write to console]: Computing Differences-in-Transports Estimator...\n",
      "\n",
      "R[write to console]: Note: you are using `conservative = T`.\n",
      "\n"
     ]
    },
    {
     "name": "stdout",
     "output_type": "stream",
     "text": [
      "================================================================================\n"
     ]
    },
    {
     "name": "stderr",
     "output_type": "stream",
     "text": [
      "R[write to console]: The conservative diff-in-transports estimator is 0.0742401997649757 at d = 2500\n",
      "\n",
      "R[write to console]: Computing Differences-in-Transports Estimator...\n",
      "\n",
      "R[write to console]: Note: you are using `conservative = T`.\n",
      "\n"
     ]
    },
    {
     "name": "stdout",
     "output_type": "stream",
     "text": [
      "================================================================================\n"
     ]
    },
    {
     "name": "stderr",
     "output_type": "stream",
     "text": [
      "R[write to console]: The conservative diff-in-transports estimator is 0.0742401997649757 at d = 2500\n",
      "\n",
      "R[write to console]: Computing Differences-in-Transports Estimator...\n",
      "\n",
      "R[write to console]: Note: you are using `conservative = T`.\n",
      "\n"
     ]
    },
    {
     "name": "stdout",
     "output_type": "stream",
     "text": [
      "================================================================================\n"
     ]
    },
    {
     "name": "stderr",
     "output_type": "stream",
     "text": [
      "R[write to console]: The conservative diff-in-transports estimator is 0.0742401997649757 at d = 2500\n",
      "\n",
      "R[write to console]: Computing Differences-in-Transports Estimator...\n",
      "\n",
      "R[write to console]: Note: you are using `conservative = T`.\n",
      "\n"
     ]
    },
    {
     "name": "stdout",
     "output_type": "stream",
     "text": [
      "================================================================================\n"
     ]
    },
    {
     "name": "stderr",
     "output_type": "stream",
     "text": [
      "R[write to console]: The conservative diff-in-transports estimator is 0.0742401997649757 at d = 2500\n",
      "\n",
      "R[write to console]: Computing Differences-in-Transports Estimator...\n",
      "\n",
      "R[write to console]: Note: you are using `conservative = T`.\n",
      "\n"
     ]
    },
    {
     "name": "stdout",
     "output_type": "stream",
     "text": [
      "================================================================================\n"
     ]
    },
    {
     "name": "stderr",
     "output_type": "stream",
     "text": [
      "R[write to console]: The conservative diff-in-transports estimator is 0.0742401997649757 at d = 2500\n",
      "\n",
      "R[write to console]: Computing Differences-in-Transports Estimator...\n",
      "\n",
      "R[write to console]: Note: you are using `conservative = T`.\n",
      "\n"
     ]
    },
    {
     "name": "stdout",
     "output_type": "stream",
     "text": [
      "================================================================================\n"
     ]
    },
    {
     "name": "stderr",
     "output_type": "stream",
     "text": [
      "R[write to console]: The conservative diff-in-transports estimator is 0.0742401997649757 at d = 2500\n",
      "\n",
      "R[write to console]: Computing Differences-in-Transports Estimator...\n",
      "\n",
      "R[write to console]: Note: you are using `conservative = T`.\n",
      "\n"
     ]
    },
    {
     "name": "stdout",
     "output_type": "stream",
     "text": [
      "================================================================================\n"
     ]
    },
    {
     "name": "stderr",
     "output_type": "stream",
     "text": [
      "R[write to console]: The conservative diff-in-transports estimator is 0.106214258132936 at d = 5000\n",
      "\n",
      "R[write to console]: Computing Differences-in-Transports Estimator...\n",
      "\n",
      "R[write to console]: Note: you are using `conservative = T`.\n",
      "\n"
     ]
    },
    {
     "name": "stdout",
     "output_type": "stream",
     "text": [
      "================================================================================\n"
     ]
    },
    {
     "name": "stderr",
     "output_type": "stream",
     "text": [
      "R[write to console]: The conservative diff-in-transports estimator is 0.106214258132936 at d = 5000\n",
      "\n",
      "R[write to console]: Computing Differences-in-Transports Estimator...\n",
      "\n",
      "R[write to console]: Note: you are using `conservative = T`.\n",
      "\n"
     ]
    },
    {
     "name": "stdout",
     "output_type": "stream",
     "text": [
      "================================================================================\n"
     ]
    },
    {
     "name": "stderr",
     "output_type": "stream",
     "text": [
      "R[write to console]: The conservative diff-in-transports estimator is 0.106214258132936 at d = 5000\n",
      "\n",
      "R[write to console]: Computing Differences-in-Transports Estimator...\n",
      "\n",
      "R[write to console]: Note: you are using `conservative = T`.\n",
      "\n"
     ]
    },
    {
     "name": "stdout",
     "output_type": "stream",
     "text": [
      "================================================================================\n"
     ]
    },
    {
     "name": "stderr",
     "output_type": "stream",
     "text": [
      "R[write to console]: The conservative diff-in-transports estimator is 0.106214258132936 at d = 5000\n",
      "\n",
      "R[write to console]: Computing Differences-in-Transports Estimator...\n",
      "\n",
      "R[write to console]: Note: you are using `conservative = T`.\n",
      "\n"
     ]
    },
    {
     "name": "stdout",
     "output_type": "stream",
     "text": [
      "================================================================================\n"
     ]
    },
    {
     "name": "stderr",
     "output_type": "stream",
     "text": [
      "R[write to console]: The conservative diff-in-transports estimator is 0.106214258132936 at d = 5000\n",
      "\n",
      "R[write to console]: Computing Differences-in-Transports Estimator...\n",
      "\n",
      "R[write to console]: Note: you are using `conservative = T`.\n",
      "\n"
     ]
    },
    {
     "name": "stdout",
     "output_type": "stream",
     "text": [
      "================================================================================\n"
     ]
    },
    {
     "name": "stderr",
     "output_type": "stream",
     "text": [
      "R[write to console]: The conservative diff-in-transports estimator is 0.106214258132936 at d = 5000\n",
      "\n",
      "R[write to console]: Computing Differences-in-Transports Estimator...\n",
      "\n",
      "R[write to console]: Note: you are using `conservative = T`.\n",
      "\n"
     ]
    },
    {
     "name": "stdout",
     "output_type": "stream",
     "text": [
      "================================================================================\n"
     ]
    },
    {
     "name": "stderr",
     "output_type": "stream",
     "text": [
      "R[write to console]: The conservative diff-in-transports estimator is 0.112864303681836 at d = 7500\n",
      "\n",
      "R[write to console]: Computing Differences-in-Transports Estimator...\n",
      "\n",
      "R[write to console]: Note: you are using `conservative = T`.\n",
      "\n"
     ]
    },
    {
     "name": "stdout",
     "output_type": "stream",
     "text": [
      "================================================================================\n"
     ]
    },
    {
     "name": "stderr",
     "output_type": "stream",
     "text": [
      "R[write to console]: The conservative diff-in-transports estimator is 0.112864303681836 at d = 7500\n",
      "\n",
      "R[write to console]: Computing Differences-in-Transports Estimator...\n",
      "\n",
      "R[write to console]: Note: you are using `conservative = T`.\n",
      "\n"
     ]
    },
    {
     "name": "stdout",
     "output_type": "stream",
     "text": [
      "================================================================================\n"
     ]
    },
    {
     "name": "stderr",
     "output_type": "stream",
     "text": [
      "R[write to console]: The conservative diff-in-transports estimator is 0.112864303681836 at d = 7500\n",
      "\n",
      "R[write to console]: Computing Differences-in-Transports Estimator...\n",
      "\n",
      "R[write to console]: Note: you are using `conservative = T`.\n",
      "\n"
     ]
    },
    {
     "name": "stdout",
     "output_type": "stream",
     "text": [
      "================================================================================\n"
     ]
    },
    {
     "name": "stderr",
     "output_type": "stream",
     "text": [
      "R[write to console]: The conservative diff-in-transports estimator is 0.112864303681836 at d = 7500\n",
      "\n",
      "R[write to console]: Computing Differences-in-Transports Estimator...\n",
      "\n",
      "R[write to console]: Note: you are using `conservative = T`.\n",
      "\n"
     ]
    },
    {
     "name": "stdout",
     "output_type": "stream",
     "text": [
      "================================================================================\n"
     ]
    },
    {
     "name": "stderr",
     "output_type": "stream",
     "text": [
      "R[write to console]: The conservative diff-in-transports estimator is 0.112864303681836 at d = 7500\n",
      "\n",
      "R[write to console]: Computing Differences-in-Transports Estimator...\n",
      "\n",
      "R[write to console]: Note: you are using `conservative = T`.\n",
      "\n"
     ]
    },
    {
     "name": "stdout",
     "output_type": "stream",
     "text": [
      "================================================================================\n"
     ]
    },
    {
     "name": "stderr",
     "output_type": "stream",
     "text": [
      "R[write to console]: The conservative diff-in-transports estimator is 0.112864303681836 at d = 7500\n",
      "\n",
      "R[write to console]: Computing Differences-in-Transports Estimator...\n",
      "\n",
      "R[write to console]: Note: you are using `conservative = T`.\n",
      "\n"
     ]
    },
    {
     "name": "stdout",
     "output_type": "stream",
     "text": [
      "================================================================================\n"
     ]
    },
    {
     "name": "stderr",
     "output_type": "stream",
     "text": [
      "R[write to console]: The conservative diff-in-transports estimator is 0.103066251842703 at d = 10000\n",
      "\n",
      "R[write to console]: Computing Differences-in-Transports Estimator...\n",
      "\n",
      "R[write to console]: Note: you are using `conservative = T`.\n",
      "\n"
     ]
    },
    {
     "name": "stdout",
     "output_type": "stream",
     "text": [
      "================================================================================\n"
     ]
    },
    {
     "name": "stderr",
     "output_type": "stream",
     "text": [
      "R[write to console]: The conservative diff-in-transports estimator is 0.103066251842703 at d = 10000\n",
      "\n",
      "R[write to console]: Computing Differences-in-Transports Estimator...\n",
      "\n",
      "R[write to console]: Note: you are using `conservative = T`.\n",
      "\n"
     ]
    },
    {
     "name": "stdout",
     "output_type": "stream",
     "text": [
      "================================================================================\n"
     ]
    },
    {
     "name": "stderr",
     "output_type": "stream",
     "text": [
      "R[write to console]: The conservative diff-in-transports estimator is 0.103066251842703 at d = 10000\n",
      "\n",
      "R[write to console]: Computing Differences-in-Transports Estimator...\n",
      "\n",
      "R[write to console]: Note: you are using `conservative = T`.\n",
      "\n"
     ]
    },
    {
     "name": "stdout",
     "output_type": "stream",
     "text": [
      "================================================================================\n"
     ]
    },
    {
     "name": "stderr",
     "output_type": "stream",
     "text": [
      "R[write to console]: The conservative diff-in-transports estimator is 0.103066251842703 at d = 10000\n",
      "\n",
      "R[write to console]: Computing Differences-in-Transports Estimator...\n",
      "\n",
      "R[write to console]: Note: you are using `conservative = T`.\n",
      "\n"
     ]
    },
    {
     "name": "stdout",
     "output_type": "stream",
     "text": [
      "================================================================================\n"
     ]
    },
    {
     "name": "stderr",
     "output_type": "stream",
     "text": [
      "R[write to console]: The conservative diff-in-transports estimator is 0.103066251842703 at d = 10000\n",
      "\n",
      "R[write to console]: Computing Differences-in-Transports Estimator...\n",
      "\n",
      "R[write to console]: Note: you are using `conservative = T`.\n",
      "\n"
     ]
    },
    {
     "name": "stdout",
     "output_type": "stream",
     "text": [
      "================================================================================\n"
     ]
    },
    {
     "name": "stderr",
     "output_type": "stream",
     "text": [
      "R[write to console]: The conservative diff-in-transports estimator is 0.103066251842703 at d = 10000\n",
      "\n",
      "R[write to console]: Computing Differences-in-Transports Estimator...\n",
      "\n",
      "R[write to console]: Note: you are using `conservative = T`.\n",
      "\n"
     ]
    },
    {
     "name": "stdout",
     "output_type": "stream",
     "text": [
      "================================================================================\n"
     ]
    },
    {
     "name": "stderr",
     "output_type": "stream",
     "text": [
      "R[write to console]: The conservative diff-in-transports estimator is 0.0823308017175935 at d = 12500\n",
      "\n",
      "R[write to console]: Computing Differences-in-Transports Estimator...\n",
      "\n",
      "R[write to console]: Note: you are using `conservative = T`.\n",
      "\n"
     ]
    },
    {
     "name": "stdout",
     "output_type": "stream",
     "text": [
      "================================================================================\n"
     ]
    },
    {
     "name": "stderr",
     "output_type": "stream",
     "text": [
      "R[write to console]: The conservative diff-in-transports estimator is 0.0823308017175935 at d = 12500\n",
      "\n",
      "R[write to console]: Computing Differences-in-Transports Estimator...\n",
      "\n",
      "R[write to console]: Note: you are using `conservative = T`.\n",
      "\n"
     ]
    },
    {
     "name": "stdout",
     "output_type": "stream",
     "text": [
      "================================================================================\n"
     ]
    },
    {
     "name": "stderr",
     "output_type": "stream",
     "text": [
      "R[write to console]: The conservative diff-in-transports estimator is 0.0823308017175935 at d = 12500\n",
      "\n",
      "R[write to console]: Computing Differences-in-Transports Estimator...\n",
      "\n",
      "R[write to console]: Note: you are using `conservative = T`.\n",
      "\n"
     ]
    },
    {
     "name": "stdout",
     "output_type": "stream",
     "text": [
      "================================================================================\n"
     ]
    },
    {
     "name": "stderr",
     "output_type": "stream",
     "text": [
      "R[write to console]: The conservative diff-in-transports estimator is 0.0823308017175935 at d = 12500\n",
      "\n",
      "R[write to console]: Computing Differences-in-Transports Estimator...\n",
      "\n",
      "R[write to console]: Note: you are using `conservative = T`.\n",
      "\n"
     ]
    },
    {
     "name": "stdout",
     "output_type": "stream",
     "text": [
      "================================================================================\n"
     ]
    },
    {
     "name": "stderr",
     "output_type": "stream",
     "text": [
      "R[write to console]: The conservative diff-in-transports estimator is 0.0823308017175935 at d = 12500\n",
      "\n",
      "R[write to console]: Computing Differences-in-Transports Estimator...\n",
      "\n",
      "R[write to console]: Note: you are using `conservative = T`.\n",
      "\n"
     ]
    },
    {
     "name": "stdout",
     "output_type": "stream",
     "text": [
      "================================================================================\n"
     ]
    },
    {
     "name": "stderr",
     "output_type": "stream",
     "text": [
      "R[write to console]: The conservative diff-in-transports estimator is 0.0823308017175935 at d = 12500\n",
      "\n",
      "R[write to console]: Computing Differences-in-Transports Estimator...\n",
      "\n",
      "R[write to console]: Note: you are using `conservative = T`.\n",
      "\n"
     ]
    },
    {
     "name": "stdout",
     "output_type": "stream",
     "text": [
      "================================================================================\n"
     ]
    },
    {
     "name": "stderr",
     "output_type": "stream",
     "text": [
      "R[write to console]: The conservative diff-in-transports estimator is 0.0702368436954648 at d = 15000\n",
      "\n",
      "R[write to console]: Computing Differences-in-Transports Estimator...\n",
      "\n",
      "R[write to console]: Note: you are using `conservative = T`.\n",
      "\n"
     ]
    },
    {
     "name": "stdout",
     "output_type": "stream",
     "text": [
      "================================================================================\n"
     ]
    },
    {
     "name": "stderr",
     "output_type": "stream",
     "text": [
      "R[write to console]: The conservative diff-in-transports estimator is 0.0702368436954648 at d = 15000\n",
      "\n",
      "R[write to console]: Computing Differences-in-Transports Estimator...\n",
      "\n",
      "R[write to console]: Note: you are using `conservative = T`.\n",
      "\n"
     ]
    },
    {
     "name": "stdout",
     "output_type": "stream",
     "text": [
      "================================================================================\n"
     ]
    },
    {
     "name": "stderr",
     "output_type": "stream",
     "text": [
      "R[write to console]: The conservative diff-in-transports estimator is 0.0702368436954648 at d = 15000\n",
      "\n",
      "R[write to console]: Computing Differences-in-Transports Estimator...\n",
      "\n",
      "R[write to console]: Note: you are using `conservative = T`.\n",
      "\n"
     ]
    },
    {
     "name": "stdout",
     "output_type": "stream",
     "text": [
      "================================================================================\n"
     ]
    },
    {
     "name": "stderr",
     "output_type": "stream",
     "text": [
      "R[write to console]: The conservative diff-in-transports estimator is 0.0702368436954648 at d = 15000\n",
      "\n",
      "R[write to console]: Computing Differences-in-Transports Estimator...\n",
      "\n",
      "R[write to console]: Note: you are using `conservative = T`.\n",
      "\n"
     ]
    },
    {
     "name": "stdout",
     "output_type": "stream",
     "text": [
      "================================================================================\n"
     ]
    },
    {
     "name": "stderr",
     "output_type": "stream",
     "text": [
      "R[write to console]: The conservative diff-in-transports estimator is 0.0702368436954648 at d = 15000\n",
      "\n",
      "R[write to console]: Computing Differences-in-Transports Estimator...\n",
      "\n",
      "R[write to console]: Note: you are using `conservative = T`.\n",
      "\n"
     ]
    },
    {
     "name": "stdout",
     "output_type": "stream",
     "text": [
      "================================================================================\n"
     ]
    },
    {
     "name": "stderr",
     "output_type": "stream",
     "text": [
      "R[write to console]: The conservative diff-in-transports estimator is 0.0702368436954648 at d = 15000\n",
      "\n",
      "R[write to console]: Computing Differences-in-Transports Estimator...\n",
      "\n",
      "R[write to console]: Note: you are using `conservative = T`.\n",
      "\n"
     ]
    },
    {
     "name": "stdout",
     "output_type": "stream",
     "text": [
      "================================================================================\n"
     ]
    },
    {
     "name": "stderr",
     "output_type": "stream",
     "text": [
      "R[write to console]: The conservative diff-in-transports estimator is 0.0594297496394118 at d = 17500\n",
      "\n",
      "R[write to console]: Computing Differences-in-Transports Estimator...\n",
      "\n",
      "R[write to console]: Note: you are using `conservative = T`.\n",
      "\n"
     ]
    },
    {
     "name": "stdout",
     "output_type": "stream",
     "text": [
      "================================================================================\n"
     ]
    },
    {
     "name": "stderr",
     "output_type": "stream",
     "text": [
      "R[write to console]: The conservative diff-in-transports estimator is 0.0594297496394118 at d = 17500\n",
      "\n",
      "R[write to console]: Computing Differences-in-Transports Estimator...\n",
      "\n",
      "R[write to console]: Note: you are using `conservative = T`.\n",
      "\n"
     ]
    },
    {
     "name": "stdout",
     "output_type": "stream",
     "text": [
      "================================================================================\n"
     ]
    },
    {
     "name": "stderr",
     "output_type": "stream",
     "text": [
      "R[write to console]: The conservative diff-in-transports estimator is 0.0594297496394118 at d = 17500\n",
      "\n",
      "R[write to console]: Computing Differences-in-Transports Estimator...\n",
      "\n",
      "R[write to console]: Note: you are using `conservative = T`.\n",
      "\n"
     ]
    },
    {
     "name": "stdout",
     "output_type": "stream",
     "text": [
      "================================================================================\n"
     ]
    },
    {
     "name": "stderr",
     "output_type": "stream",
     "text": [
      "R[write to console]: The conservative diff-in-transports estimator is 0.0594297496394118 at d = 17500\n",
      "\n",
      "R[write to console]: Computing Differences-in-Transports Estimator...\n",
      "\n",
      "R[write to console]: Note: you are using `conservative = T`.\n",
      "\n"
     ]
    },
    {
     "name": "stdout",
     "output_type": "stream",
     "text": [
      "================================================================================\n"
     ]
    },
    {
     "name": "stderr",
     "output_type": "stream",
     "text": [
      "R[write to console]: The conservative diff-in-transports estimator is 0.0594297496394118 at d = 17500\n",
      "\n",
      "R[write to console]: Computing Differences-in-Transports Estimator...\n",
      "\n",
      "R[write to console]: Note: you are using `conservative = T`.\n",
      "\n"
     ]
    },
    {
     "name": "stdout",
     "output_type": "stream",
     "text": [
      "================================================================================\n"
     ]
    },
    {
     "name": "stderr",
     "output_type": "stream",
     "text": [
      "R[write to console]: The conservative diff-in-transports estimator is 0.0594297496394118 at d = 17500\n",
      "\n",
      "R[write to console]: Computing Differences-in-Transports Estimator...\n",
      "\n",
      "R[write to console]: Note: you are using `conservative = T`.\n",
      "\n"
     ]
    },
    {
     "name": "stdout",
     "output_type": "stream",
     "text": [
      "================================================================================\n"
     ]
    },
    {
     "name": "stderr",
     "output_type": "stream",
     "text": [
      "R[write to console]: The conservative diff-in-transports estimator is 0.0518327480602116 at d = 20000\n",
      "\n",
      "R[write to console]: Computing Differences-in-Transports Estimator...\n",
      "\n",
      "R[write to console]: Note: you are using `conservative = T`.\n",
      "\n"
     ]
    },
    {
     "name": "stdout",
     "output_type": "stream",
     "text": [
      "================================================================================\n"
     ]
    },
    {
     "name": "stderr",
     "output_type": "stream",
     "text": [
      "R[write to console]: The conservative diff-in-transports estimator is 0.0518327480602116 at d = 20000\n",
      "\n",
      "R[write to console]: Computing Differences-in-Transports Estimator...\n",
      "\n",
      "R[write to console]: Note: you are using `conservative = T`.\n",
      "\n"
     ]
    },
    {
     "name": "stdout",
     "output_type": "stream",
     "text": [
      "================================================================================\n"
     ]
    },
    {
     "name": "stderr",
     "output_type": "stream",
     "text": [
      "R[write to console]: The conservative diff-in-transports estimator is 0.0518327480602116 at d = 20000\n",
      "\n",
      "R[write to console]: Computing Differences-in-Transports Estimator...\n",
      "\n",
      "R[write to console]: Note: you are using `conservative = T`.\n",
      "\n"
     ]
    },
    {
     "name": "stdout",
     "output_type": "stream",
     "text": [
      "================================================================================\n"
     ]
    },
    {
     "name": "stderr",
     "output_type": "stream",
     "text": [
      "R[write to console]: The conservative diff-in-transports estimator is 0.0518327480602116 at d = 20000\n",
      "\n",
      "R[write to console]: Computing Differences-in-Transports Estimator...\n",
      "\n",
      "R[write to console]: Note: you are using `conservative = T`.\n",
      "\n"
     ]
    },
    {
     "name": "stdout",
     "output_type": "stream",
     "text": [
      "================================================================================\n"
     ]
    },
    {
     "name": "stderr",
     "output_type": "stream",
     "text": [
      "R[write to console]: The conservative diff-in-transports estimator is 0.0518327480602116 at d = 20000\n",
      "\n",
      "R[write to console]: Computing Differences-in-Transports Estimator...\n",
      "\n",
      "R[write to console]: Note: you are using `conservative = T`.\n",
      "\n"
     ]
    },
    {
     "name": "stdout",
     "output_type": "stream",
     "text": [
      "================================================================================\n"
     ]
    },
    {
     "name": "stderr",
     "output_type": "stream",
     "text": [
      "R[write to console]: The conservative diff-in-transports estimator is 0.0518327480602116 at d = 20000\n",
      "\n",
      "R[write to console]: Computing Differences-in-Transports Estimator...\n",
      "\n",
      "R[write to console]: Note: you are using `conservative = T`.\n",
      "\n"
     ]
    },
    {
     "name": "stdout",
     "output_type": "stream",
     "text": [
      "================================================================================\n"
     ]
    },
    {
     "name": "stderr",
     "output_type": "stream",
     "text": [
      "R[write to console]: The conservative diff-in-transports estimator is 0.0478479280287894 at d = 22500\n",
      "\n",
      "R[write to console]: Computing Differences-in-Transports Estimator...\n",
      "\n",
      "R[write to console]: Note: you are using `conservative = T`.\n",
      "\n"
     ]
    },
    {
     "name": "stdout",
     "output_type": "stream",
     "text": [
      "================================================================================\n"
     ]
    },
    {
     "name": "stderr",
     "output_type": "stream",
     "text": [
      "R[write to console]: The conservative diff-in-transports estimator is 0.0478479280287894 at d = 22500\n",
      "\n",
      "R[write to console]: Computing Differences-in-Transports Estimator...\n",
      "\n",
      "R[write to console]: Note: you are using `conservative = T`.\n",
      "\n"
     ]
    },
    {
     "name": "stdout",
     "output_type": "stream",
     "text": [
      "================================================================================\n"
     ]
    },
    {
     "name": "stderr",
     "output_type": "stream",
     "text": [
      "R[write to console]: The conservative diff-in-transports estimator is 0.0478479280287894 at d = 22500\n",
      "\n",
      "R[write to console]: Computing Differences-in-Transports Estimator...\n",
      "\n",
      "R[write to console]: Note: you are using `conservative = T`.\n",
      "\n"
     ]
    },
    {
     "name": "stdout",
     "output_type": "stream",
     "text": [
      "================================================================================\n"
     ]
    },
    {
     "name": "stderr",
     "output_type": "stream",
     "text": [
      "R[write to console]: The conservative diff-in-transports estimator is 0.0478479280287894 at d = 22500\n",
      "\n",
      "R[write to console]: Computing Differences-in-Transports Estimator...\n",
      "\n",
      "R[write to console]: Note: you are using `conservative = T`.\n",
      "\n"
     ]
    },
    {
     "name": "stdout",
     "output_type": "stream",
     "text": [
      "================================================================================\n"
     ]
    },
    {
     "name": "stderr",
     "output_type": "stream",
     "text": [
      "R[write to console]: The conservative diff-in-transports estimator is 0.0478479280287894 at d = 22500\n",
      "\n",
      "R[write to console]: Computing Differences-in-Transports Estimator...\n",
      "\n",
      "R[write to console]: Note: you are using `conservative = T`.\n",
      "\n"
     ]
    },
    {
     "name": "stdout",
     "output_type": "stream",
     "text": [
      "================================================================================\n"
     ]
    },
    {
     "name": "stderr",
     "output_type": "stream",
     "text": [
      "R[write to console]: The conservative diff-in-transports estimator is 0.0478479280287894 at d = 22500\n",
      "\n",
      "R[write to console]: Computing Differences-in-Transports Estimator...\n",
      "\n",
      "R[write to console]: Note: you are using `conservative = T`.\n",
      "\n"
     ]
    },
    {
     "name": "stdout",
     "output_type": "stream",
     "text": [
      "================================================================================\n"
     ]
    },
    {
     "name": "stderr",
     "output_type": "stream",
     "text": [
      "R[write to console]: The conservative diff-in-transports estimator is 0.0466037451218086 at d = 25000\n",
      "\n",
      "R[write to console]: Computing Differences-in-Transports Estimator...\n",
      "\n",
      "R[write to console]: Note: you are using `conservative = T`.\n",
      "\n"
     ]
    },
    {
     "name": "stdout",
     "output_type": "stream",
     "text": [
      "================================================================================\n"
     ]
    },
    {
     "name": "stderr",
     "output_type": "stream",
     "text": [
      "R[write to console]: The conservative diff-in-transports estimator is 0.0466037451218086 at d = 25000\n",
      "\n",
      "R[write to console]: Computing Differences-in-Transports Estimator...\n",
      "\n",
      "R[write to console]: Note: you are using `conservative = T`.\n",
      "\n"
     ]
    },
    {
     "name": "stdout",
     "output_type": "stream",
     "text": [
      "================================================================================\n"
     ]
    },
    {
     "name": "stderr",
     "output_type": "stream",
     "text": [
      "R[write to console]: The conservative diff-in-transports estimator is 0.0466037451218086 at d = 25000\n",
      "\n",
      "R[write to console]: Computing Differences-in-Transports Estimator...\n",
      "\n",
      "R[write to console]: Note: you are using `conservative = T`.\n",
      "\n"
     ]
    },
    {
     "name": "stdout",
     "output_type": "stream",
     "text": [
      "================================================================================\n"
     ]
    },
    {
     "name": "stderr",
     "output_type": "stream",
     "text": [
      "R[write to console]: The conservative diff-in-transports estimator is 0.0466037451218086 at d = 25000\n",
      "\n",
      "R[write to console]: Computing Differences-in-Transports Estimator...\n",
      "\n",
      "R[write to console]: Note: you are using `conservative = T`.\n",
      "\n"
     ]
    },
    {
     "name": "stdout",
     "output_type": "stream",
     "text": [
      "================================================================================\n"
     ]
    },
    {
     "name": "stderr",
     "output_type": "stream",
     "text": [
      "R[write to console]: The conservative diff-in-transports estimator is 0.0466037451218086 at d = 25000\n",
      "\n",
      "R[write to console]: Computing Differences-in-Transports Estimator...\n",
      "\n",
      "R[write to console]: Note: you are using `conservative = T`.\n",
      "\n"
     ]
    },
    {
     "name": "stdout",
     "output_type": "stream",
     "text": [
      "================================================================================\n"
     ]
    },
    {
     "name": "stderr",
     "output_type": "stream",
     "text": [
      "R[write to console]: The conservative diff-in-transports estimator is 0.0466037451218086 at d = 25000\n",
      "\n",
      "R[write to console]: Computing Differences-in-Transports Estimator...\n",
      "\n",
      "R[write to console]: Note: you are using `conservative = T`.\n",
      "\n"
     ]
    },
    {
     "name": "stdout",
     "output_type": "stream",
     "text": [
      "================================================================================\n"
     ]
    },
    {
     "name": "stderr",
     "output_type": "stream",
     "text": [
      "R[write to console]: The conservative diff-in-transports estimator is 0.0465993857021926 at d = 27500\n",
      "\n",
      "R[write to console]: Computing Differences-in-Transports Estimator...\n",
      "\n",
      "R[write to console]: Note: you are using `conservative = T`.\n",
      "\n"
     ]
    },
    {
     "name": "stdout",
     "output_type": "stream",
     "text": [
      "================================================================================\n"
     ]
    },
    {
     "name": "stderr",
     "output_type": "stream",
     "text": [
      "R[write to console]: The conservative diff-in-transports estimator is 0.0465993857021926 at d = 27500\n",
      "\n",
      "R[write to console]: Computing Differences-in-Transports Estimator...\n",
      "\n",
      "R[write to console]: Note: you are using `conservative = T`.\n",
      "\n"
     ]
    },
    {
     "name": "stdout",
     "output_type": "stream",
     "text": [
      "================================================================================\n"
     ]
    },
    {
     "name": "stderr",
     "output_type": "stream",
     "text": [
      "R[write to console]: The conservative diff-in-transports estimator is 0.0465993857021926 at d = 27500\n",
      "\n",
      "R[write to console]: Computing Differences-in-Transports Estimator...\n",
      "\n",
      "R[write to console]: Note: you are using `conservative = T`.\n",
      "\n"
     ]
    },
    {
     "name": "stdout",
     "output_type": "stream",
     "text": [
      "================================================================================\n"
     ]
    },
    {
     "name": "stderr",
     "output_type": "stream",
     "text": [
      "R[write to console]: The conservative diff-in-transports estimator is 0.0465993857021926 at d = 27500\n",
      "\n",
      "R[write to console]: Computing Differences-in-Transports Estimator...\n",
      "\n",
      "R[write to console]: Note: you are using `conservative = T`.\n",
      "\n"
     ]
    },
    {
     "name": "stdout",
     "output_type": "stream",
     "text": [
      "================================================================================\n"
     ]
    },
    {
     "name": "stderr",
     "output_type": "stream",
     "text": [
      "R[write to console]: The conservative diff-in-transports estimator is 0.0465993857021926 at d = 27500\n",
      "\n",
      "R[write to console]: Computing Differences-in-Transports Estimator...\n",
      "\n",
      "R[write to console]: Note: you are using `conservative = T`.\n",
      "\n"
     ]
    },
    {
     "name": "stdout",
     "output_type": "stream",
     "text": [
      "================================================================================\n"
     ]
    },
    {
     "name": "stderr",
     "output_type": "stream",
     "text": [
      "R[write to console]: The conservative diff-in-transports estimator is 0.0465993857021926 at d = 27500\n",
      "\n",
      "R[write to console]: Computing Differences-in-Transports Estimator...\n",
      "\n",
      "R[write to console]: Note: you are using `conservative = T`.\n",
      "\n"
     ]
    },
    {
     "name": "stdout",
     "output_type": "stream",
     "text": [
      "================================================================================\n"
     ]
    },
    {
     "name": "stderr",
     "output_type": "stream",
     "text": [
      "R[write to console]: The conservative diff-in-transports estimator is 0.0444204682876817 at d = 30000\n",
      "\n",
      "R[write to console]: Computing Differences-in-Transports Estimator...\n",
      "\n",
      "R[write to console]: Note: you are using `conservative = T`.\n",
      "\n"
     ]
    },
    {
     "name": "stdout",
     "output_type": "stream",
     "text": [
      "================================================================================\n"
     ]
    },
    {
     "name": "stderr",
     "output_type": "stream",
     "text": [
      "R[write to console]: The conservative diff-in-transports estimator is 0.0444204682876817 at d = 30000\n",
      "\n",
      "R[write to console]: Computing Differences-in-Transports Estimator...\n",
      "\n",
      "R[write to console]: Note: you are using `conservative = T`.\n",
      "\n"
     ]
    },
    {
     "name": "stdout",
     "output_type": "stream",
     "text": [
      "================================================================================\n"
     ]
    },
    {
     "name": "stderr",
     "output_type": "stream",
     "text": [
      "R[write to console]: The conservative diff-in-transports estimator is 0.0444204682876817 at d = 30000\n",
      "\n",
      "R[write to console]: Computing Differences-in-Transports Estimator...\n",
      "\n",
      "R[write to console]: Note: you are using `conservative = T`.\n",
      "\n"
     ]
    },
    {
     "name": "stdout",
     "output_type": "stream",
     "text": [
      "================================================================================\n"
     ]
    },
    {
     "name": "stderr",
     "output_type": "stream",
     "text": [
      "R[write to console]: The conservative diff-in-transports estimator is 0.0444204682876817 at d = 30000\n",
      "\n",
      "R[write to console]: Computing Differences-in-Transports Estimator...\n",
      "\n",
      "R[write to console]: Note: you are using `conservative = T`.\n",
      "\n"
     ]
    },
    {
     "name": "stdout",
     "output_type": "stream",
     "text": [
      "================================================================================\n"
     ]
    },
    {
     "name": "stderr",
     "output_type": "stream",
     "text": [
      "R[write to console]: The conservative diff-in-transports estimator is 0.0444204682876817 at d = 30000\n",
      "\n",
      "R[write to console]: Computing Differences-in-Transports Estimator...\n",
      "\n",
      "R[write to console]: Note: you are using `conservative = T`.\n",
      "\n"
     ]
    },
    {
     "name": "stdout",
     "output_type": "stream",
     "text": [
      "================================================================================\n"
     ]
    },
    {
     "name": "stderr",
     "output_type": "stream",
     "text": [
      "R[write to console]: The conservative diff-in-transports estimator is 0.0444204682876817 at d = 30000\n",
      "\n",
      "R[write to console]: Computing Differences-in-Transports Estimator...\n",
      "\n",
      "R[write to console]: Note: you are using `conservative = T`.\n",
      "\n"
     ]
    },
    {
     "name": "stdout",
     "output_type": "stream",
     "text": [
      "================================================================================\n"
     ]
    },
    {
     "name": "stderr",
     "output_type": "stream",
     "text": [
      "R[write to console]: The conservative diff-in-transports estimator is 0.0440262213349769 at d = 32500\n",
      "\n",
      "R[write to console]: Computing Differences-in-Transports Estimator...\n",
      "\n",
      "R[write to console]: Note: you are using `conservative = T`.\n",
      "\n"
     ]
    },
    {
     "name": "stdout",
     "output_type": "stream",
     "text": [
      "================================================================================\n"
     ]
    },
    {
     "name": "stderr",
     "output_type": "stream",
     "text": [
      "R[write to console]: The conservative diff-in-transports estimator is 0.0440262213349769 at d = 32500\n",
      "\n",
      "R[write to console]: Computing Differences-in-Transports Estimator...\n",
      "\n",
      "R[write to console]: Note: you are using `conservative = T`.\n",
      "\n"
     ]
    },
    {
     "name": "stdout",
     "output_type": "stream",
     "text": [
      "================================================================================\n"
     ]
    },
    {
     "name": "stderr",
     "output_type": "stream",
     "text": [
      "R[write to console]: The conservative diff-in-transports estimator is 0.0440262213349769 at d = 32500\n",
      "\n",
      "R[write to console]: Computing Differences-in-Transports Estimator...\n",
      "\n",
      "R[write to console]: Note: you are using `conservative = T`.\n",
      "\n"
     ]
    },
    {
     "name": "stdout",
     "output_type": "stream",
     "text": [
      "================================================================================\n"
     ]
    },
    {
     "name": "stderr",
     "output_type": "stream",
     "text": [
      "R[write to console]: The conservative diff-in-transports estimator is 0.0440262213349769 at d = 32500\n",
      "\n",
      "R[write to console]: Computing Differences-in-Transports Estimator...\n",
      "\n",
      "R[write to console]: Note: you are using `conservative = T`.\n",
      "\n"
     ]
    },
    {
     "name": "stdout",
     "output_type": "stream",
     "text": [
      "================================================================================\n"
     ]
    },
    {
     "name": "stderr",
     "output_type": "stream",
     "text": [
      "R[write to console]: The conservative diff-in-transports estimator is 0.0440262213349769 at d = 32500\n",
      "\n",
      "R[write to console]: Computing Differences-in-Transports Estimator...\n",
      "\n",
      "R[write to console]: Note: you are using `conservative = T`.\n",
      "\n"
     ]
    },
    {
     "name": "stdout",
     "output_type": "stream",
     "text": [
      "================================================================================\n"
     ]
    },
    {
     "name": "stderr",
     "output_type": "stream",
     "text": [
      "R[write to console]: The conservative diff-in-transports estimator is 0.0440262213349769 at d = 32500\n",
      "\n",
      "R[write to console]: Computing Differences-in-Transports Estimator...\n",
      "\n",
      "R[write to console]: Note: you are using `conservative = T`.\n",
      "\n"
     ]
    },
    {
     "name": "stdout",
     "output_type": "stream",
     "text": [
      "================================================================================\n"
     ]
    },
    {
     "name": "stderr",
     "output_type": "stream",
     "text": [
      "R[write to console]: The conservative diff-in-transports estimator is 0.0343250595496492 at d = 35000\n",
      "\n",
      "R[write to console]: Computing Differences-in-Transports Estimator...\n",
      "\n",
      "R[write to console]: Note: you are using `conservative = T`.\n",
      "\n"
     ]
    },
    {
     "name": "stdout",
     "output_type": "stream",
     "text": [
      "================================================================================\n"
     ]
    },
    {
     "name": "stderr",
     "output_type": "stream",
     "text": [
      "R[write to console]: The conservative diff-in-transports estimator is 0.0343250595496492 at d = 35000\n",
      "\n",
      "R[write to console]: Computing Differences-in-Transports Estimator...\n",
      "\n",
      "R[write to console]: Note: you are using `conservative = T`.\n",
      "\n"
     ]
    },
    {
     "name": "stdout",
     "output_type": "stream",
     "text": [
      "================================================================================\n"
     ]
    },
    {
     "name": "stderr",
     "output_type": "stream",
     "text": [
      "R[write to console]: The conservative diff-in-transports estimator is 0.0343250595496492 at d = 35000\n",
      "\n",
      "R[write to console]: Computing Differences-in-Transports Estimator...\n",
      "\n",
      "R[write to console]: Note: you are using `conservative = T`.\n",
      "\n"
     ]
    },
    {
     "name": "stdout",
     "output_type": "stream",
     "text": [
      "================================================================================\n"
     ]
    },
    {
     "name": "stderr",
     "output_type": "stream",
     "text": [
      "R[write to console]: The conservative diff-in-transports estimator is 0.0343250595496492 at d = 35000\n",
      "\n",
      "R[write to console]: Computing Differences-in-Transports Estimator...\n",
      "\n",
      "R[write to console]: Note: you are using `conservative = T`.\n",
      "\n"
     ]
    },
    {
     "name": "stdout",
     "output_type": "stream",
     "text": [
      "================================================================================\n"
     ]
    },
    {
     "name": "stderr",
     "output_type": "stream",
     "text": [
      "R[write to console]: The conservative diff-in-transports estimator is 0.0343250595496492 at d = 35000\n",
      "\n",
      "R[write to console]: Computing Differences-in-Transports Estimator...\n",
      "\n",
      "R[write to console]: Note: you are using `conservative = T`.\n",
      "\n"
     ]
    },
    {
     "name": "stdout",
     "output_type": "stream",
     "text": [
      "================================================================================\n"
     ]
    },
    {
     "name": "stderr",
     "output_type": "stream",
     "text": [
      "R[write to console]: The conservative diff-in-transports estimator is 0.0343250595496492 at d = 35000\n",
      "\n",
      "R[write to console]: Computing Differences-in-Transports Estimator...\n",
      "\n",
      "R[write to console]: Note: you are using `conservative = T`.\n",
      "\n"
     ]
    },
    {
     "name": "stdout",
     "output_type": "stream",
     "text": [
      "================================================================================\n"
     ]
    },
    {
     "name": "stderr",
     "output_type": "stream",
     "text": [
      "R[write to console]: The conservative diff-in-transports estimator is 0.0341521359048838 at d = 37500\n",
      "\n",
      "R[write to console]: Computing Differences-in-Transports Estimator...\n",
      "\n",
      "R[write to console]: Note: you are using `conservative = T`.\n",
      "\n"
     ]
    },
    {
     "name": "stdout",
     "output_type": "stream",
     "text": [
      "================================================================================\n"
     ]
    },
    {
     "name": "stderr",
     "output_type": "stream",
     "text": [
      "R[write to console]: The conservative diff-in-transports estimator is 0.0341521359048838 at d = 37500\n",
      "\n",
      "R[write to console]: Computing Differences-in-Transports Estimator...\n",
      "\n",
      "R[write to console]: Note: you are using `conservative = T`.\n",
      "\n"
     ]
    },
    {
     "name": "stdout",
     "output_type": "stream",
     "text": [
      "================================================================================\n"
     ]
    },
    {
     "name": "stderr",
     "output_type": "stream",
     "text": [
      "R[write to console]: The conservative diff-in-transports estimator is 0.0341521359048838 at d = 37500\n",
      "\n",
      "R[write to console]: Computing Differences-in-Transports Estimator...\n",
      "\n",
      "R[write to console]: Note: you are using `conservative = T`.\n",
      "\n"
     ]
    },
    {
     "name": "stdout",
     "output_type": "stream",
     "text": [
      "================================================================================\n"
     ]
    },
    {
     "name": "stderr",
     "output_type": "stream",
     "text": [
      "R[write to console]: The conservative diff-in-transports estimator is 0.0341521359048838 at d = 37500\n",
      "\n",
      "R[write to console]: Computing Differences-in-Transports Estimator...\n",
      "\n",
      "R[write to console]: Note: you are using `conservative = T`.\n",
      "\n"
     ]
    },
    {
     "name": "stdout",
     "output_type": "stream",
     "text": [
      "================================================================================\n"
     ]
    },
    {
     "name": "stderr",
     "output_type": "stream",
     "text": [
      "R[write to console]: The conservative diff-in-transports estimator is 0.0341521359048838 at d = 37500\n",
      "\n",
      "R[write to console]: Computing Differences-in-Transports Estimator...\n",
      "\n",
      "R[write to console]: Note: you are using `conservative = T`.\n",
      "\n"
     ]
    },
    {
     "name": "stdout",
     "output_type": "stream",
     "text": [
      "================================================================================\n"
     ]
    },
    {
     "name": "stderr",
     "output_type": "stream",
     "text": [
      "R[write to console]: The conservative diff-in-transports estimator is 0.0341521359048838 at d = 37500\n",
      "\n",
      "R[write to console]: Computing Differences-in-Transports Estimator...\n",
      "\n",
      "R[write to console]: Note: you are using `conservative = T`.\n",
      "\n"
     ]
    },
    {
     "name": "stdout",
     "output_type": "stream",
     "text": [
      "================================================================================\n"
     ]
    },
    {
     "name": "stderr",
     "output_type": "stream",
     "text": [
      "R[write to console]: The conservative diff-in-transports estimator is 0.0326836200370105 at d = 40000\n",
      "\n",
      "R[write to console]: Computing Differences-in-Transports Estimator...\n",
      "\n",
      "R[write to console]: Note: you are using `conservative = T`.\n",
      "\n"
     ]
    },
    {
     "name": "stdout",
     "output_type": "stream",
     "text": [
      "================================================================================\n"
     ]
    },
    {
     "name": "stderr",
     "output_type": "stream",
     "text": [
      "R[write to console]: The conservative diff-in-transports estimator is 0.0326836200370105 at d = 40000\n",
      "\n",
      "R[write to console]: Computing Differences-in-Transports Estimator...\n",
      "\n",
      "R[write to console]: Note: you are using `conservative = T`.\n",
      "\n"
     ]
    },
    {
     "name": "stdout",
     "output_type": "stream",
     "text": [
      "================================================================================\n"
     ]
    },
    {
     "name": "stderr",
     "output_type": "stream",
     "text": [
      "R[write to console]: The conservative diff-in-transports estimator is 0.0326836200370105 at d = 40000\n",
      "\n",
      "R[write to console]: Computing Differences-in-Transports Estimator...\n",
      "\n",
      "R[write to console]: Note: you are using `conservative = T`.\n",
      "\n"
     ]
    },
    {
     "name": "stdout",
     "output_type": "stream",
     "text": [
      "================================================================================\n"
     ]
    },
    {
     "name": "stderr",
     "output_type": "stream",
     "text": [
      "R[write to console]: The conservative diff-in-transports estimator is 0.0326836200370105 at d = 40000\n",
      "\n",
      "R[write to console]: Computing Differences-in-Transports Estimator...\n",
      "\n",
      "R[write to console]: Note: you are using `conservative = T`.\n",
      "\n"
     ]
    },
    {
     "name": "stdout",
     "output_type": "stream",
     "text": [
      "================================================================================\n"
     ]
    },
    {
     "name": "stderr",
     "output_type": "stream",
     "text": [
      "R[write to console]: The conservative diff-in-transports estimator is 0.0326836200370105 at d = 40000\n",
      "\n",
      "R[write to console]: Computing Differences-in-Transports Estimator...\n",
      "\n",
      "R[write to console]: Note: you are using `conservative = T`.\n",
      "\n"
     ]
    },
    {
     "name": "stdout",
     "output_type": "stream",
     "text": [
      "================================================================================\n"
     ]
    },
    {
     "name": "stderr",
     "output_type": "stream",
     "text": [
      "R[write to console]: The conservative diff-in-transports estimator is 0.0326836200370105 at d = 40000\n",
      "\n",
      "R[write to console]: Computing Differences-in-Transports Estimator...\n",
      "\n",
      "R[write to console]: Note: you are using `conservative = T`.\n",
      "\n"
     ]
    },
    {
     "name": "stdout",
     "output_type": "stream",
     "text": [
      "================================================================================\n"
     ]
    },
    {
     "name": "stderr",
     "output_type": "stream",
     "text": [
      "R[write to console]: The conservative diff-in-transports estimator is 0.0343759633402772 at d = 42500\n",
      "\n",
      "R[write to console]: Computing Differences-in-Transports Estimator...\n",
      "\n",
      "R[write to console]: Note: you are using `conservative = T`.\n",
      "\n"
     ]
    },
    {
     "name": "stdout",
     "output_type": "stream",
     "text": [
      "================================================================================\n"
     ]
    },
    {
     "name": "stderr",
     "output_type": "stream",
     "text": [
      "R[write to console]: The conservative diff-in-transports estimator is 0.0343759633402772 at d = 42500\n",
      "\n",
      "R[write to console]: Computing Differences-in-Transports Estimator...\n",
      "\n",
      "R[write to console]: Note: you are using `conservative = T`.\n",
      "\n"
     ]
    },
    {
     "name": "stdout",
     "output_type": "stream",
     "text": [
      "================================================================================\n"
     ]
    },
    {
     "name": "stderr",
     "output_type": "stream",
     "text": [
      "R[write to console]: The conservative diff-in-transports estimator is 0.0343759633402772 at d = 42500\n",
      "\n",
      "R[write to console]: Computing Differences-in-Transports Estimator...\n",
      "\n",
      "R[write to console]: Note: you are using `conservative = T`.\n",
      "\n"
     ]
    },
    {
     "name": "stdout",
     "output_type": "stream",
     "text": [
      "================================================================================\n"
     ]
    },
    {
     "name": "stderr",
     "output_type": "stream",
     "text": [
      "R[write to console]: The conservative diff-in-transports estimator is 0.0343759633402772 at d = 42500\n",
      "\n",
      "R[write to console]: Computing Differences-in-Transports Estimator...\n",
      "\n",
      "R[write to console]: Note: you are using `conservative = T`.\n",
      "\n"
     ]
    },
    {
     "name": "stdout",
     "output_type": "stream",
     "text": [
      "================================================================================\n"
     ]
    },
    {
     "name": "stderr",
     "output_type": "stream",
     "text": [
      "R[write to console]: The conservative diff-in-transports estimator is 0.0343759633402772 at d = 42500\n",
      "\n",
      "R[write to console]: Computing Differences-in-Transports Estimator...\n",
      "\n",
      "R[write to console]: Note: you are using `conservative = T`.\n",
      "\n"
     ]
    },
    {
     "name": "stdout",
     "output_type": "stream",
     "text": [
      "================================================================================\n"
     ]
    },
    {
     "name": "stderr",
     "output_type": "stream",
     "text": [
      "R[write to console]: The conservative diff-in-transports estimator is 0.0343759633402772 at d = 42500\n",
      "\n",
      "R[write to console]: Computing Differences-in-Transports Estimator...\n",
      "\n",
      "R[write to console]: Note: you are using `conservative = T`.\n",
      "\n"
     ]
    },
    {
     "name": "stdout",
     "output_type": "stream",
     "text": [
      "================================================================================\n"
     ]
    },
    {
     "name": "stderr",
     "output_type": "stream",
     "text": [
      "R[write to console]: The conservative diff-in-transports estimator is 0.0263858480305424 at d = 45000\n",
      "\n",
      "R[write to console]: Computing Differences-in-Transports Estimator...\n",
      "\n",
      "R[write to console]: Note: you are using `conservative = T`.\n",
      "\n"
     ]
    },
    {
     "name": "stdout",
     "output_type": "stream",
     "text": [
      "================================================================================\n"
     ]
    },
    {
     "name": "stderr",
     "output_type": "stream",
     "text": [
      "R[write to console]: The conservative diff-in-transports estimator is 0.0263858480305424 at d = 45000\n",
      "\n",
      "R[write to console]: Computing Differences-in-Transports Estimator...\n",
      "\n",
      "R[write to console]: Note: you are using `conservative = T`.\n",
      "\n"
     ]
    },
    {
     "name": "stdout",
     "output_type": "stream",
     "text": [
      "================================================================================\n"
     ]
    },
    {
     "name": "stderr",
     "output_type": "stream",
     "text": [
      "R[write to console]: The conservative diff-in-transports estimator is 0.0263858480305424 at d = 45000\n",
      "\n",
      "R[write to console]: Computing Differences-in-Transports Estimator...\n",
      "\n",
      "R[write to console]: Note: you are using `conservative = T`.\n",
      "\n"
     ]
    },
    {
     "name": "stdout",
     "output_type": "stream",
     "text": [
      "================================================================================\n"
     ]
    },
    {
     "name": "stderr",
     "output_type": "stream",
     "text": [
      "R[write to console]: The conservative diff-in-transports estimator is 0.0263858480305424 at d = 45000\n",
      "\n",
      "R[write to console]: Computing Differences-in-Transports Estimator...\n",
      "\n",
      "R[write to console]: Note: you are using `conservative = T`.\n",
      "\n"
     ]
    },
    {
     "name": "stdout",
     "output_type": "stream",
     "text": [
      "================================================================================\n"
     ]
    },
    {
     "name": "stderr",
     "output_type": "stream",
     "text": [
      "R[write to console]: The conservative diff-in-transports estimator is 0.0263858480305424 at d = 45000\n",
      "\n",
      "R[write to console]: Computing Differences-in-Transports Estimator...\n",
      "\n",
      "R[write to console]: Note: you are using `conservative = T`.\n",
      "\n"
     ]
    },
    {
     "name": "stdout",
     "output_type": "stream",
     "text": [
      "================================================================================\n"
     ]
    },
    {
     "name": "stderr",
     "output_type": "stream",
     "text": [
      "R[write to console]: The conservative diff-in-transports estimator is 0.0263858480305424 at d = 45000\n",
      "\n",
      "R[write to console]: Computing Differences-in-Transports Estimator...\n",
      "\n",
      "R[write to console]: Note: you are using `conservative = T`.\n",
      "\n"
     ]
    },
    {
     "name": "stdout",
     "output_type": "stream",
     "text": [
      "================================================================================\n"
     ]
    },
    {
     "name": "stderr",
     "output_type": "stream",
     "text": [
      "R[write to console]: The conservative diff-in-transports estimator is 0.0237944109671316 at d = 47500\n",
      "\n",
      "R[write to console]: Computing Differences-in-Transports Estimator...\n",
      "\n",
      "R[write to console]: Note: you are using `conservative = T`.\n",
      "\n"
     ]
    },
    {
     "name": "stdout",
     "output_type": "stream",
     "text": [
      "================================================================================\n"
     ]
    },
    {
     "name": "stderr",
     "output_type": "stream",
     "text": [
      "R[write to console]: The conservative diff-in-transports estimator is 0.0237944109671316 at d = 47500\n",
      "\n",
      "R[write to console]: Computing Differences-in-Transports Estimator...\n",
      "\n",
      "R[write to console]: Note: you are using `conservative = T`.\n",
      "\n"
     ]
    },
    {
     "name": "stdout",
     "output_type": "stream",
     "text": [
      "================================================================================\n"
     ]
    },
    {
     "name": "stderr",
     "output_type": "stream",
     "text": [
      "R[write to console]: The conservative diff-in-transports estimator is 0.0237944109671316 at d = 47500\n",
      "\n",
      "R[write to console]: Computing Differences-in-Transports Estimator...\n",
      "\n",
      "R[write to console]: Note: you are using `conservative = T`.\n",
      "\n"
     ]
    },
    {
     "name": "stdout",
     "output_type": "stream",
     "text": [
      "================================================================================\n"
     ]
    },
    {
     "name": "stderr",
     "output_type": "stream",
     "text": [
      "R[write to console]: The conservative diff-in-transports estimator is 0.0237944109671316 at d = 47500\n",
      "\n",
      "R[write to console]: Computing Differences-in-Transports Estimator...\n",
      "\n",
      "R[write to console]: Note: you are using `conservative = T`.\n",
      "\n"
     ]
    },
    {
     "name": "stdout",
     "output_type": "stream",
     "text": [
      "================================================================================\n"
     ]
    },
    {
     "name": "stderr",
     "output_type": "stream",
     "text": [
      "R[write to console]: The conservative diff-in-transports estimator is 0.0237944109671316 at d = 47500\n",
      "\n",
      "R[write to console]: Computing Differences-in-Transports Estimator...\n",
      "\n",
      "R[write to console]: Note: you are using `conservative = T`.\n",
      "\n"
     ]
    },
    {
     "name": "stdout",
     "output_type": "stream",
     "text": [
      "================================================================================\n"
     ]
    },
    {
     "name": "stderr",
     "output_type": "stream",
     "text": [
      "R[write to console]: The conservative diff-in-transports estimator is 0.0237944109671316 at d = 47500\n",
      "\n",
      "R[write to console]: Computing Differences-in-Transports Estimator...\n",
      "\n",
      "R[write to console]: Note: you are using `conservative = T`.\n",
      "\n"
     ]
    },
    {
     "name": "stdout",
     "output_type": "stream",
     "text": [
      "================================================================================\n"
     ]
    },
    {
     "name": "stderr",
     "output_type": "stream",
     "text": [
      "R[write to console]: The conservative diff-in-transports estimator is 0.0228106352738022 at d = 50000\n",
      "\n",
      "R[write to console]: Computing Differences-in-Transports Estimator...\n",
      "\n",
      "R[write to console]: Note: you are using `conservative = T`.\n",
      "\n"
     ]
    },
    {
     "name": "stdout",
     "output_type": "stream",
     "text": [
      "================================================================================\n"
     ]
    },
    {
     "name": "stderr",
     "output_type": "stream",
     "text": [
      "R[write to console]: The conservative diff-in-transports estimator is 0.0228106352738022 at d = 50000\n",
      "\n",
      "R[write to console]: Computing Differences-in-Transports Estimator...\n",
      "\n",
      "R[write to console]: Note: you are using `conservative = T`.\n",
      "\n"
     ]
    },
    {
     "name": "stdout",
     "output_type": "stream",
     "text": [
      "================================================================================\n"
     ]
    },
    {
     "name": "stderr",
     "output_type": "stream",
     "text": [
      "R[write to console]: The conservative diff-in-transports estimator is 0.0228106352738022 at d = 50000\n",
      "\n",
      "R[write to console]: Computing Differences-in-Transports Estimator...\n",
      "\n",
      "R[write to console]: Note: you are using `conservative = T`.\n",
      "\n"
     ]
    },
    {
     "name": "stdout",
     "output_type": "stream",
     "text": [
      "================================================================================\n"
     ]
    },
    {
     "name": "stderr",
     "output_type": "stream",
     "text": [
      "R[write to console]: The conservative diff-in-transports estimator is 0.0228106352738022 at d = 50000\n",
      "\n",
      "R[write to console]: Computing Differences-in-Transports Estimator...\n",
      "\n",
      "R[write to console]: Note: you are using `conservative = T`.\n",
      "\n"
     ]
    },
    {
     "name": "stdout",
     "output_type": "stream",
     "text": [
      "================================================================================\n"
     ]
    },
    {
     "name": "stderr",
     "output_type": "stream",
     "text": [
      "R[write to console]: The conservative diff-in-transports estimator is 0.0228106352738022 at d = 50000\n",
      "\n",
      "R[write to console]: Computing Differences-in-Transports Estimator...\n",
      "\n",
      "R[write to console]: Note: you are using `conservative = T`.\n",
      "\n"
     ]
    },
    {
     "name": "stdout",
     "output_type": "stream",
     "text": [
      "================================================================================\n"
     ]
    },
    {
     "name": "stderr",
     "output_type": "stream",
     "text": [
      "R[write to console]: The conservative diff-in-transports estimator is 0.0228106352738022 at d = 50000\n",
      "\n"
     ]
    },
    {
     "name": "stdout",
     "output_type": "stream",
     "text": [
      "    bandwidth      main    main2d   control      diff    diff2d\n",
      "0         0.0  0.353123  0.353123  0.298681  0.054443  0.054443\n",
      "1      2500.0  0.215985  0.177859  0.103619  0.112366  0.074240\n",
      "2      5000.0  0.177859  0.151831  0.045617  0.132243  0.106214\n",
      "3      7500.0  0.169615  0.138059  0.025194  0.144421  0.112864\n",
      "4     10000.0  0.151831  0.123160  0.020093  0.131737  0.103066\n",
      "5     12500.0  0.148234  0.100769  0.018438  0.129796  0.082331\n",
      "6     15000.0  0.138059  0.088075  0.017838  0.120220  0.070237\n",
      "7     17500.0  0.130099  0.077251  0.017821  0.112278  0.059430\n",
      "8     20000.0  0.123160  0.064889  0.013056  0.110104  0.051833\n",
      "9     22500.0  0.115663  0.055253  0.007405  0.108258  0.047848\n",
      "10    25000.0  0.100769  0.053762  0.007158  0.093610  0.046604\n",
      "11    27500.0  0.095018  0.053758  0.007158  0.087859  0.046599\n",
      "12    30000.0  0.088075  0.051261  0.006841  0.081234  0.044420\n",
      "13    32500.0  0.081166  0.050689  0.006663  0.074504  0.044026\n",
      "14    35000.0  0.077251  0.040988  0.006663  0.070588  0.034325\n",
      "15    37500.0  0.070634  0.040815  0.006663  0.063972  0.034152\n",
      "16    40000.0  0.064889  0.039061  0.006377  0.058512  0.032684\n",
      "17    42500.0  0.056961  0.038952  0.004576  0.052385  0.034376\n",
      "18    45000.0  0.055253  0.030705  0.004319  0.050934  0.026386\n",
      "19    47500.0  0.055253  0.028104  0.004310  0.050943  0.023794\n",
      "20    50000.0  0.053762  0.027120  0.004310  0.049453  0.022811\n"
     ]
    }
   ],
   "source": [
    "dit_at_0 = diftrans.diftrans(pre_main = Beijing_pre, post_main = Beijing_post, pre_control = Tianjin_pre, post_control = Tianjin_post, bandwidth_seq = 0, conservative = True)\n",
    "print(dit_at_0)\n",
    "#3.5\n",
    "#a\n",
    "\n",
    "cols = ['bandwidth','main','main2d','control','diff','diff2d']\n",
    "bandwidth3 = []\n",
    "main3 = []\n",
    "main2d = []\n",
    "control = []\n",
    "diff = []\n",
    "diff2d = []\n",
    "\n",
    "for i in range(0,52500, 2500):\n",
    "    bandwidth3.append(diftrans.diftrans(pre_main = Beijing_pre, post_main = Beijing_post, pre_control = Tianjin_pre, post_control = Tianjin_post, bandwidth_seq = i, conservative = True)['bandwidth'].values)\n",
    "    main3.append(diftrans.diftrans(pre_main = Beijing_pre, post_main = Beijing_post, pre_control = Tianjin_pre, post_control = Tianjin_post, bandwidth_seq = i, conservative = True)['main'].values)\n",
    "    main2d.append(diftrans.diftrans(pre_main = Beijing_pre, post_main = Beijing_post, pre_control = Tianjin_pre, post_control = Tianjin_post, bandwidth_seq = i, conservative = True)['main2d'].values)\n",
    "    control.append(diftrans.diftrans(pre_main = Beijing_pre, post_main = Beijing_post, pre_control = Tianjin_pre, post_control = Tianjin_post, bandwidth_seq = i, conservative = True)['control'].values)\n",
    "    diff.append(diftrans.diftrans(pre_main = Beijing_pre, post_main = Beijing_post, pre_control = Tianjin_pre, post_control = Tianjin_post, bandwidth_seq = i, conservative = True)['diff'].values)\n",
    "    diff2d.append(diftrans.diftrans(pre_main = Beijing_pre, post_main = Beijing_post, pre_control = Tianjin_pre, post_control = Tianjin_post, bandwidth_seq = i, conservative = True)['diff2d'].values)\n",
    "\n",
    "placebo_dit_df = pd.DataFrame({'bandwidth': bandwidth3, 'main':main3, 'main2d':main2d, 'control':control, 'diff':diff,'diff2d':diff2d})    \n",
    "placebo_dit_df = placebo_dit_df.astype(float)\n",
    "\n",
    "print(placebo_dit_df)\n"
   ]
  },
  {
   "cell_type": "code",
   "execution_count": 62,
   "metadata": {},
   "outputs": [
    {
     "name": "stdout",
     "output_type": "stream",
     "text": [
      "        MSRP  count\n",
      "448    20800      0\n",
      "464    28800      0\n",
      "358    29800     50\n",
      "494    30900      0\n",
      "327    32900   3136\n",
      "..       ...    ...\n",
      "92    698600     61\n",
      "272   703600    363\n",
      "218   770000     92\n",
      "426   800400      3\n",
      "237  1127800    324\n",
      "\n",
      "[504 rows x 2 columns]\n"
     ]
    }
   ],
   "source": [
    "#3.5b\n",
    "base.set_seed(0)\n",
    "\n",
    "count =  stats.rmultinom(n = 1, size = sum(Beijing_pre['count']), prob = Beijing_pre['count'])\n",
    "count2 = count[:,0]\n",
    "d = {'MSRP': Beijing_pre['MSRP'], 'count' : count2}\n",
    "placebo_Beijing_1 = pd.DataFrame(data=d)\n",
    "print(placebo_1)\n",
    "#print(placebo_1.dtypes)"
   ]
  },
  {
   "cell_type": "code",
   "execution_count": 63,
   "metadata": {},
   "outputs": [
    {
     "name": "stdout",
     "output_type": "stream",
     "text": [
      "        MSRP  count\n",
      "482    20800      0\n",
      "374    29800     17\n",
      "338    32900   1332\n",
      "227    33800   1523\n",
      "388    34800    249\n",
      "..       ...    ...\n",
      "263   703600    144\n",
      "7     770000     41\n",
      "314   800400      0\n",
      "433   998000      2\n",
      "5    1127800    126\n",
      "\n",
      "[513 rows x 2 columns]\n"
     ]
    }
   ],
   "source": [
    "#3.5 c\n",
    "count =  stats.rmultinom(n = 1, size = sum(Beijing_post['count']), prob = Beijing_pre['count'])\n",
    "count2 = count[:,0]\n",
    "d = {'MSRP': Beijing_pre['MSRP'], 'count' : count2}\n",
    "placebo_Beijing_2 = pd.DataFrame(data=d)\n",
    "print(placebo_Beijing_2)\n",
    "#print(placebo_Beijing_2.dtypes)"
   ]
  },
  {
   "cell_type": "code",
   "execution_count": 64,
   "metadata": {},
   "outputs": [],
   "source": [
    "base.set_seed(0)\n",
    "\n",
    "Tianjin_pre = uniqueMSRP.merge(Tianjin10_sales, how='left', on = \"MSRP\")\n",
    "Tianjin_pre[['count']] = Tianjin_pre[['count']].fillna(value=0)\n",
    "Tianjin_pre = Tianjin_pre.sort_values('MSRP')\n",
    "#Tianjin_pre"
   ]
  },
  {
   "cell_type": "code",
   "execution_count": 65,
   "metadata": {},
   "outputs": [
    {
     "name": "stdout",
     "output_type": "stream",
     "text": [
      "        MSRP  count\n",
      "448    20800      0\n",
      "464    28800      0\n",
      "358    29800     54\n",
      "494    30900      0\n",
      "327    32900    633\n",
      "..       ...    ...\n",
      "92    698600      7\n",
      "272   703600     33\n",
      "218   770000      3\n",
      "426   800400      1\n",
      "237  1127800     14\n",
      "\n",
      "[504 rows x 2 columns]\n"
     ]
    }
   ],
   "source": [
    "#3.5d\n",
    "\n",
    "count =  stats.rmultinom(n = 1, size = sum(Tianjin_pre['count']), prob = Tianjin_pre['count'])\n",
    "count2 = count[:,0]\n",
    "d = {'MSRP': Tianjin_pre['MSRP'], 'count' : count2}\n",
    "placebo_Tianjin_1 = pd.DataFrame(data=d)\n",
    "print(placebo_Tianjin_1)\n",
    "#print(placebo_Tianjin_1.dtypes)"
   ]
  },
  {
   "cell_type": "code",
   "execution_count": 66,
   "metadata": {},
   "outputs": [
    {
     "name": "stdout",
     "output_type": "stream",
     "text": [
      "        MSRP  count\n",
      "448    20800      0\n",
      "464    28800      0\n",
      "358    29800     62\n",
      "494    30900      0\n",
      "327    32900    651\n",
      "..       ...    ...\n",
      "92    698600     25\n",
      "272   703600     35\n",
      "218   770000      2\n",
      "426   800400      2\n",
      "237  1127800     12\n",
      "\n",
      "[504 rows x 2 columns]\n"
     ]
    }
   ],
   "source": [
    "#3.5e\n",
    "count =  stats.rmultinom(n = 1, size = sum(Tianjin_post['count']), prob = Tianjin_pre['count'])\n",
    "count2 = count[:,0]\n",
    "d = {'MSRP': Tianjin_pre['MSRP'], 'count' : count2}\n",
    "placebo_Tianjin_2 = pd.DataFrame(data=d)\n",
    "print(placebo_Tianjin_2)\n",
    "#print(placebo_Tianjin_1.dtypes)"
   ]
  },
  {
   "cell_type": "code",
   "execution_count": 68,
   "metadata": {},
   "outputs": [
    {
     "name": "stderr",
     "output_type": "stream",
     "text": [
      "R[write to console]: Computing Differences-in-Transports Estimator...\n",
      "\n",
      "R[write to console]: Note: you are using `conservative = T`.\n",
      "\n"
     ]
    },
    {
     "name": "stdout",
     "output_type": "stream",
     "text": [
      "================================================================================\n"
     ]
    },
    {
     "name": "stderr",
     "output_type": "stream",
     "text": [
      "R[write to console]: The conservative diff-in-transports estimator is -0.00591251569658268 at d = 0\n",
      "\n",
      "R[write to console]: Computing Differences-in-Transports Estimator...\n",
      "\n",
      "R[write to console]: Note: you are using `conservative = T`.\n",
      "\n"
     ]
    },
    {
     "name": "stdout",
     "output_type": "stream",
     "text": [
      "================================================================================\n"
     ]
    },
    {
     "name": "stderr",
     "output_type": "stream",
     "text": [
      "R[write to console]: The conservative diff-in-transports estimator is -0.00297186663559589 at d = 2500\n",
      "\n",
      "R[write to console]: Computing Differences-in-Transports Estimator...\n",
      "\n",
      "R[write to console]: Note: you are using `conservative = T`.\n",
      "\n"
     ]
    },
    {
     "name": "stdout",
     "output_type": "stream",
     "text": [
      "================================================================================\n"
     ]
    },
    {
     "name": "stderr",
     "output_type": "stream",
     "text": [
      "R[write to console]: The conservative diff-in-transports estimator is -0.00112372236251653 at d = 5000\n",
      "\n",
      "R[write to console]: Computing Differences-in-Transports Estimator...\n",
      "\n",
      "R[write to console]: Note: you are using `conservative = T`.\n",
      "\n"
     ]
    },
    {
     "name": "stdout",
     "output_type": "stream",
     "text": [
      "================================================================================\n"
     ]
    },
    {
     "name": "stderr",
     "output_type": "stream",
     "text": [
      "R[write to console]: The conservative diff-in-transports estimator is -0.000898643623997678 at d = 7500\n",
      "\n",
      "R[write to console]: Computing Differences-in-Transports Estimator...\n",
      "\n",
      "R[write to console]: Note: you are using `conservative = T`.\n",
      "\n"
     ]
    },
    {
     "name": "stdout",
     "output_type": "stream",
     "text": [
      "================================================================================\n"
     ]
    },
    {
     "name": "stderr",
     "output_type": "stream",
     "text": [
      "R[write to console]: The conservative diff-in-transports estimator is -0.000300565509129149 at d = 10000\n",
      "\n",
      "R[write to console]: Computing Differences-in-Transports Estimator...\n",
      "\n",
      "R[write to console]: Note: you are using `conservative = T`.\n",
      "\n"
     ]
    },
    {
     "name": "stdout",
     "output_type": "stream",
     "text": [
      "================================================================================\n"
     ]
    },
    {
     "name": "stderr",
     "output_type": "stream",
     "text": [
      "R[write to console]: The conservative diff-in-transports estimator is -0.00041780053039524 at d = 12500\n",
      "\n",
      "R[write to console]: Computing Differences-in-Transports Estimator...\n",
      "\n",
      "R[write to console]: Note: you are using `conservative = T`.\n",
      "\n"
     ]
    },
    {
     "name": "stdout",
     "output_type": "stream",
     "text": [
      "================================================================================\n"
     ]
    },
    {
     "name": "stderr",
     "output_type": "stream",
     "text": [
      "R[write to console]: The conservative diff-in-transports estimator is -0.000470113565786455 at d = 15000\n",
      "\n",
      "R[write to console]: Computing Differences-in-Transports Estimator...\n",
      "\n",
      "R[write to console]: Note: you are using `conservative = T`.\n",
      "\n"
     ]
    },
    {
     "name": "stdout",
     "output_type": "stream",
     "text": [
      "================================================================================\n"
     ]
    },
    {
     "name": "stderr",
     "output_type": "stream",
     "text": [
      "R[write to console]: The conservative diff-in-transports estimator is -0.000301210220071374 at d = 17500\n",
      "\n",
      "R[write to console]: Computing Differences-in-Transports Estimator...\n",
      "\n",
      "R[write to console]: Note: you are using `conservative = T`.\n",
      "\n"
     ]
    },
    {
     "name": "stdout",
     "output_type": "stream",
     "text": [
      "================================================================================\n"
     ]
    },
    {
     "name": "stderr",
     "output_type": "stream",
     "text": [
      "R[write to console]: The conservative diff-in-transports estimator is -0.000297964815598482 at d = 20000\n",
      "\n",
      "R[write to console]: Computing Differences-in-Transports Estimator...\n",
      "\n",
      "R[write to console]: Note: you are using `conservative = T`.\n",
      "\n"
     ]
    },
    {
     "name": "stdout",
     "output_type": "stream",
     "text": [
      "================================================================================\n"
     ]
    },
    {
     "name": "stderr",
     "output_type": "stream",
     "text": [
      "R[write to console]: The conservative diff-in-transports estimator is -0.000253484861864084 at d = 22500\n",
      "\n",
      "R[write to console]: Computing Differences-in-Transports Estimator...\n",
      "\n",
      "R[write to console]: Note: you are using `conservative = T`.\n",
      "\n"
     ]
    },
    {
     "name": "stdout",
     "output_type": "stream",
     "text": [
      "================================================================================\n"
     ]
    },
    {
     "name": "stderr",
     "output_type": "stream",
     "text": [
      "R[write to console]: The conservative diff-in-transports estimator is -0.000192690794533162 at d = 25000\n",
      "\n",
      "R[write to console]: Computing Differences-in-Transports Estimator...\n",
      "\n",
      "R[write to console]: Note: you are using `conservative = T`.\n",
      "\n"
     ]
    },
    {
     "name": "stdout",
     "output_type": "stream",
     "text": [
      "================================================================================\n"
     ]
    },
    {
     "name": "stderr",
     "output_type": "stream",
     "text": [
      "R[write to console]: The conservative diff-in-transports estimator is -0.000192690794533165 at d = 27500\n",
      "\n",
      "R[write to console]: Computing Differences-in-Transports Estimator...\n",
      "\n",
      "R[write to console]: Note: you are using `conservative = T`.\n",
      "\n"
     ]
    },
    {
     "name": "stdout",
     "output_type": "stream",
     "text": [
      "================================================================================\n"
     ]
    },
    {
     "name": "stderr",
     "output_type": "stream",
     "text": [
      "R[write to console]: The conservative diff-in-transports estimator is -0.000177660392250676 at d = 30000\n",
      "\n",
      "R[write to console]: Computing Differences-in-Transports Estimator...\n",
      "\n",
      "R[write to console]: Note: you are using `conservative = T`.\n",
      "\n"
     ]
    },
    {
     "name": "stdout",
     "output_type": "stream",
     "text": [
      "================================================================================\n"
     ]
    },
    {
     "name": "stderr",
     "output_type": "stream",
     "text": [
      "R[write to console]: The conservative diff-in-transports estimator is -0.00016949340823046 at d = 32500\n",
      "\n",
      "R[write to console]: Computing Differences-in-Transports Estimator...\n",
      "\n",
      "R[write to console]: Note: you are using `conservative = T`.\n",
      "\n"
     ]
    },
    {
     "name": "stdout",
     "output_type": "stream",
     "text": [
      "================================================================================\n"
     ]
    },
    {
     "name": "stderr",
     "output_type": "stream",
     "text": [
      "R[write to console]: The conservative diff-in-transports estimator is -0.000185197808628552 at d = 35000\n",
      "\n",
      "R[write to console]: Computing Differences-in-Transports Estimator...\n",
      "\n",
      "R[write to console]: Note: you are using `conservative = T`.\n",
      "\n"
     ]
    },
    {
     "name": "stdout",
     "output_type": "stream",
     "text": [
      "================================================================================\n"
     ]
    },
    {
     "name": "stderr",
     "output_type": "stream",
     "text": [
      "R[write to console]: The conservative diff-in-transports estimator is -0.00018519780862855 at d = 37500\n",
      "\n",
      "R[write to console]: Computing Differences-in-Transports Estimator...\n",
      "\n",
      "R[write to console]: Note: you are using `conservative = T`.\n",
      "\n"
     ]
    },
    {
     "name": "stdout",
     "output_type": "stream",
     "text": [
      "================================================================================\n"
     ]
    },
    {
     "name": "stderr",
     "output_type": "stream",
     "text": [
      "R[write to console]: The conservative diff-in-transports estimator is -0.000185197808628554 at d = 40000\n",
      "\n",
      "R[write to console]: Computing Differences-in-Transports Estimator...\n",
      "\n",
      "R[write to console]: Note: you are using `conservative = T`.\n",
      "\n"
     ]
    },
    {
     "name": "stdout",
     "output_type": "stream",
     "text": [
      "================================================================================\n"
     ]
    },
    {
     "name": "stderr",
     "output_type": "stream",
     "text": [
      "R[write to console]: The conservative diff-in-transports estimator is -0.000185197808628557 at d = 42500\n",
      "\n",
      "R[write to console]: Computing Differences-in-Transports Estimator...\n",
      "\n",
      "R[write to console]: Note: you are using `conservative = T`.\n",
      "\n"
     ]
    },
    {
     "name": "stdout",
     "output_type": "stream",
     "text": [
      "================================================================================\n"
     ]
    },
    {
     "name": "stderr",
     "output_type": "stream",
     "text": [
      "R[write to console]: The conservative diff-in-transports estimator is -0.000185197808628551 at d = 45000\n",
      "\n",
      "R[write to console]: Computing Differences-in-Transports Estimator...\n",
      "\n",
      "R[write to console]: Note: you are using `conservative = T`.\n",
      "\n"
     ]
    },
    {
     "name": "stdout",
     "output_type": "stream",
     "text": [
      "================================================================================\n"
     ]
    },
    {
     "name": "stderr",
     "output_type": "stream",
     "text": [
      "R[write to console]: The conservative diff-in-transports estimator is -1.10233597517788e-05 at d = 47500\n",
      "\n",
      "R[write to console]: Computing Differences-in-Transports Estimator...\n",
      "\n",
      "R[write to console]: Note: you are using `conservative = T`.\n",
      "\n"
     ]
    },
    {
     "name": "stdout",
     "output_type": "stream",
     "text": [
      "================================================================================\n"
     ]
    },
    {
     "name": "stderr",
     "output_type": "stream",
     "text": [
      "R[write to console]: The conservative diff-in-transports estimator is -0.000389956236188094 at d = 16666\n",
      "\n",
      "R[write to console]: Computing Differences-in-Transports Estimator...\n",
      "\n",
      "R[write to console]: Note: you are using `conservative = T`.\n",
      "\n"
     ]
    },
    {
     "name": "stdout",
     "output_type": "stream",
     "text": [
      "   bandwidth      main    main2d   control      diff   diff2d\n",
      "1      16666  0.000608  0.000388  0.000778 -0.000171 -0.00039\n",
      "================================================================================\n"
     ]
    },
    {
     "name": "stderr",
     "output_type": "stream",
     "text": [
      "R[write to console]: The conservative diff-in-transports estimator is -0.000185197808628548 at d = 33333\n",
      "\n",
      "R[write to console]: Computing Differences-in-Transports Estimator...\n",
      "\n",
      "R[write to console]: Note: you are using `conservative = T`.\n",
      "\n"
     ]
    },
    {
     "name": "stdout",
     "output_type": "stream",
     "text": [
      "   bandwidth      main    main2d   control      diff    diff2d\n",
      "1      33333  0.000388  0.000007  0.000192  0.000197 -0.000185\n",
      "================================================================================\n"
     ]
    },
    {
     "name": "stderr",
     "output_type": "stream",
     "text": [
      "R[write to console]: The conservative diff-in-transports estimator is -1.10233597517788e-05 at d = 50000\n",
      "\n",
      "R[write to console]: Computing Differences-in-Transports Estimator...\n",
      "\n",
      "R[write to console]: Note: you are using `conservative = T`.\n",
      "\n"
     ]
    },
    {
     "name": "stdout",
     "output_type": "stream",
     "text": [
      "   bandwidth      main    main2d   control      diff    diff2d\n",
      "1      50000  0.000022  0.000007  0.000018  0.000005 -0.000011\n",
      "================================================================================\n"
     ]
    },
    {
     "name": "stderr",
     "output_type": "stream",
     "text": [
      "R[write to console]: The conservative diff-in-transports estimator is -0.00591251569658268 at d = 0\n",
      "\n",
      "R[write to console]: Computing Differences-in-Transports Estimator...\n",
      "\n",
      "R[write to console]: Note: you are using `conservative = T`.\n",
      "\n"
     ]
    },
    {
     "name": "stdout",
     "output_type": "stream",
     "text": [
      "================================================================================\n"
     ]
    },
    {
     "name": "stderr",
     "output_type": "stream",
     "text": [
      "R[write to console]: The conservative diff-in-transports estimator is -0.00591251569658268 at d = 0\n",
      "\n",
      "R[write to console]: Computing Differences-in-Transports Estimator...\n",
      "\n",
      "R[write to console]: Note: you are using `conservative = T`.\n",
      "\n"
     ]
    },
    {
     "name": "stdout",
     "output_type": "stream",
     "text": [
      "================================================================================\n"
     ]
    },
    {
     "name": "stderr",
     "output_type": "stream",
     "text": [
      "R[write to console]: The conservative diff-in-transports estimator is -0.00591251569658268 at d = 0\n",
      "\n",
      "R[write to console]: Computing Differences-in-Transports Estimator...\n",
      "\n",
      "R[write to console]: Note: you are using `conservative = T`.\n",
      "\n"
     ]
    },
    {
     "name": "stdout",
     "output_type": "stream",
     "text": [
      "================================================================================\n"
     ]
    },
    {
     "name": "stderr",
     "output_type": "stream",
     "text": [
      "R[write to console]: The conservative diff-in-transports estimator is -0.00591251569658268 at d = 0\n",
      "\n",
      "R[write to console]: Computing Differences-in-Transports Estimator...\n",
      "\n",
      "R[write to console]: Note: you are using `conservative = T`.\n",
      "\n"
     ]
    },
    {
     "name": "stdout",
     "output_type": "stream",
     "text": [
      "================================================================================\n"
     ]
    },
    {
     "name": "stderr",
     "output_type": "stream",
     "text": [
      "R[write to console]: The conservative diff-in-transports estimator is -0.00591251569658268 at d = 0\n",
      "\n",
      "R[write to console]: Computing Differences-in-Transports Estimator...\n",
      "\n",
      "R[write to console]: Note: you are using `conservative = T`.\n",
      "\n"
     ]
    },
    {
     "name": "stdout",
     "output_type": "stream",
     "text": [
      "================================================================================\n"
     ]
    },
    {
     "name": "stderr",
     "output_type": "stream",
     "text": [
      "R[write to console]: The conservative diff-in-transports estimator is -0.00591251569658268 at d = 0\n",
      "\n",
      "R[write to console]: Computing Differences-in-Transports Estimator...\n",
      "\n",
      "R[write to console]: Note: you are using `conservative = T`.\n",
      "\n"
     ]
    },
    {
     "name": "stdout",
     "output_type": "stream",
     "text": [
      "================================================================================\n"
     ]
    },
    {
     "name": "stderr",
     "output_type": "stream",
     "text": [
      "R[write to console]: The conservative diff-in-transports estimator is -0.00297186663559589 at d = 2500\n",
      "\n",
      "R[write to console]: Computing Differences-in-Transports Estimator...\n",
      "\n",
      "R[write to console]: Note: you are using `conservative = T`.\n",
      "\n"
     ]
    },
    {
     "name": "stdout",
     "output_type": "stream",
     "text": [
      "================================================================================\n"
     ]
    },
    {
     "name": "stderr",
     "output_type": "stream",
     "text": [
      "R[write to console]: The conservative diff-in-transports estimator is -0.00297186663559589 at d = 2500\n",
      "\n",
      "R[write to console]: Computing Differences-in-Transports Estimator...\n",
      "\n",
      "R[write to console]: Note: you are using `conservative = T`.\n",
      "\n"
     ]
    },
    {
     "name": "stdout",
     "output_type": "stream",
     "text": [
      "================================================================================\n"
     ]
    },
    {
     "name": "stderr",
     "output_type": "stream",
     "text": [
      "R[write to console]: The conservative diff-in-transports estimator is -0.00297186663559589 at d = 2500\n",
      "\n",
      "R[write to console]: Computing Differences-in-Transports Estimator...\n",
      "\n",
      "R[write to console]: Note: you are using `conservative = T`.\n",
      "\n"
     ]
    },
    {
     "name": "stdout",
     "output_type": "stream",
     "text": [
      "================================================================================\n"
     ]
    },
    {
     "name": "stderr",
     "output_type": "stream",
     "text": [
      "R[write to console]: The conservative diff-in-transports estimator is -0.00297186663559589 at d = 2500\n",
      "\n",
      "R[write to console]: Computing Differences-in-Transports Estimator...\n",
      "\n",
      "R[write to console]: Note: you are using `conservative = T`.\n",
      "\n"
     ]
    },
    {
     "name": "stdout",
     "output_type": "stream",
     "text": [
      "================================================================================\n"
     ]
    },
    {
     "name": "stderr",
     "output_type": "stream",
     "text": [
      "R[write to console]: The conservative diff-in-transports estimator is -0.00297186663559589 at d = 2500\n",
      "\n",
      "R[write to console]: Computing Differences-in-Transports Estimator...\n",
      "\n",
      "R[write to console]: Note: you are using `conservative = T`.\n",
      "\n"
     ]
    },
    {
     "name": "stdout",
     "output_type": "stream",
     "text": [
      "================================================================================\n"
     ]
    },
    {
     "name": "stderr",
     "output_type": "stream",
     "text": [
      "R[write to console]: The conservative diff-in-transports estimator is -0.00297186663559589 at d = 2500\n",
      "\n",
      "R[write to console]: Computing Differences-in-Transports Estimator...\n",
      "\n",
      "R[write to console]: Note: you are using `conservative = T`.\n",
      "\n"
     ]
    },
    {
     "name": "stdout",
     "output_type": "stream",
     "text": [
      "================================================================================\n"
     ]
    },
    {
     "name": "stderr",
     "output_type": "stream",
     "text": [
      "R[write to console]: The conservative diff-in-transports estimator is -0.00112372236251653 at d = 5000\n",
      "\n",
      "R[write to console]: Computing Differences-in-Transports Estimator...\n",
      "\n",
      "R[write to console]: Note: you are using `conservative = T`.\n",
      "\n"
     ]
    },
    {
     "name": "stdout",
     "output_type": "stream",
     "text": [
      "================================================================================\n"
     ]
    },
    {
     "name": "stderr",
     "output_type": "stream",
     "text": [
      "R[write to console]: The conservative diff-in-transports estimator is -0.00112372236251653 at d = 5000\n",
      "\n",
      "R[write to console]: Computing Differences-in-Transports Estimator...\n",
      "\n",
      "R[write to console]: Note: you are using `conservative = T`.\n",
      "\n"
     ]
    },
    {
     "name": "stdout",
     "output_type": "stream",
     "text": [
      "================================================================================\n"
     ]
    },
    {
     "name": "stderr",
     "output_type": "stream",
     "text": [
      "R[write to console]: The conservative diff-in-transports estimator is -0.00112372236251653 at d = 5000\n",
      "\n",
      "R[write to console]: Computing Differences-in-Transports Estimator...\n",
      "\n",
      "R[write to console]: Note: you are using `conservative = T`.\n",
      "\n"
     ]
    },
    {
     "name": "stdout",
     "output_type": "stream",
     "text": [
      "================================================================================\n"
     ]
    },
    {
     "name": "stderr",
     "output_type": "stream",
     "text": [
      "R[write to console]: The conservative diff-in-transports estimator is -0.00112372236251653 at d = 5000\n",
      "\n",
      "R[write to console]: Computing Differences-in-Transports Estimator...\n",
      "\n",
      "R[write to console]: Note: you are using `conservative = T`.\n",
      "\n"
     ]
    },
    {
     "name": "stdout",
     "output_type": "stream",
     "text": [
      "================================================================================\n"
     ]
    },
    {
     "name": "stderr",
     "output_type": "stream",
     "text": [
      "R[write to console]: The conservative diff-in-transports estimator is -0.00112372236251653 at d = 5000\n",
      "\n",
      "R[write to console]: Computing Differences-in-Transports Estimator...\n",
      "\n",
      "R[write to console]: Note: you are using `conservative = T`.\n",
      "\n"
     ]
    },
    {
     "name": "stdout",
     "output_type": "stream",
     "text": [
      "================================================================================\n"
     ]
    },
    {
     "name": "stderr",
     "output_type": "stream",
     "text": [
      "R[write to console]: The conservative diff-in-transports estimator is -0.00112372236251653 at d = 5000\n",
      "\n",
      "R[write to console]: Computing Differences-in-Transports Estimator...\n",
      "\n",
      "R[write to console]: Note: you are using `conservative = T`.\n",
      "\n"
     ]
    },
    {
     "name": "stdout",
     "output_type": "stream",
     "text": [
      "================================================================================\n"
     ]
    },
    {
     "name": "stderr",
     "output_type": "stream",
     "text": [
      "R[write to console]: The conservative diff-in-transports estimator is -0.000898643623997678 at d = 7500\n",
      "\n",
      "R[write to console]: Computing Differences-in-Transports Estimator...\n",
      "\n",
      "R[write to console]: Note: you are using `conservative = T`.\n",
      "\n"
     ]
    },
    {
     "name": "stdout",
     "output_type": "stream",
     "text": [
      "================================================================================\n"
     ]
    },
    {
     "name": "stderr",
     "output_type": "stream",
     "text": [
      "R[write to console]: The conservative diff-in-transports estimator is -0.000898643623997678 at d = 7500\n",
      "\n",
      "R[write to console]: Computing Differences-in-Transports Estimator...\n",
      "\n",
      "R[write to console]: Note: you are using `conservative = T`.\n",
      "\n"
     ]
    },
    {
     "name": "stdout",
     "output_type": "stream",
     "text": [
      "================================================================================\n"
     ]
    },
    {
     "name": "stderr",
     "output_type": "stream",
     "text": [
      "R[write to console]: The conservative diff-in-transports estimator is -0.000898643623997678 at d = 7500\n",
      "\n",
      "R[write to console]: Computing Differences-in-Transports Estimator...\n",
      "\n",
      "R[write to console]: Note: you are using `conservative = T`.\n",
      "\n"
     ]
    },
    {
     "name": "stdout",
     "output_type": "stream",
     "text": [
      "================================================================================\n"
     ]
    },
    {
     "name": "stderr",
     "output_type": "stream",
     "text": [
      "R[write to console]: The conservative diff-in-transports estimator is -0.000898643623997678 at d = 7500\n",
      "\n",
      "R[write to console]: Computing Differences-in-Transports Estimator...\n",
      "\n",
      "R[write to console]: Note: you are using `conservative = T`.\n",
      "\n"
     ]
    },
    {
     "name": "stdout",
     "output_type": "stream",
     "text": [
      "================================================================================\n"
     ]
    },
    {
     "name": "stderr",
     "output_type": "stream",
     "text": [
      "R[write to console]: The conservative diff-in-transports estimator is -0.000898643623997678 at d = 7500\n",
      "\n",
      "R[write to console]: Computing Differences-in-Transports Estimator...\n",
      "\n",
      "R[write to console]: Note: you are using `conservative = T`.\n",
      "\n"
     ]
    },
    {
     "name": "stdout",
     "output_type": "stream",
     "text": [
      "================================================================================\n"
     ]
    },
    {
     "name": "stderr",
     "output_type": "stream",
     "text": [
      "R[write to console]: The conservative diff-in-transports estimator is -0.000898643623997678 at d = 7500\n",
      "\n",
      "R[write to console]: Computing Differences-in-Transports Estimator...\n",
      "\n",
      "R[write to console]: Note: you are using `conservative = T`.\n",
      "\n"
     ]
    },
    {
     "name": "stdout",
     "output_type": "stream",
     "text": [
      "================================================================================\n"
     ]
    },
    {
     "name": "stderr",
     "output_type": "stream",
     "text": [
      "R[write to console]: The conservative diff-in-transports estimator is -0.000300565509129149 at d = 10000\n",
      "\n",
      "R[write to console]: Computing Differences-in-Transports Estimator...\n",
      "\n",
      "R[write to console]: Note: you are using `conservative = T`.\n",
      "\n"
     ]
    },
    {
     "name": "stdout",
     "output_type": "stream",
     "text": [
      "================================================================================\n"
     ]
    },
    {
     "name": "stderr",
     "output_type": "stream",
     "text": [
      "R[write to console]: The conservative diff-in-transports estimator is -0.000300565509129149 at d = 10000\n",
      "\n",
      "R[write to console]: Computing Differences-in-Transports Estimator...\n",
      "\n",
      "R[write to console]: Note: you are using `conservative = T`.\n",
      "\n"
     ]
    },
    {
     "name": "stdout",
     "output_type": "stream",
     "text": [
      "================================================================================\n"
     ]
    },
    {
     "name": "stderr",
     "output_type": "stream",
     "text": [
      "R[write to console]: The conservative diff-in-transports estimator is -0.000300565509129149 at d = 10000\n",
      "\n",
      "R[write to console]: Computing Differences-in-Transports Estimator...\n",
      "\n",
      "R[write to console]: Note: you are using `conservative = T`.\n",
      "\n"
     ]
    },
    {
     "name": "stdout",
     "output_type": "stream",
     "text": [
      "================================================================================\n"
     ]
    },
    {
     "name": "stderr",
     "output_type": "stream",
     "text": [
      "R[write to console]: The conservative diff-in-transports estimator is -0.000300565509129149 at d = 10000\n",
      "\n",
      "R[write to console]: Computing Differences-in-Transports Estimator...\n",
      "\n",
      "R[write to console]: Note: you are using `conservative = T`.\n",
      "\n"
     ]
    },
    {
     "name": "stdout",
     "output_type": "stream",
     "text": [
      "================================================================================\n"
     ]
    },
    {
     "name": "stderr",
     "output_type": "stream",
     "text": [
      "R[write to console]: The conservative diff-in-transports estimator is -0.000300565509129149 at d = 10000\n",
      "\n",
      "R[write to console]: Computing Differences-in-Transports Estimator...\n",
      "\n",
      "R[write to console]: Note: you are using `conservative = T`.\n",
      "\n"
     ]
    },
    {
     "name": "stdout",
     "output_type": "stream",
     "text": [
      "================================================================================\n"
     ]
    },
    {
     "name": "stderr",
     "output_type": "stream",
     "text": [
      "R[write to console]: The conservative diff-in-transports estimator is -0.000300565509129149 at d = 10000\n",
      "\n",
      "R[write to console]: Computing Differences-in-Transports Estimator...\n",
      "\n",
      "R[write to console]: Note: you are using `conservative = T`.\n",
      "\n"
     ]
    },
    {
     "name": "stdout",
     "output_type": "stream",
     "text": [
      "================================================================================\n"
     ]
    },
    {
     "name": "stderr",
     "output_type": "stream",
     "text": [
      "R[write to console]: The conservative diff-in-transports estimator is -0.00041780053039524 at d = 12500\n",
      "\n",
      "R[write to console]: Computing Differences-in-Transports Estimator...\n",
      "\n",
      "R[write to console]: Note: you are using `conservative = T`.\n",
      "\n"
     ]
    },
    {
     "name": "stdout",
     "output_type": "stream",
     "text": [
      "================================================================================\n"
     ]
    },
    {
     "name": "stderr",
     "output_type": "stream",
     "text": [
      "R[write to console]: The conservative diff-in-transports estimator is -0.00041780053039524 at d = 12500\n",
      "\n",
      "R[write to console]: Computing Differences-in-Transports Estimator...\n",
      "\n",
      "R[write to console]: Note: you are using `conservative = T`.\n",
      "\n"
     ]
    },
    {
     "name": "stdout",
     "output_type": "stream",
     "text": [
      "================================================================================\n"
     ]
    },
    {
     "name": "stderr",
     "output_type": "stream",
     "text": [
      "R[write to console]: The conservative diff-in-transports estimator is -0.00041780053039524 at d = 12500\n",
      "\n",
      "R[write to console]: Computing Differences-in-Transports Estimator...\n",
      "\n",
      "R[write to console]: Note: you are using `conservative = T`.\n",
      "\n"
     ]
    },
    {
     "name": "stdout",
     "output_type": "stream",
     "text": [
      "================================================================================\n"
     ]
    },
    {
     "name": "stderr",
     "output_type": "stream",
     "text": [
      "R[write to console]: The conservative diff-in-transports estimator is -0.00041780053039524 at d = 12500\n",
      "\n",
      "R[write to console]: Computing Differences-in-Transports Estimator...\n",
      "\n",
      "R[write to console]: Note: you are using `conservative = T`.\n",
      "\n"
     ]
    },
    {
     "name": "stdout",
     "output_type": "stream",
     "text": [
      "================================================================================\n"
     ]
    },
    {
     "name": "stderr",
     "output_type": "stream",
     "text": [
      "R[write to console]: The conservative diff-in-transports estimator is -0.00041780053039524 at d = 12500\n",
      "\n",
      "R[write to console]: Computing Differences-in-Transports Estimator...\n",
      "\n",
      "R[write to console]: Note: you are using `conservative = T`.\n",
      "\n"
     ]
    },
    {
     "name": "stdout",
     "output_type": "stream",
     "text": [
      "================================================================================\n"
     ]
    },
    {
     "name": "stderr",
     "output_type": "stream",
     "text": [
      "R[write to console]: The conservative diff-in-transports estimator is -0.00041780053039524 at d = 12500\n",
      "\n",
      "R[write to console]: Computing Differences-in-Transports Estimator...\n",
      "\n",
      "R[write to console]: Note: you are using `conservative = T`.\n",
      "\n"
     ]
    },
    {
     "name": "stdout",
     "output_type": "stream",
     "text": [
      "================================================================================\n"
     ]
    },
    {
     "name": "stderr",
     "output_type": "stream",
     "text": [
      "R[write to console]: The conservative diff-in-transports estimator is -0.000470113565786455 at d = 15000\n",
      "\n",
      "R[write to console]: Computing Differences-in-Transports Estimator...\n",
      "\n",
      "R[write to console]: Note: you are using `conservative = T`.\n",
      "\n"
     ]
    },
    {
     "name": "stdout",
     "output_type": "stream",
     "text": [
      "================================================================================\n"
     ]
    },
    {
     "name": "stderr",
     "output_type": "stream",
     "text": [
      "R[write to console]: The conservative diff-in-transports estimator is -0.000470113565786455 at d = 15000\n",
      "\n",
      "R[write to console]: Computing Differences-in-Transports Estimator...\n",
      "\n",
      "R[write to console]: Note: you are using `conservative = T`.\n",
      "\n"
     ]
    },
    {
     "name": "stdout",
     "output_type": "stream",
     "text": [
      "================================================================================\n"
     ]
    },
    {
     "name": "stderr",
     "output_type": "stream",
     "text": [
      "R[write to console]: The conservative diff-in-transports estimator is -0.000470113565786455 at d = 15000\n",
      "\n",
      "R[write to console]: Computing Differences-in-Transports Estimator...\n",
      "\n",
      "R[write to console]: Note: you are using `conservative = T`.\n",
      "\n"
     ]
    },
    {
     "name": "stdout",
     "output_type": "stream",
     "text": [
      "================================================================================\n"
     ]
    },
    {
     "name": "stderr",
     "output_type": "stream",
     "text": [
      "R[write to console]: The conservative diff-in-transports estimator is -0.000470113565786455 at d = 15000\n",
      "\n",
      "R[write to console]: Computing Differences-in-Transports Estimator...\n",
      "\n",
      "R[write to console]: Note: you are using `conservative = T`.\n",
      "\n"
     ]
    },
    {
     "name": "stdout",
     "output_type": "stream",
     "text": [
      "================================================================================\n"
     ]
    },
    {
     "name": "stderr",
     "output_type": "stream",
     "text": [
      "R[write to console]: The conservative diff-in-transports estimator is -0.000470113565786455 at d = 15000\n",
      "\n",
      "R[write to console]: Computing Differences-in-Transports Estimator...\n",
      "\n",
      "R[write to console]: Note: you are using `conservative = T`.\n",
      "\n"
     ]
    },
    {
     "name": "stdout",
     "output_type": "stream",
     "text": [
      "================================================================================\n"
     ]
    },
    {
     "name": "stderr",
     "output_type": "stream",
     "text": [
      "R[write to console]: The conservative diff-in-transports estimator is -0.000470113565786455 at d = 15000\n",
      "\n",
      "R[write to console]: Computing Differences-in-Transports Estimator...\n",
      "\n",
      "R[write to console]: Note: you are using `conservative = T`.\n",
      "\n"
     ]
    },
    {
     "name": "stdout",
     "output_type": "stream",
     "text": [
      "================================================================================\n"
     ]
    },
    {
     "name": "stderr",
     "output_type": "stream",
     "text": [
      "R[write to console]: The conservative diff-in-transports estimator is -0.000301210220071374 at d = 17500\n",
      "\n",
      "R[write to console]: Computing Differences-in-Transports Estimator...\n",
      "\n",
      "R[write to console]: Note: you are using `conservative = T`.\n",
      "\n"
     ]
    },
    {
     "name": "stdout",
     "output_type": "stream",
     "text": [
      "================================================================================\n"
     ]
    },
    {
     "name": "stderr",
     "output_type": "stream",
     "text": [
      "R[write to console]: The conservative diff-in-transports estimator is -0.000301210220071374 at d = 17500\n",
      "\n",
      "R[write to console]: Computing Differences-in-Transports Estimator...\n",
      "\n",
      "R[write to console]: Note: you are using `conservative = T`.\n",
      "\n"
     ]
    },
    {
     "name": "stdout",
     "output_type": "stream",
     "text": [
      "================================================================================\n"
     ]
    },
    {
     "name": "stderr",
     "output_type": "stream",
     "text": [
      "R[write to console]: The conservative diff-in-transports estimator is -0.000301210220071374 at d = 17500\n",
      "\n",
      "R[write to console]: Computing Differences-in-Transports Estimator...\n",
      "\n",
      "R[write to console]: Note: you are using `conservative = T`.\n",
      "\n"
     ]
    },
    {
     "name": "stdout",
     "output_type": "stream",
     "text": [
      "================================================================================\n"
     ]
    },
    {
     "name": "stderr",
     "output_type": "stream",
     "text": [
      "R[write to console]: The conservative diff-in-transports estimator is -0.000301210220071374 at d = 17500\n",
      "\n",
      "R[write to console]: Computing Differences-in-Transports Estimator...\n",
      "\n",
      "R[write to console]: Note: you are using `conservative = T`.\n",
      "\n"
     ]
    },
    {
     "name": "stdout",
     "output_type": "stream",
     "text": [
      "================================================================================\n"
     ]
    },
    {
     "name": "stderr",
     "output_type": "stream",
     "text": [
      "R[write to console]: The conservative diff-in-transports estimator is -0.000301210220071374 at d = 17500\n",
      "\n",
      "R[write to console]: Computing Differences-in-Transports Estimator...\n",
      "\n",
      "R[write to console]: Note: you are using `conservative = T`.\n",
      "\n"
     ]
    },
    {
     "name": "stdout",
     "output_type": "stream",
     "text": [
      "================================================================================\n"
     ]
    },
    {
     "name": "stderr",
     "output_type": "stream",
     "text": [
      "R[write to console]: The conservative diff-in-transports estimator is -0.000301210220071374 at d = 17500\n",
      "\n",
      "R[write to console]: Computing Differences-in-Transports Estimator...\n",
      "\n",
      "R[write to console]: Note: you are using `conservative = T`.\n",
      "\n"
     ]
    },
    {
     "name": "stdout",
     "output_type": "stream",
     "text": [
      "================================================================================\n"
     ]
    },
    {
     "name": "stderr",
     "output_type": "stream",
     "text": [
      "R[write to console]: The conservative diff-in-transports estimator is -0.000297964815598482 at d = 20000\n",
      "\n",
      "R[write to console]: Computing Differences-in-Transports Estimator...\n",
      "\n",
      "R[write to console]: Note: you are using `conservative = T`.\n",
      "\n"
     ]
    },
    {
     "name": "stdout",
     "output_type": "stream",
     "text": [
      "================================================================================\n"
     ]
    },
    {
     "name": "stderr",
     "output_type": "stream",
     "text": [
      "R[write to console]: The conservative diff-in-transports estimator is -0.000297964815598482 at d = 20000\n",
      "\n",
      "R[write to console]: Computing Differences-in-Transports Estimator...\n",
      "\n",
      "R[write to console]: Note: you are using `conservative = T`.\n",
      "\n"
     ]
    },
    {
     "name": "stdout",
     "output_type": "stream",
     "text": [
      "================================================================================\n"
     ]
    },
    {
     "name": "stderr",
     "output_type": "stream",
     "text": [
      "R[write to console]: The conservative diff-in-transports estimator is -0.000297964815598482 at d = 20000\n",
      "\n",
      "R[write to console]: Computing Differences-in-Transports Estimator...\n",
      "\n",
      "R[write to console]: Note: you are using `conservative = T`.\n",
      "\n"
     ]
    },
    {
     "name": "stdout",
     "output_type": "stream",
     "text": [
      "================================================================================\n"
     ]
    },
    {
     "name": "stderr",
     "output_type": "stream",
     "text": [
      "R[write to console]: The conservative diff-in-transports estimator is -0.000297964815598482 at d = 20000\n",
      "\n",
      "R[write to console]: Computing Differences-in-Transports Estimator...\n",
      "\n",
      "R[write to console]: Note: you are using `conservative = T`.\n",
      "\n"
     ]
    },
    {
     "name": "stdout",
     "output_type": "stream",
     "text": [
      "================================================================================\n"
     ]
    },
    {
     "name": "stderr",
     "output_type": "stream",
     "text": [
      "R[write to console]: The conservative diff-in-transports estimator is -0.000297964815598482 at d = 20000\n",
      "\n",
      "R[write to console]: Computing Differences-in-Transports Estimator...\n",
      "\n",
      "R[write to console]: Note: you are using `conservative = T`.\n",
      "\n"
     ]
    },
    {
     "name": "stdout",
     "output_type": "stream",
     "text": [
      "================================================================================\n"
     ]
    },
    {
     "name": "stderr",
     "output_type": "stream",
     "text": [
      "R[write to console]: The conservative diff-in-transports estimator is -0.000297964815598482 at d = 20000\n",
      "\n",
      "R[write to console]: Computing Differences-in-Transports Estimator...\n",
      "\n",
      "R[write to console]: Note: you are using `conservative = T`.\n",
      "\n"
     ]
    },
    {
     "name": "stdout",
     "output_type": "stream",
     "text": [
      "================================================================================\n"
     ]
    },
    {
     "name": "stderr",
     "output_type": "stream",
     "text": [
      "R[write to console]: The conservative diff-in-transports estimator is -0.000253484861864084 at d = 22500\n",
      "\n",
      "R[write to console]: Computing Differences-in-Transports Estimator...\n",
      "\n",
      "R[write to console]: Note: you are using `conservative = T`.\n",
      "\n"
     ]
    },
    {
     "name": "stdout",
     "output_type": "stream",
     "text": [
      "================================================================================\n"
     ]
    },
    {
     "name": "stderr",
     "output_type": "stream",
     "text": [
      "R[write to console]: The conservative diff-in-transports estimator is -0.000253484861864084 at d = 22500\n",
      "\n",
      "R[write to console]: Computing Differences-in-Transports Estimator...\n",
      "\n",
      "R[write to console]: Note: you are using `conservative = T`.\n",
      "\n"
     ]
    },
    {
     "name": "stdout",
     "output_type": "stream",
     "text": [
      "================================================================================\n"
     ]
    },
    {
     "name": "stderr",
     "output_type": "stream",
     "text": [
      "R[write to console]: The conservative diff-in-transports estimator is -0.000253484861864084 at d = 22500\n",
      "\n",
      "R[write to console]: Computing Differences-in-Transports Estimator...\n",
      "\n",
      "R[write to console]: Note: you are using `conservative = T`.\n",
      "\n"
     ]
    },
    {
     "name": "stdout",
     "output_type": "stream",
     "text": [
      "================================================================================\n"
     ]
    },
    {
     "name": "stderr",
     "output_type": "stream",
     "text": [
      "R[write to console]: The conservative diff-in-transports estimator is -0.000253484861864084 at d = 22500\n",
      "\n",
      "R[write to console]: Computing Differences-in-Transports Estimator...\n",
      "\n",
      "R[write to console]: Note: you are using `conservative = T`.\n",
      "\n"
     ]
    },
    {
     "name": "stdout",
     "output_type": "stream",
     "text": [
      "================================================================================\n"
     ]
    },
    {
     "name": "stderr",
     "output_type": "stream",
     "text": [
      "R[write to console]: The conservative diff-in-transports estimator is -0.000253484861864084 at d = 22500\n",
      "\n",
      "R[write to console]: Computing Differences-in-Transports Estimator...\n",
      "\n",
      "R[write to console]: Note: you are using `conservative = T`.\n",
      "\n"
     ]
    },
    {
     "name": "stdout",
     "output_type": "stream",
     "text": [
      "================================================================================\n"
     ]
    },
    {
     "name": "stderr",
     "output_type": "stream",
     "text": [
      "R[write to console]: The conservative diff-in-transports estimator is -0.000253484861864084 at d = 22500\n",
      "\n",
      "R[write to console]: Computing Differences-in-Transports Estimator...\n",
      "\n",
      "R[write to console]: Note: you are using `conservative = T`.\n",
      "\n"
     ]
    },
    {
     "name": "stdout",
     "output_type": "stream",
     "text": [
      "================================================================================\n"
     ]
    },
    {
     "name": "stderr",
     "output_type": "stream",
     "text": [
      "R[write to console]: The conservative diff-in-transports estimator is -0.000192690794533162 at d = 25000\n",
      "\n",
      "R[write to console]: Computing Differences-in-Transports Estimator...\n",
      "\n",
      "R[write to console]: Note: you are using `conservative = T`.\n",
      "\n"
     ]
    },
    {
     "name": "stdout",
     "output_type": "stream",
     "text": [
      "================================================================================\n"
     ]
    },
    {
     "name": "stderr",
     "output_type": "stream",
     "text": [
      "R[write to console]: The conservative diff-in-transports estimator is -0.000192690794533162 at d = 25000\n",
      "\n",
      "R[write to console]: Computing Differences-in-Transports Estimator...\n",
      "\n",
      "R[write to console]: Note: you are using `conservative = T`.\n",
      "\n"
     ]
    },
    {
     "name": "stdout",
     "output_type": "stream",
     "text": [
      "================================================================================\n"
     ]
    },
    {
     "name": "stderr",
     "output_type": "stream",
     "text": [
      "R[write to console]: The conservative diff-in-transports estimator is -0.000192690794533162 at d = 25000\n",
      "\n",
      "R[write to console]: Computing Differences-in-Transports Estimator...\n",
      "\n",
      "R[write to console]: Note: you are using `conservative = T`.\n",
      "\n"
     ]
    },
    {
     "name": "stdout",
     "output_type": "stream",
     "text": [
      "================================================================================\n"
     ]
    },
    {
     "name": "stderr",
     "output_type": "stream",
     "text": [
      "R[write to console]: The conservative diff-in-transports estimator is -0.000192690794533162 at d = 25000\n",
      "\n",
      "R[write to console]: Computing Differences-in-Transports Estimator...\n",
      "\n",
      "R[write to console]: Note: you are using `conservative = T`.\n",
      "\n"
     ]
    },
    {
     "name": "stdout",
     "output_type": "stream",
     "text": [
      "================================================================================\n"
     ]
    },
    {
     "name": "stderr",
     "output_type": "stream",
     "text": [
      "R[write to console]: The conservative diff-in-transports estimator is -0.000192690794533162 at d = 25000\n",
      "\n",
      "R[write to console]: Computing Differences-in-Transports Estimator...\n",
      "\n",
      "R[write to console]: Note: you are using `conservative = T`.\n",
      "\n"
     ]
    },
    {
     "name": "stdout",
     "output_type": "stream",
     "text": [
      "================================================================================\n"
     ]
    },
    {
     "name": "stderr",
     "output_type": "stream",
     "text": [
      "R[write to console]: The conservative diff-in-transports estimator is -0.000192690794533162 at d = 25000\n",
      "\n",
      "R[write to console]: Computing Differences-in-Transports Estimator...\n",
      "\n",
      "R[write to console]: Note: you are using `conservative = T`.\n",
      "\n"
     ]
    },
    {
     "name": "stdout",
     "output_type": "stream",
     "text": [
      "================================================================================\n"
     ]
    },
    {
     "name": "stderr",
     "output_type": "stream",
     "text": [
      "R[write to console]: The conservative diff-in-transports estimator is -0.000192690794533165 at d = 27500\n",
      "\n",
      "R[write to console]: Computing Differences-in-Transports Estimator...\n",
      "\n",
      "R[write to console]: Note: you are using `conservative = T`.\n",
      "\n"
     ]
    },
    {
     "name": "stdout",
     "output_type": "stream",
     "text": [
      "================================================================================\n"
     ]
    },
    {
     "name": "stderr",
     "output_type": "stream",
     "text": [
      "R[write to console]: The conservative diff-in-transports estimator is -0.000192690794533165 at d = 27500\n",
      "\n",
      "R[write to console]: Computing Differences-in-Transports Estimator...\n",
      "\n",
      "R[write to console]: Note: you are using `conservative = T`.\n",
      "\n"
     ]
    },
    {
     "name": "stdout",
     "output_type": "stream",
     "text": [
      "================================================================================\n"
     ]
    },
    {
     "name": "stderr",
     "output_type": "stream",
     "text": [
      "R[write to console]: The conservative diff-in-transports estimator is -0.000192690794533165 at d = 27500\n",
      "\n",
      "R[write to console]: Computing Differences-in-Transports Estimator...\n",
      "\n",
      "R[write to console]: Note: you are using `conservative = T`.\n",
      "\n"
     ]
    },
    {
     "name": "stdout",
     "output_type": "stream",
     "text": [
      "================================================================================\n"
     ]
    },
    {
     "name": "stderr",
     "output_type": "stream",
     "text": [
      "R[write to console]: The conservative diff-in-transports estimator is -0.000192690794533165 at d = 27500\n",
      "\n",
      "R[write to console]: Computing Differences-in-Transports Estimator...\n",
      "\n",
      "R[write to console]: Note: you are using `conservative = T`.\n",
      "\n"
     ]
    },
    {
     "name": "stdout",
     "output_type": "stream",
     "text": [
      "================================================================================\n"
     ]
    },
    {
     "name": "stderr",
     "output_type": "stream",
     "text": [
      "R[write to console]: The conservative diff-in-transports estimator is -0.000192690794533165 at d = 27500\n",
      "\n",
      "R[write to console]: Computing Differences-in-Transports Estimator...\n",
      "\n",
      "R[write to console]: Note: you are using `conservative = T`.\n",
      "\n"
     ]
    },
    {
     "name": "stdout",
     "output_type": "stream",
     "text": [
      "================================================================================\n"
     ]
    },
    {
     "name": "stderr",
     "output_type": "stream",
     "text": [
      "R[write to console]: The conservative diff-in-transports estimator is -0.000192690794533165 at d = 27500\n",
      "\n",
      "R[write to console]: Computing Differences-in-Transports Estimator...\n",
      "\n",
      "R[write to console]: Note: you are using `conservative = T`.\n",
      "\n"
     ]
    },
    {
     "name": "stdout",
     "output_type": "stream",
     "text": [
      "================================================================================\n"
     ]
    },
    {
     "name": "stderr",
     "output_type": "stream",
     "text": [
      "R[write to console]: The conservative diff-in-transports estimator is -0.000177660392250676 at d = 30000\n",
      "\n",
      "R[write to console]: Computing Differences-in-Transports Estimator...\n",
      "\n",
      "R[write to console]: Note: you are using `conservative = T`.\n",
      "\n"
     ]
    },
    {
     "name": "stdout",
     "output_type": "stream",
     "text": [
      "================================================================================\n"
     ]
    },
    {
     "name": "stderr",
     "output_type": "stream",
     "text": [
      "R[write to console]: The conservative diff-in-transports estimator is -0.000177660392250676 at d = 30000\n",
      "\n",
      "R[write to console]: Computing Differences-in-Transports Estimator...\n",
      "\n",
      "R[write to console]: Note: you are using `conservative = T`.\n",
      "\n"
     ]
    },
    {
     "name": "stdout",
     "output_type": "stream",
     "text": [
      "================================================================================\n"
     ]
    },
    {
     "name": "stderr",
     "output_type": "stream",
     "text": [
      "R[write to console]: The conservative diff-in-transports estimator is -0.000177660392250676 at d = 30000\n",
      "\n",
      "R[write to console]: Computing Differences-in-Transports Estimator...\n",
      "\n",
      "R[write to console]: Note: you are using `conservative = T`.\n",
      "\n"
     ]
    },
    {
     "name": "stdout",
     "output_type": "stream",
     "text": [
      "================================================================================\n"
     ]
    },
    {
     "name": "stderr",
     "output_type": "stream",
     "text": [
      "R[write to console]: The conservative diff-in-transports estimator is -0.000177660392250676 at d = 30000\n",
      "\n",
      "R[write to console]: Computing Differences-in-Transports Estimator...\n",
      "\n",
      "R[write to console]: Note: you are using `conservative = T`.\n",
      "\n"
     ]
    },
    {
     "name": "stdout",
     "output_type": "stream",
     "text": [
      "================================================================================\n"
     ]
    },
    {
     "name": "stderr",
     "output_type": "stream",
     "text": [
      "R[write to console]: The conservative diff-in-transports estimator is -0.000177660392250676 at d = 30000\n",
      "\n",
      "R[write to console]: Computing Differences-in-Transports Estimator...\n",
      "\n",
      "R[write to console]: Note: you are using `conservative = T`.\n",
      "\n"
     ]
    },
    {
     "name": "stdout",
     "output_type": "stream",
     "text": [
      "================================================================================\n"
     ]
    },
    {
     "name": "stderr",
     "output_type": "stream",
     "text": [
      "R[write to console]: The conservative diff-in-transports estimator is -0.000177660392250676 at d = 30000\n",
      "\n",
      "R[write to console]: Computing Differences-in-Transports Estimator...\n",
      "\n",
      "R[write to console]: Note: you are using `conservative = T`.\n",
      "\n"
     ]
    },
    {
     "name": "stdout",
     "output_type": "stream",
     "text": [
      "================================================================================\n"
     ]
    },
    {
     "name": "stderr",
     "output_type": "stream",
     "text": [
      "R[write to console]: The conservative diff-in-transports estimator is -0.00016949340823046 at d = 32500\n",
      "\n",
      "R[write to console]: Computing Differences-in-Transports Estimator...\n",
      "\n",
      "R[write to console]: Note: you are using `conservative = T`.\n",
      "\n"
     ]
    },
    {
     "name": "stdout",
     "output_type": "stream",
     "text": [
      "================================================================================\n"
     ]
    },
    {
     "name": "stderr",
     "output_type": "stream",
     "text": [
      "R[write to console]: The conservative diff-in-transports estimator is -0.00016949340823046 at d = 32500\n",
      "\n",
      "R[write to console]: Computing Differences-in-Transports Estimator...\n",
      "\n",
      "R[write to console]: Note: you are using `conservative = T`.\n",
      "\n"
     ]
    },
    {
     "name": "stdout",
     "output_type": "stream",
     "text": [
      "================================================================================\n"
     ]
    },
    {
     "name": "stderr",
     "output_type": "stream",
     "text": [
      "R[write to console]: The conservative diff-in-transports estimator is -0.00016949340823046 at d = 32500\n",
      "\n",
      "R[write to console]: Computing Differences-in-Transports Estimator...\n",
      "\n",
      "R[write to console]: Note: you are using `conservative = T`.\n",
      "\n"
     ]
    },
    {
     "name": "stdout",
     "output_type": "stream",
     "text": [
      "================================================================================\n"
     ]
    },
    {
     "name": "stderr",
     "output_type": "stream",
     "text": [
      "R[write to console]: The conservative diff-in-transports estimator is -0.00016949340823046 at d = 32500\n",
      "\n",
      "R[write to console]: Computing Differences-in-Transports Estimator...\n",
      "\n",
      "R[write to console]: Note: you are using `conservative = T`.\n",
      "\n"
     ]
    },
    {
     "name": "stdout",
     "output_type": "stream",
     "text": [
      "================================================================================\n"
     ]
    },
    {
     "name": "stderr",
     "output_type": "stream",
     "text": [
      "R[write to console]: The conservative diff-in-transports estimator is -0.00016949340823046 at d = 32500\n",
      "\n",
      "R[write to console]: Computing Differences-in-Transports Estimator...\n",
      "\n",
      "R[write to console]: Note: you are using `conservative = T`.\n",
      "\n"
     ]
    },
    {
     "name": "stdout",
     "output_type": "stream",
     "text": [
      "================================================================================\n"
     ]
    },
    {
     "name": "stderr",
     "output_type": "stream",
     "text": [
      "R[write to console]: The conservative diff-in-transports estimator is -0.00016949340823046 at d = 32500\n",
      "\n",
      "R[write to console]: Computing Differences-in-Transports Estimator...\n",
      "\n",
      "R[write to console]: Note: you are using `conservative = T`.\n",
      "\n"
     ]
    },
    {
     "name": "stdout",
     "output_type": "stream",
     "text": [
      "================================================================================\n"
     ]
    },
    {
     "name": "stderr",
     "output_type": "stream",
     "text": [
      "R[write to console]: The conservative diff-in-transports estimator is -0.000185197808628552 at d = 35000\n",
      "\n",
      "R[write to console]: Computing Differences-in-Transports Estimator...\n",
      "\n",
      "R[write to console]: Note: you are using `conservative = T`.\n",
      "\n"
     ]
    },
    {
     "name": "stdout",
     "output_type": "stream",
     "text": [
      "================================================================================\n"
     ]
    },
    {
     "name": "stderr",
     "output_type": "stream",
     "text": [
      "R[write to console]: The conservative diff-in-transports estimator is -0.000185197808628552 at d = 35000\n",
      "\n",
      "R[write to console]: Computing Differences-in-Transports Estimator...\n",
      "\n",
      "R[write to console]: Note: you are using `conservative = T`.\n",
      "\n"
     ]
    },
    {
     "name": "stdout",
     "output_type": "stream",
     "text": [
      "================================================================================\n"
     ]
    },
    {
     "name": "stderr",
     "output_type": "stream",
     "text": [
      "R[write to console]: The conservative diff-in-transports estimator is -0.000185197808628552 at d = 35000\n",
      "\n",
      "R[write to console]: Computing Differences-in-Transports Estimator...\n",
      "\n",
      "R[write to console]: Note: you are using `conservative = T`.\n",
      "\n"
     ]
    },
    {
     "name": "stdout",
     "output_type": "stream",
     "text": [
      "================================================================================\n"
     ]
    },
    {
     "name": "stderr",
     "output_type": "stream",
     "text": [
      "R[write to console]: The conservative diff-in-transports estimator is -0.000185197808628552 at d = 35000\n",
      "\n",
      "R[write to console]: Computing Differences-in-Transports Estimator...\n",
      "\n",
      "R[write to console]: Note: you are using `conservative = T`.\n",
      "\n"
     ]
    },
    {
     "name": "stdout",
     "output_type": "stream",
     "text": [
      "================================================================================\n"
     ]
    },
    {
     "name": "stderr",
     "output_type": "stream",
     "text": [
      "R[write to console]: The conservative diff-in-transports estimator is -0.000185197808628552 at d = 35000\n",
      "\n",
      "R[write to console]: Computing Differences-in-Transports Estimator...\n",
      "\n",
      "R[write to console]: Note: you are using `conservative = T`.\n",
      "\n"
     ]
    },
    {
     "name": "stdout",
     "output_type": "stream",
     "text": [
      "================================================================================\n"
     ]
    },
    {
     "name": "stderr",
     "output_type": "stream",
     "text": [
      "R[write to console]: The conservative diff-in-transports estimator is -0.000185197808628552 at d = 35000\n",
      "\n",
      "R[write to console]: Computing Differences-in-Transports Estimator...\n",
      "\n",
      "R[write to console]: Note: you are using `conservative = T`.\n",
      "\n"
     ]
    },
    {
     "name": "stdout",
     "output_type": "stream",
     "text": [
      "================================================================================\n"
     ]
    },
    {
     "name": "stderr",
     "output_type": "stream",
     "text": [
      "R[write to console]: The conservative diff-in-transports estimator is -0.00018519780862855 at d = 37500\n",
      "\n",
      "R[write to console]: Computing Differences-in-Transports Estimator...\n",
      "\n",
      "R[write to console]: Note: you are using `conservative = T`.\n",
      "\n"
     ]
    },
    {
     "name": "stdout",
     "output_type": "stream",
     "text": [
      "================================================================================\n"
     ]
    },
    {
     "name": "stderr",
     "output_type": "stream",
     "text": [
      "R[write to console]: The conservative diff-in-transports estimator is -0.00018519780862855 at d = 37500\n",
      "\n",
      "R[write to console]: Computing Differences-in-Transports Estimator...\n",
      "\n",
      "R[write to console]: Note: you are using `conservative = T`.\n",
      "\n"
     ]
    },
    {
     "name": "stdout",
     "output_type": "stream",
     "text": [
      "================================================================================\n"
     ]
    },
    {
     "name": "stderr",
     "output_type": "stream",
     "text": [
      "R[write to console]: The conservative diff-in-transports estimator is -0.00018519780862855 at d = 37500\n",
      "\n",
      "R[write to console]: Computing Differences-in-Transports Estimator...\n",
      "\n",
      "R[write to console]: Note: you are using `conservative = T`.\n",
      "\n"
     ]
    },
    {
     "name": "stdout",
     "output_type": "stream",
     "text": [
      "================================================================================\n"
     ]
    },
    {
     "name": "stderr",
     "output_type": "stream",
     "text": [
      "R[write to console]: The conservative diff-in-transports estimator is -0.00018519780862855 at d = 37500\n",
      "\n",
      "R[write to console]: Computing Differences-in-Transports Estimator...\n",
      "\n",
      "R[write to console]: Note: you are using `conservative = T`.\n",
      "\n"
     ]
    },
    {
     "name": "stdout",
     "output_type": "stream",
     "text": [
      "================================================================================\n"
     ]
    },
    {
     "name": "stderr",
     "output_type": "stream",
     "text": [
      "R[write to console]: The conservative diff-in-transports estimator is -0.00018519780862855 at d = 37500\n",
      "\n",
      "R[write to console]: Computing Differences-in-Transports Estimator...\n",
      "\n",
      "R[write to console]: Note: you are using `conservative = T`.\n",
      "\n"
     ]
    },
    {
     "name": "stdout",
     "output_type": "stream",
     "text": [
      "================================================================================\n"
     ]
    },
    {
     "name": "stderr",
     "output_type": "stream",
     "text": [
      "R[write to console]: The conservative diff-in-transports estimator is -0.00018519780862855 at d = 37500\n",
      "\n",
      "R[write to console]: Computing Differences-in-Transports Estimator...\n",
      "\n",
      "R[write to console]: Note: you are using `conservative = T`.\n",
      "\n"
     ]
    },
    {
     "name": "stdout",
     "output_type": "stream",
     "text": [
      "================================================================================\n"
     ]
    },
    {
     "name": "stderr",
     "output_type": "stream",
     "text": [
      "R[write to console]: The conservative diff-in-transports estimator is -0.000185197808628554 at d = 40000\n",
      "\n",
      "R[write to console]: Computing Differences-in-Transports Estimator...\n",
      "\n",
      "R[write to console]: Note: you are using `conservative = T`.\n",
      "\n"
     ]
    },
    {
     "name": "stdout",
     "output_type": "stream",
     "text": [
      "================================================================================\n"
     ]
    },
    {
     "name": "stderr",
     "output_type": "stream",
     "text": [
      "R[write to console]: The conservative diff-in-transports estimator is -0.000185197808628554 at d = 40000\n",
      "\n",
      "R[write to console]: Computing Differences-in-Transports Estimator...\n",
      "\n",
      "R[write to console]: Note: you are using `conservative = T`.\n",
      "\n"
     ]
    },
    {
     "name": "stdout",
     "output_type": "stream",
     "text": [
      "================================================================================\n"
     ]
    },
    {
     "name": "stderr",
     "output_type": "stream",
     "text": [
      "R[write to console]: The conservative diff-in-transports estimator is -0.000185197808628554 at d = 40000\n",
      "\n",
      "R[write to console]: Computing Differences-in-Transports Estimator...\n",
      "\n",
      "R[write to console]: Note: you are using `conservative = T`.\n",
      "\n"
     ]
    },
    {
     "name": "stdout",
     "output_type": "stream",
     "text": [
      "================================================================================\n"
     ]
    },
    {
     "name": "stderr",
     "output_type": "stream",
     "text": [
      "R[write to console]: The conservative diff-in-transports estimator is -0.000185197808628554 at d = 40000\n",
      "\n",
      "R[write to console]: Computing Differences-in-Transports Estimator...\n",
      "\n",
      "R[write to console]: Note: you are using `conservative = T`.\n",
      "\n"
     ]
    },
    {
     "name": "stdout",
     "output_type": "stream",
     "text": [
      "================================================================================\n"
     ]
    },
    {
     "name": "stderr",
     "output_type": "stream",
     "text": [
      "R[write to console]: The conservative diff-in-transports estimator is -0.000185197808628554 at d = 40000\n",
      "\n",
      "R[write to console]: Computing Differences-in-Transports Estimator...\n",
      "\n",
      "R[write to console]: Note: you are using `conservative = T`.\n",
      "\n"
     ]
    },
    {
     "name": "stdout",
     "output_type": "stream",
     "text": [
      "================================================================================\n"
     ]
    },
    {
     "name": "stderr",
     "output_type": "stream",
     "text": [
      "R[write to console]: The conservative diff-in-transports estimator is -0.000185197808628554 at d = 40000\n",
      "\n",
      "R[write to console]: Computing Differences-in-Transports Estimator...\n",
      "\n",
      "R[write to console]: Note: you are using `conservative = T`.\n",
      "\n"
     ]
    },
    {
     "name": "stdout",
     "output_type": "stream",
     "text": [
      "================================================================================\n"
     ]
    },
    {
     "name": "stderr",
     "output_type": "stream",
     "text": [
      "R[write to console]: The conservative diff-in-transports estimator is -0.000185197808628557 at d = 42500\n",
      "\n",
      "R[write to console]: Computing Differences-in-Transports Estimator...\n",
      "\n",
      "R[write to console]: Note: you are using `conservative = T`.\n",
      "\n"
     ]
    },
    {
     "name": "stdout",
     "output_type": "stream",
     "text": [
      "================================================================================\n"
     ]
    },
    {
     "name": "stderr",
     "output_type": "stream",
     "text": [
      "R[write to console]: The conservative diff-in-transports estimator is -0.000185197808628557 at d = 42500\n",
      "\n",
      "R[write to console]: Computing Differences-in-Transports Estimator...\n",
      "\n",
      "R[write to console]: Note: you are using `conservative = T`.\n",
      "\n"
     ]
    },
    {
     "name": "stdout",
     "output_type": "stream",
     "text": [
      "================================================================================\n"
     ]
    },
    {
     "name": "stderr",
     "output_type": "stream",
     "text": [
      "R[write to console]: The conservative diff-in-transports estimator is -0.000185197808628557 at d = 42500\n",
      "\n",
      "R[write to console]: Computing Differences-in-Transports Estimator...\n",
      "\n",
      "R[write to console]: Note: you are using `conservative = T`.\n",
      "\n"
     ]
    },
    {
     "name": "stdout",
     "output_type": "stream",
     "text": [
      "================================================================================\n"
     ]
    },
    {
     "name": "stderr",
     "output_type": "stream",
     "text": [
      "R[write to console]: The conservative diff-in-transports estimator is -0.000185197808628557 at d = 42500\n",
      "\n",
      "R[write to console]: Computing Differences-in-Transports Estimator...\n",
      "\n",
      "R[write to console]: Note: you are using `conservative = T`.\n",
      "\n"
     ]
    },
    {
     "name": "stdout",
     "output_type": "stream",
     "text": [
      "================================================================================\n"
     ]
    },
    {
     "name": "stderr",
     "output_type": "stream",
     "text": [
      "R[write to console]: The conservative diff-in-transports estimator is -0.000185197808628557 at d = 42500\n",
      "\n",
      "R[write to console]: Computing Differences-in-Transports Estimator...\n",
      "\n",
      "R[write to console]: Note: you are using `conservative = T`.\n",
      "\n"
     ]
    },
    {
     "name": "stdout",
     "output_type": "stream",
     "text": [
      "================================================================================\n"
     ]
    },
    {
     "name": "stderr",
     "output_type": "stream",
     "text": [
      "R[write to console]: The conservative diff-in-transports estimator is -0.000185197808628557 at d = 42500\n",
      "\n",
      "R[write to console]: Computing Differences-in-Transports Estimator...\n",
      "\n",
      "R[write to console]: Note: you are using `conservative = T`.\n",
      "\n"
     ]
    },
    {
     "name": "stdout",
     "output_type": "stream",
     "text": [
      "================================================================================\n"
     ]
    },
    {
     "name": "stderr",
     "output_type": "stream",
     "text": [
      "R[write to console]: The conservative diff-in-transports estimator is -0.000185197808628551 at d = 45000\n",
      "\n",
      "R[write to console]: Computing Differences-in-Transports Estimator...\n",
      "\n",
      "R[write to console]: Note: you are using `conservative = T`.\n",
      "\n"
     ]
    },
    {
     "name": "stdout",
     "output_type": "stream",
     "text": [
      "================================================================================\n"
     ]
    },
    {
     "name": "stderr",
     "output_type": "stream",
     "text": [
      "R[write to console]: The conservative diff-in-transports estimator is -0.000185197808628551 at d = 45000\n",
      "\n",
      "R[write to console]: Computing Differences-in-Transports Estimator...\n",
      "\n",
      "R[write to console]: Note: you are using `conservative = T`.\n",
      "\n"
     ]
    },
    {
     "name": "stdout",
     "output_type": "stream",
     "text": [
      "================================================================================\n"
     ]
    },
    {
     "name": "stderr",
     "output_type": "stream",
     "text": [
      "R[write to console]: The conservative diff-in-transports estimator is -0.000185197808628551 at d = 45000\n",
      "\n",
      "R[write to console]: Computing Differences-in-Transports Estimator...\n",
      "\n",
      "R[write to console]: Note: you are using `conservative = T`.\n",
      "\n"
     ]
    },
    {
     "name": "stdout",
     "output_type": "stream",
     "text": [
      "================================================================================\n"
     ]
    },
    {
     "name": "stderr",
     "output_type": "stream",
     "text": [
      "R[write to console]: The conservative diff-in-transports estimator is -0.000185197808628551 at d = 45000\n",
      "\n",
      "R[write to console]: Computing Differences-in-Transports Estimator...\n",
      "\n",
      "R[write to console]: Note: you are using `conservative = T`.\n",
      "\n"
     ]
    },
    {
     "name": "stdout",
     "output_type": "stream",
     "text": [
      "================================================================================\n"
     ]
    },
    {
     "name": "stderr",
     "output_type": "stream",
     "text": [
      "R[write to console]: The conservative diff-in-transports estimator is -0.000185197808628551 at d = 45000\n",
      "\n",
      "R[write to console]: Computing Differences-in-Transports Estimator...\n",
      "\n",
      "R[write to console]: Note: you are using `conservative = T`.\n",
      "\n"
     ]
    },
    {
     "name": "stdout",
     "output_type": "stream",
     "text": [
      "================================================================================\n"
     ]
    },
    {
     "name": "stderr",
     "output_type": "stream",
     "text": [
      "R[write to console]: The conservative diff-in-transports estimator is -0.000185197808628551 at d = 45000\n",
      "\n",
      "R[write to console]: Computing Differences-in-Transports Estimator...\n",
      "\n",
      "R[write to console]: Note: you are using `conservative = T`.\n",
      "\n"
     ]
    },
    {
     "name": "stdout",
     "output_type": "stream",
     "text": [
      "================================================================================\n"
     ]
    },
    {
     "name": "stderr",
     "output_type": "stream",
     "text": [
      "R[write to console]: The conservative diff-in-transports estimator is -1.10233597517788e-05 at d = 47500\n",
      "\n",
      "R[write to console]: Computing Differences-in-Transports Estimator...\n",
      "\n",
      "R[write to console]: Note: you are using `conservative = T`.\n",
      "\n"
     ]
    },
    {
     "name": "stdout",
     "output_type": "stream",
     "text": [
      "================================================================================\n"
     ]
    },
    {
     "name": "stderr",
     "output_type": "stream",
     "text": [
      "R[write to console]: The conservative diff-in-transports estimator is -1.10233597517788e-05 at d = 47500\n",
      "\n",
      "R[write to console]: Computing Differences-in-Transports Estimator...\n",
      "\n",
      "R[write to console]: Note: you are using `conservative = T`.\n",
      "\n"
     ]
    },
    {
     "name": "stdout",
     "output_type": "stream",
     "text": [
      "================================================================================\n"
     ]
    },
    {
     "name": "stderr",
     "output_type": "stream",
     "text": [
      "R[write to console]: The conservative diff-in-transports estimator is -1.10233597517788e-05 at d = 47500\n",
      "\n",
      "R[write to console]: Computing Differences-in-Transports Estimator...\n",
      "\n",
      "R[write to console]: Note: you are using `conservative = T`.\n",
      "\n"
     ]
    },
    {
     "name": "stdout",
     "output_type": "stream",
     "text": [
      "================================================================================\n"
     ]
    },
    {
     "name": "stderr",
     "output_type": "stream",
     "text": [
      "R[write to console]: The conservative diff-in-transports estimator is -1.10233597517788e-05 at d = 47500\n",
      "\n",
      "R[write to console]: Computing Differences-in-Transports Estimator...\n",
      "\n",
      "R[write to console]: Note: you are using `conservative = T`.\n",
      "\n"
     ]
    },
    {
     "name": "stdout",
     "output_type": "stream",
     "text": [
      "================================================================================\n"
     ]
    },
    {
     "name": "stderr",
     "output_type": "stream",
     "text": [
      "R[write to console]: The conservative diff-in-transports estimator is -1.10233597517788e-05 at d = 47500\n",
      "\n",
      "R[write to console]: Computing Differences-in-Transports Estimator...\n",
      "\n",
      "R[write to console]: Note: you are using `conservative = T`.\n",
      "\n"
     ]
    },
    {
     "name": "stdout",
     "output_type": "stream",
     "text": [
      "================================================================================\n"
     ]
    },
    {
     "name": "stderr",
     "output_type": "stream",
     "text": [
      "R[write to console]: The conservative diff-in-transports estimator is -1.10233597517788e-05 at d = 47500\n",
      "\n",
      "R[write to console]: Computing Differences-in-Transports Estimator...\n",
      "\n",
      "R[write to console]: Note: you are using `conservative = T`.\n",
      "\n"
     ]
    },
    {
     "name": "stdout",
     "output_type": "stream",
     "text": [
      "================================================================================\n"
     ]
    },
    {
     "name": "stderr",
     "output_type": "stream",
     "text": [
      "R[write to console]: The conservative diff-in-transports estimator is -1.10233597517788e-05 at d = 50000\n",
      "\n",
      "R[write to console]: Computing Differences-in-Transports Estimator...\n",
      "\n",
      "R[write to console]: Note: you are using `conservative = T`.\n",
      "\n"
     ]
    },
    {
     "name": "stdout",
     "output_type": "stream",
     "text": [
      "================================================================================\n"
     ]
    },
    {
     "name": "stderr",
     "output_type": "stream",
     "text": [
      "R[write to console]: The conservative diff-in-transports estimator is -1.10233597517788e-05 at d = 50000\n",
      "\n",
      "R[write to console]: Computing Differences-in-Transports Estimator...\n",
      "\n",
      "R[write to console]: Note: you are using `conservative = T`.\n",
      "\n"
     ]
    },
    {
     "name": "stdout",
     "output_type": "stream",
     "text": [
      "================================================================================\n"
     ]
    },
    {
     "name": "stderr",
     "output_type": "stream",
     "text": [
      "R[write to console]: The conservative diff-in-transports estimator is -1.10233597517788e-05 at d = 50000\n",
      "\n",
      "R[write to console]: Computing Differences-in-Transports Estimator...\n",
      "\n",
      "R[write to console]: Note: you are using `conservative = T`.\n",
      "\n"
     ]
    },
    {
     "name": "stdout",
     "output_type": "stream",
     "text": [
      "================================================================================\n"
     ]
    },
    {
     "name": "stderr",
     "output_type": "stream",
     "text": [
      "R[write to console]: The conservative diff-in-transports estimator is -1.10233597517788e-05 at d = 50000\n",
      "\n",
      "R[write to console]: Computing Differences-in-Transports Estimator...\n",
      "\n",
      "R[write to console]: Note: you are using `conservative = T`.\n",
      "\n"
     ]
    },
    {
     "name": "stdout",
     "output_type": "stream",
     "text": [
      "================================================================================\n"
     ]
    },
    {
     "name": "stderr",
     "output_type": "stream",
     "text": [
      "R[write to console]: The conservative diff-in-transports estimator is -1.10233597517788e-05 at d = 50000\n",
      "\n",
      "R[write to console]: Computing Differences-in-Transports Estimator...\n",
      "\n",
      "R[write to console]: Note: you are using `conservative = T`.\n",
      "\n"
     ]
    },
    {
     "name": "stdout",
     "output_type": "stream",
     "text": [
      "================================================================================\n"
     ]
    },
    {
     "name": "stderr",
     "output_type": "stream",
     "text": [
      "R[write to console]: The conservative diff-in-transports estimator is -1.10233597517788e-05 at d = 50000\n",
      "\n"
     ]
    }
   ],
   "source": [
    "#3.5f\n",
    "#\n",
    "cols = ['bandwidth','main']\n",
    "bandwidth = []\n",
    "main = []\n",
    "\n",
    "for i in range(0,50000,2500):\n",
    "    bandwidth.append(diftrans.diftrans(pre_main = placebo_Beijing_1, post_main = placebo_Beijing_2, pre_control = placebo_Tianjin_1, post_control = placebo_Tianjin_2, bandwidth_seq = i, conservative = True)['bandwidth'].values)\n",
    "\n",
    "    \n",
    "dit_at_16666 = diftrans.diftrans(pre_main = placebo_Beijing_1, post_main = placebo_Beijing_2, pre_control = placebo_Tianjin_1, post_control = placebo_Tianjin_2, bandwidth_seq = 16666, conservative = True)\n",
    "print(dit_at_16666)\n",
    "dit_at_33333 = diftrans.diftrans(pre_main = placebo_Beijing_1, post_main = placebo_Beijing_2, pre_control = placebo_Tianjin_1, post_control = placebo_Tianjin_2, bandwidth_seq = 33333, conservative = True)\n",
    "print(dit_at_33333)\n",
    "dit_at_50000 = diftrans.diftrans(pre_main = placebo_Beijing_1, post_main = placebo_Beijing_2, pre_control = placebo_Tianjin_1, post_control = placebo_Tianjin_2, bandwidth_seq = 50000, conservative = True)\n",
    "print(dit_at_50000)\n",
    "\n",
    "\n",
    "cols = ['bandwidth','main','main2d','control','diff','diff2d']\n",
    "bandwidth3 = []\n",
    "main3 = []\n",
    "main2d = []\n",
    "control = []\n",
    "diff = []\n",
    "diff2d = []\n",
    "\n",
    "for i in range(0,52500, 2500):\n",
    "    bandwidth3.append(diftrans.diftrans(pre_main = placebo_Beijing_1, post_main = placebo_Beijing_2, pre_control = placebo_Tianjin_1, post_control = placebo_Tianjin_2, bandwidth_seq = i, conservative = True)['bandwidth'].values)\n",
    "    main3.append(diftrans.diftrans(pre_main = placebo_Beijing_1, post_main = placebo_Beijing_2, pre_control = placebo_Tianjin_1, post_control = placebo_Tianjin_2, bandwidth_seq = i, conservative = True)['main'].values)\n",
    "    main2d.append(diftrans.diftrans(pre_main = placebo_Beijing_1, post_main = placebo_Beijing_2, pre_control = placebo_Tianjin_1, post_control = placebo_Tianjin_2, bandwidth_seq = i, conservative = True)['main2d'].values)\n",
    "    control.append(diftrans.diftrans(pre_main = placebo_Beijing_1, post_main = placebo_Beijing_2, pre_control = placebo_Tianjin_1, post_control = placebo_Tianjin_2, bandwidth_seq = i, conservative = True)['control'].values)\n",
    "    diff.append(diftrans.diftrans(pre_main = placebo_Beijing_1, post_main = placebo_Beijing_2, pre_control = placebo_Tianjin_1, post_control = placebo_Tianjin_2, bandwidth_seq = i, conservative = True)['diff'].values)\n",
    "    diff2d.append(diftrans.diftrans(pre_main = placebo_Beijing_1, post_main = placebo_Beijing_2, pre_control = placebo_Tianjin_1, post_control = placebo_Tianjin_2, bandwidth_seq = i, conservative = True)['diff2d'].values)\n",
    "\n",
    "three_five_g = pd.DataFrame({'bandwidth': bandwidth3, 'main':main3, 'main2d':main2d, 'control':control, 'diff':diff,'diff2d':diff2d})    \n",
    "three_five_g = three_five_g.astype(float)\n"
   ]
  },
  {
   "cell_type": "code",
   "execution_count": 70,
   "metadata": {},
   "outputs": [
    {
     "data": {
      "text/plain": [
       "(array([ 0,  1,  2,  3,  4,  5,  6,  7,  8,  9, 10, 11, 12, 13, 14, 15, 16,\n",
       "        17, 18, 19, 20]),\n",
       " <a list of 21 Text major ticklabel objects>)"
      ]
     },
     "execution_count": 70,
     "metadata": {},
     "output_type": "execute_result"
    },
    {
     "data": {
      "image/png": "[encoded data removed]",
      "text/plain": [
       "<Figure size 432x288 with 1 Axes>"
      ]
     },
     "metadata": {
      "needs_background": "light"
     },
     "output_type": "display_data"
    }
   ],
   "source": [
    "#3.5g\n",
    "\n",
    "three_five_g['Dif-In-Transports'] = np.abs(three_five_g['diff2d'])\n",
    "#print(three_five_g)\n",
    "ax = sns.barplot(x = 'bandwidth', y = 'Dif-In-Transports', data = three_five_g)\n",
    "plt.xlabel('Bandwidth')\n",
    "plt.ylabel('Difference in Transports Estimator')\n",
    "plt.title('Difference-in-Transport Estimates in Absolute Value Form')\n",
    "plt.xticks(rotation=45)"
   ]
  },
  {
   "cell_type": "code",
   "execution_count": 76,
   "metadata": {},
   "outputs": [
    {
     "name": "stdout",
     "output_type": "stream",
     "text": [
      "    bandwidth      main  Dif-In-Transports\n",
      "0         0.0  0.012020           0.005913\n",
      "1      2500.0  0.003116           0.002972\n",
      "2      5000.0  0.001905           0.001124\n",
      "3      7500.0  0.000632           0.000899\n",
      "4     10000.0  0.000611           0.000301\n",
      "5     12500.0  0.000608           0.000418\n",
      "6     15000.0  0.000608           0.000470\n",
      "7     17500.0  0.000608           0.000301\n",
      "8     20000.0  0.000608           0.000298\n",
      "9     22500.0  0.000608           0.000253\n",
      "10    25000.0  0.000445           0.000193\n",
      "11    27500.0  0.000445           0.000193\n",
      "12    30000.0  0.000393           0.000178\n",
      "13    32500.0  0.000388           0.000169\n",
      "14    35000.0  0.000388           0.000185\n",
      "15    37500.0  0.000388           0.000185\n",
      "16    40000.0  0.000388           0.000185\n",
      "17    42500.0  0.000388           0.000185\n",
      "18    45000.0  0.000388           0.000185\n",
      "19    47500.0  0.000022           0.000011\n",
      "20    50000.0  0.000022           0.000011\n"
     ]
    }
   ],
   "source": [
    "#three_five_h\n",
    "three_five_h = three_five_g[['bandwidth','main','Dif-In-Transports']]\n",
    "print(three_five_h)"
   ]
  },
  {
   "cell_type": "code",
   "execution_count": null,
   "metadata": {},
   "outputs": [],
   "source": []
  }
 ],
 "metadata": {
  "kernelspec": {
   "display_name": "Python 3",
   "language": "python",
   "name": "python3"
  },
  "language_info": {
   "codemirror_mode": {
    "name": "ipython",
    "version": 3
   },
   "file_extension": ".py",
   "mimetype": "text/x-python",
   "name": "python",
   "nbconvert_exporter": "python",
   "pygments_lexer": "ipython3",
   "version": "3.6.5"
  }
 },
 "nbformat": 4,
 "nbformat_minor": 4
}
